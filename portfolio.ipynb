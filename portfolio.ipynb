{
  "nbformat": 4,
  "nbformat_minor": 0,
  "metadata": {
    "colab": {
      "name": "portfolio.ipynb",
      "version": "0.3.2",
      "provenance": [],
      "collapsed_sections": []
    },
    "kernelspec": {
      "name": "python3",
      "display_name": "Python 3"
    }
  },
  "cells": [
    {
      "metadata": {
        "id": "gH2rzAEiEPfW",
        "colab_type": "text"
      },
      "cell_type": "markdown",
      "source": [
        "The CSV file for Microsoft's stock contains the OHLCVA data where, \n",
        "\n",
        "\n",
        "\n",
        "* O: Open\n",
        "* H: High\n",
        "* L: Low\n",
        "* C: Close\n",
        "* V: Volume\n",
        "* A: Adjusted\n",
        "\n",
        "\n",
        "\n",
        "\n",
        "\n",
        "\n",
        "\n"
      ]
    },
    {
      "metadata": {
        "id": "GqRLj6oS_SLt",
        "colab_type": "code",
        "colab": {
          "resources": {
            "http://localhost:8080/nbextensions/google.colab/files.js": {
              "data": "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",
              "ok": true,
              "headers": [
                [
                  "content-type",
                  "application/javascript"
                ]
              ],
              "status": 200,
              "status_text": ""
            }
          },
          "base_uri": "https://localhost:8080/",
          "height": 73
        },
        "outputId": "1c423c04-d599-491f-93c4-a5a1c6279290"
      },
      "cell_type": "code",
      "source": [
        "from google.colab import files\n",
        "files.upload()\n",
        "import os\n",
        "#os.listdir()"
      ],
      "execution_count": 63,
      "outputs": [
        {
          "output_type": "display_data",
          "data": {
            "text/html": [
              "\n",
              "     <input type=\"file\" id=\"files-274dde5c-dddd-457e-bf1c-86e6e542ce53\" name=\"files[]\" multiple disabled />\n",
              "     <output id=\"result-274dde5c-dddd-457e-bf1c-86e6e542ce53\">\n",
              "      Upload widget is only available when the cell has been executed in the\n",
              "      current browser session. Please rerun this cell to enable.\n",
              "      </output>\n",
              "      <script src=\"/nbextensions/google.colab/files.js\"></script> "
            ],
            "text/plain": [
              "<IPython.core.display.HTML object>"
            ]
          },
          "metadata": {
            "tags": []
          }
        },
        {
          "output_type": "stream",
          "text": [
            "Saving StockPortfolio.csv to StockPortfolio.csv\n"
          ],
          "name": "stdout"
        }
      ]
    },
    {
      "metadata": {
        "id": "4c-rkvZqH_8Q",
        "colab_type": "code",
        "colab": {}
      },
      "cell_type": "code",
      "source": [
        "import matplotlib.pyplot as plt"
      ],
      "execution_count": 0,
      "outputs": []
    },
    {
      "metadata": {
        "id": "7vY22vyRBUad",
        "colab_type": "code",
        "colab": {
          "base_uri": "https://localhost:8080/",
          "height": 206
        },
        "outputId": "059c39fc-488b-4183-a01c-78081272301e"
      },
      "cell_type": "code",
      "source": [
        "import pandas as pd\n",
        "df_stock=pd.read_csv('MSFTPrices.csv.txt', parse_dates=['Date'])\n",
        "df_stock.head()"
      ],
      "execution_count": 29,
      "outputs": [
        {
          "output_type": "execute_result",
          "data": {
            "text/html": [
              "<div>\n",
              "<style scoped>\n",
              "    .dataframe tbody tr th:only-of-type {\n",
              "        vertical-align: middle;\n",
              "    }\n",
              "\n",
              "    .dataframe tbody tr th {\n",
              "        vertical-align: top;\n",
              "    }\n",
              "\n",
              "    .dataframe thead th {\n",
              "        text-align: right;\n",
              "    }\n",
              "</style>\n",
              "<table border=\"1\" class=\"dataframe\">\n",
              "  <thead>\n",
              "    <tr style=\"text-align: right;\">\n",
              "      <th></th>\n",
              "      <th>Date</th>\n",
              "      <th>Open</th>\n",
              "      <th>High</th>\n",
              "      <th>Low</th>\n",
              "      <th>Close</th>\n",
              "      <th>Volume</th>\n",
              "      <th>Adjusted</th>\n",
              "    </tr>\n",
              "  </thead>\n",
              "  <tbody>\n",
              "    <tr>\n",
              "      <th>0</th>\n",
              "      <td>2000-01-03</td>\n",
              "      <td>88.777</td>\n",
              "      <td>89.722</td>\n",
              "      <td>84.712</td>\n",
              "      <td>58.28125</td>\n",
              "      <td>53228400</td>\n",
              "      <td>38.527809</td>\n",
              "    </tr>\n",
              "    <tr>\n",
              "      <th>1</th>\n",
              "      <td>2000-01-04</td>\n",
              "      <td>85.893</td>\n",
              "      <td>88.588</td>\n",
              "      <td>84.901</td>\n",
              "      <td>56.31250</td>\n",
              "      <td>54119000</td>\n",
              "      <td>37.226345</td>\n",
              "    </tr>\n",
              "    <tr>\n",
              "      <th>2</th>\n",
              "      <td>2000-01-05</td>\n",
              "      <td>84.050</td>\n",
              "      <td>88.021</td>\n",
              "      <td>82.726</td>\n",
              "      <td>56.90625</td>\n",
              "      <td>64059600</td>\n",
              "      <td>37.618851</td>\n",
              "    </tr>\n",
              "    <tr>\n",
              "      <th>3</th>\n",
              "      <td>2000-01-06</td>\n",
              "      <td>84.853</td>\n",
              "      <td>86.130</td>\n",
              "      <td>81.970</td>\n",
              "      <td>55.00000</td>\n",
              "      <td>54976600</td>\n",
              "      <td>36.358688</td>\n",
              "    </tr>\n",
              "    <tr>\n",
              "      <th>4</th>\n",
              "      <td>2000-01-07</td>\n",
              "      <td>82.159</td>\n",
              "      <td>84.901</td>\n",
              "      <td>81.166</td>\n",
              "      <td>55.71875</td>\n",
              "      <td>62013600</td>\n",
              "      <td>36.833828</td>\n",
              "    </tr>\n",
              "  </tbody>\n",
              "</table>\n",
              "</div>"
            ],
            "text/plain": [
              "        Date    Open    High     Low     Close    Volume   Adjusted\n",
              "0 2000-01-03  88.777  89.722  84.712  58.28125  53228400  38.527809\n",
              "1 2000-01-04  85.893  88.588  84.901  56.31250  54119000  37.226345\n",
              "2 2000-01-05  84.050  88.021  82.726  56.90625  64059600  37.618851\n",
              "3 2000-01-06  84.853  86.130  81.970  55.00000  54976600  36.358688\n",
              "4 2000-01-07  82.159  84.901  81.166  55.71875  62013600  36.833828"
            ]
          },
          "metadata": {
            "tags": []
          },
          "execution_count": 29
        }
      ]
    },
    {
      "metadata": {
        "id": "ertdm8MABfqw",
        "colab_type": "code",
        "colab": {
          "base_uri": "https://localhost:8080/",
          "height": 240
        },
        "outputId": "af80d2e1-5f8b-4c90-fba8-f0133e57a963"
      },
      "cell_type": "code",
      "source": [
        "df_stock.info()"
      ],
      "execution_count": 30,
      "outputs": [
        {
          "output_type": "stream",
          "text": [
            "<class 'pandas.core.frame.DataFrame'>\n",
            "RangeIndex: 4561 entries, 0 to 4560\n",
            "Data columns (total 7 columns):\n",
            "Date        4561 non-null datetime64[ns]\n",
            "Open        4561 non-null float64\n",
            "High        4561 non-null float64\n",
            "Low         4561 non-null float64\n",
            "Close       4561 non-null float64\n",
            "Volume      4561 non-null int64\n",
            "Adjusted    4561 non-null float64\n",
            "dtypes: datetime64[ns](1), float64(5), int64(1)\n",
            "memory usage: 249.5 KB\n"
          ],
          "name": "stdout"
        }
      ]
    },
    {
      "metadata": {
        "id": "uTpd5TbzBhUH",
        "colab_type": "code",
        "colab": {}
      },
      "cell_type": "code",
      "source": [
        "df_stock = df_stock.sort_values(by='Date')"
      ],
      "execution_count": 0,
      "outputs": []
    },
    {
      "metadata": {
        "id": "oRbkY3FpC2PA",
        "colab_type": "code",
        "colab": {
          "base_uri": "https://localhost:8080/",
          "height": 206
        },
        "outputId": "d53983e8-8948-4246-8e1b-89fdfbb0725d"
      },
      "cell_type": "code",
      "source": [
        "df_stock.head()"
      ],
      "execution_count": 32,
      "outputs": [
        {
          "output_type": "execute_result",
          "data": {
            "text/html": [
              "<div>\n",
              "<style scoped>\n",
              "    .dataframe tbody tr th:only-of-type {\n",
              "        vertical-align: middle;\n",
              "    }\n",
              "\n",
              "    .dataframe tbody tr th {\n",
              "        vertical-align: top;\n",
              "    }\n",
              "\n",
              "    .dataframe thead th {\n",
              "        text-align: right;\n",
              "    }\n",
              "</style>\n",
              "<table border=\"1\" class=\"dataframe\">\n",
              "  <thead>\n",
              "    <tr style=\"text-align: right;\">\n",
              "      <th></th>\n",
              "      <th>Date</th>\n",
              "      <th>Open</th>\n",
              "      <th>High</th>\n",
              "      <th>Low</th>\n",
              "      <th>Close</th>\n",
              "      <th>Volume</th>\n",
              "      <th>Adjusted</th>\n",
              "    </tr>\n",
              "  </thead>\n",
              "  <tbody>\n",
              "    <tr>\n",
              "      <th>0</th>\n",
              "      <td>2000-01-03</td>\n",
              "      <td>88.777</td>\n",
              "      <td>89.722</td>\n",
              "      <td>84.712</td>\n",
              "      <td>58.28125</td>\n",
              "      <td>53228400</td>\n",
              "      <td>38.527809</td>\n",
              "    </tr>\n",
              "    <tr>\n",
              "      <th>1</th>\n",
              "      <td>2000-01-04</td>\n",
              "      <td>85.893</td>\n",
              "      <td>88.588</td>\n",
              "      <td>84.901</td>\n",
              "      <td>56.31250</td>\n",
              "      <td>54119000</td>\n",
              "      <td>37.226345</td>\n",
              "    </tr>\n",
              "    <tr>\n",
              "      <th>2</th>\n",
              "      <td>2000-01-05</td>\n",
              "      <td>84.050</td>\n",
              "      <td>88.021</td>\n",
              "      <td>82.726</td>\n",
              "      <td>56.90625</td>\n",
              "      <td>64059600</td>\n",
              "      <td>37.618851</td>\n",
              "    </tr>\n",
              "    <tr>\n",
              "      <th>3</th>\n",
              "      <td>2000-01-06</td>\n",
              "      <td>84.853</td>\n",
              "      <td>86.130</td>\n",
              "      <td>81.970</td>\n",
              "      <td>55.00000</td>\n",
              "      <td>54976600</td>\n",
              "      <td>36.358688</td>\n",
              "    </tr>\n",
              "    <tr>\n",
              "      <th>4</th>\n",
              "      <td>2000-01-07</td>\n",
              "      <td>82.159</td>\n",
              "      <td>84.901</td>\n",
              "      <td>81.166</td>\n",
              "      <td>55.71875</td>\n",
              "      <td>62013600</td>\n",
              "      <td>36.833828</td>\n",
              "    </tr>\n",
              "  </tbody>\n",
              "</table>\n",
              "</div>"
            ],
            "text/plain": [
              "        Date    Open    High     Low     Close    Volume   Adjusted\n",
              "0 2000-01-03  88.777  89.722  84.712  58.28125  53228400  38.527809\n",
              "1 2000-01-04  85.893  88.588  84.901  56.31250  54119000  37.226345\n",
              "2 2000-01-05  84.050  88.021  82.726  56.90625  64059600  37.618851\n",
              "3 2000-01-06  84.853  86.130  81.970  55.00000  54976600  36.358688\n",
              "4 2000-01-07  82.159  84.901  81.166  55.71875  62013600  36.833828"
            ]
          },
          "metadata": {
            "tags": []
          },
          "execution_count": 32
        }
      ]
    },
    {
      "metadata": {
        "id": "ObNzcrtuDi02",
        "colab_type": "text"
      },
      "cell_type": "markdown",
      "source": [
        "In this dataframe, the adjusted price is the most important value of the stock. Because the adjusted value is normalized for stock spits, Dividends, etc. We will be using the adjusted close price of the stock to calculate the returns of the stock.\n",
        "\n",
        "Let's calculate the daily change in the stock prices first."
      ]
    },
    {
      "metadata": {
        "id": "BRsKdwJDGJeH",
        "colab_type": "code",
        "colab": {}
      },
      "cell_type": "code",
      "source": [
        "df_stock['Returns'] = df_stock['Adjusted'].pct_change()\n",
        "# convert decimal returns to percent returns\n",
        "percent_returns = df_stock['Returns']*100"
      ],
      "execution_count": 0,
      "outputs": []
    },
    {
      "metadata": {
        "id": "BgRO6p_nGobD",
        "colab_type": "code",
        "colab": {
          "base_uri": "https://localhost:8080/",
          "height": 206
        },
        "outputId": "492a6e84-ce03-4289-fc2c-a45e3f605c83"
      },
      "cell_type": "code",
      "source": [
        "df_stock.head()"
      ],
      "execution_count": 34,
      "outputs": [
        {
          "output_type": "execute_result",
          "data": {
            "text/html": [
              "<div>\n",
              "<style scoped>\n",
              "    .dataframe tbody tr th:only-of-type {\n",
              "        vertical-align: middle;\n",
              "    }\n",
              "\n",
              "    .dataframe tbody tr th {\n",
              "        vertical-align: top;\n",
              "    }\n",
              "\n",
              "    .dataframe thead th {\n",
              "        text-align: right;\n",
              "    }\n",
              "</style>\n",
              "<table border=\"1\" class=\"dataframe\">\n",
              "  <thead>\n",
              "    <tr style=\"text-align: right;\">\n",
              "      <th></th>\n",
              "      <th>Date</th>\n",
              "      <th>Open</th>\n",
              "      <th>High</th>\n",
              "      <th>Low</th>\n",
              "      <th>Close</th>\n",
              "      <th>Volume</th>\n",
              "      <th>Adjusted</th>\n",
              "      <th>Returns</th>\n",
              "    </tr>\n",
              "  </thead>\n",
              "  <tbody>\n",
              "    <tr>\n",
              "      <th>0</th>\n",
              "      <td>2000-01-03</td>\n",
              "      <td>88.777</td>\n",
              "      <td>89.722</td>\n",
              "      <td>84.712</td>\n",
              "      <td>58.28125</td>\n",
              "      <td>53228400</td>\n",
              "      <td>38.527809</td>\n",
              "      <td>NaN</td>\n",
              "    </tr>\n",
              "    <tr>\n",
              "      <th>1</th>\n",
              "      <td>2000-01-04</td>\n",
              "      <td>85.893</td>\n",
              "      <td>88.588</td>\n",
              "      <td>84.901</td>\n",
              "      <td>56.31250</td>\n",
              "      <td>54119000</td>\n",
              "      <td>37.226345</td>\n",
              "      <td>-0.033780</td>\n",
              "    </tr>\n",
              "    <tr>\n",
              "      <th>2</th>\n",
              "      <td>2000-01-05</td>\n",
              "      <td>84.050</td>\n",
              "      <td>88.021</td>\n",
              "      <td>82.726</td>\n",
              "      <td>56.90625</td>\n",
              "      <td>64059600</td>\n",
              "      <td>37.618851</td>\n",
              "      <td>0.010544</td>\n",
              "    </tr>\n",
              "    <tr>\n",
              "      <th>3</th>\n",
              "      <td>2000-01-06</td>\n",
              "      <td>84.853</td>\n",
              "      <td>86.130</td>\n",
              "      <td>81.970</td>\n",
              "      <td>55.00000</td>\n",
              "      <td>54976600</td>\n",
              "      <td>36.358688</td>\n",
              "      <td>-0.033498</td>\n",
              "    </tr>\n",
              "    <tr>\n",
              "      <th>4</th>\n",
              "      <td>2000-01-07</td>\n",
              "      <td>82.159</td>\n",
              "      <td>84.901</td>\n",
              "      <td>81.166</td>\n",
              "      <td>55.71875</td>\n",
              "      <td>62013600</td>\n",
              "      <td>36.833828</td>\n",
              "      <td>0.013068</td>\n",
              "    </tr>\n",
              "  </tbody>\n",
              "</table>\n",
              "</div>"
            ],
            "text/plain": [
              "        Date    Open    High     Low     Close    Volume   Adjusted   Returns\n",
              "0 2000-01-03  88.777  89.722  84.712  58.28125  53228400  38.527809       NaN\n",
              "1 2000-01-04  85.893  88.588  84.901  56.31250  54119000  37.226345 -0.033780\n",
              "2 2000-01-05  84.050  88.021  82.726  56.90625  64059600  37.618851  0.010544\n",
              "3 2000-01-06  84.853  86.130  81.970  55.00000  54976600  36.358688 -0.033498\n",
              "4 2000-01-07  82.159  84.901  81.166  55.71875  62013600  36.833828  0.013068"
            ]
          },
          "metadata": {
            "tags": []
          },
          "execution_count": 34
        }
      ]
    },
    {
      "metadata": {
        "id": "Sj6RLz3QGq1K",
        "colab_type": "code",
        "colab": {
          "base_uri": "https://localhost:8080/",
          "height": 382
        },
        "outputId": "d5a56a3d-6b0e-4120-c996-aca35ca51eb4"
      },
      "cell_type": "code",
      "source": [
        "df_stock['Returns'].plot()\n",
        "plt.xlabel('Day Number', fontsize=13)\n",
        "plt.ylabel('Change over yesterday',fontsize=13)"
      ],
      "execution_count": 35,
      "outputs": [
        {
          "output_type": "execute_result",
          "data": {
            "text/plain": [
              "Text(0,0.5,'Change over yesterday')"
            ]
          },
          "metadata": {
            "tags": []
          },
          "execution_count": 35
        },
        {
          "output_type": "display_data",
          "data": {
            "image/png": "[encoded data removed]",
            "text/plain": [
              "<matplotlib.figure.Figure at 0x7ff06edc26d8>"
            ]
          },
          "metadata": {
            "tags": []
          }
        }
      ]
    },
    {
      "metadata": {
        "id": "SCxQMNJGHYtZ",
        "colab_type": "text"
      },
      "cell_type": "markdown",
      "source": [
        "Dropping Null values from percent returns."
      ]
    },
    {
      "metadata": {
        "id": "Gsb8pj46KRVO",
        "colab_type": "code",
        "colab": {}
      },
      "cell_type": "code",
      "source": [
        "percent_returns.dropna(inplace=True)"
      ],
      "execution_count": 0,
      "outputs": []
    },
    {
      "metadata": {
        "id": "N-MpxuiIKfx5",
        "colab_type": "code",
        "colab": {
          "base_uri": "https://localhost:8080/",
          "height": 365
        },
        "outputId": "50349026-c0b0-4517-c0e3-efdcd5a5bd1a"
      },
      "cell_type": "code",
      "source": [
        "plt.hist(percent_returns, bins=75)\n",
        "plt.xlabel('Percent change', fontsize=14)\n",
        "plt.ylabel('Number of days', fontsize=14)\n",
        "plt.show()\n"
      ],
      "execution_count": 37,
      "outputs": [
        {
          "output_type": "display_data",
          "data": {
            "image/png": "[encoded data removed]",
            "text/plain": [
              "<matplotlib.figure.Figure at 0x7ff06ed93da0>"
            ]
          },
          "metadata": {
            "tags": []
          }
        }
      ]
    },
    {
      "metadata": {
        "id": "ELGNJItpLEz6",
        "colab_type": "text"
      },
      "cell_type": "markdown",
      "source": [
        "Moments of a distribution:\n",
        "\n",
        "\n",
        "\n",
        "1.   Mean\n",
        "2.   Variance\n",
        "3. Skewness\n",
        "4. Kurtosis\n",
        "\n",
        "\n"
      ]
    },
    {
      "metadata": {
        "id": "jbUsWXecPQHb",
        "colab_type": "text"
      },
      "cell_type": "markdown",
      "source": [
        "Normal distributions tend to have a skewness of 0 and kurtosis of 3.\n",
        "\n",
        "Financial returns however, tend to have positive skewness and kurtosis > 3\n",
        "\n",
        "This means financial returns have a higher probability of outliers and better or worse returns than a normal distribution."
      ]
    },
    {
      "metadata": {
        "id": "y19eHxj-wHVY",
        "colab_type": "text"
      },
      "cell_type": "markdown",
      "source": [
        "A long term investor is not very interested in the daily fluctuations of the stocks. They're more interested in the annualized return. Let's calculate that using the following formula:\n",
        "\n",
        "\n",
        "\n",
        "```\n",
        "Average annualized return = ((1+mu)^252) - 1\n",
        "```\n",
        "\n"
      ]
    },
    {
      "metadata": {
        "id": "r0_O5YYs2qFJ",
        "colab_type": "code",
        "colab": {
          "base_uri": "https://localhost:8080/",
          "height": 54
        },
        "outputId": "3356c0d2-4228-4bd2-9704-2a3232a86b2e"
      },
      "cell_type": "code",
      "source": [
        "import numpy as np\n",
        "\n",
        "mean_return_daily = np.mean(df_stock['Returns'])\n",
        "\n",
        "print('Mean daily return is {}'.format(mean_return_daily * 100))\n",
        "\n",
        "mean_annualized_return = ((1+mean_return_daily)**252) - 1\n",
        "\n",
        "print('Mean annualized return is {}'.format(mean_annualized_return * 100))"
      ],
      "execution_count": 38,
      "outputs": [
        {
          "output_type": "stream",
          "text": [
            "Mean daily return is 0.03777754643575774\n",
            "Mean annualized return is 9.985839482858783\n"
          ],
          "name": "stdout"
        }
      ]
    },
    {
      "metadata": {
        "id": "qjszWDTV3HRv",
        "colab_type": "text"
      },
      "cell_type": "markdown",
      "source": [
        "Thus, mean daily return of 0.03% becomes an annualized return of 9.98%. Now let's calculate the second moment - Variance."
      ]
    },
    {
      "metadata": {
        "id": "OwFq9WE94uKQ",
        "colab_type": "code",
        "colab": {
          "base_uri": "https://localhost:8080/",
          "height": 54
        },
        "outputId": "2ce7b653-d5d1-403f-f747-d6436468aab7"
      },
      "cell_type": "code",
      "source": [
        "std_daily = np.std(df_stock['Returns'])\n",
        "print('The daily standard deviation is {}'.format(std_daily))\n",
        "var_daily = std_daily ** 2\n",
        "print('The daily variance is {}'.format(var_daily))"
      ],
      "execution_count": 39,
      "outputs": [
        {
          "output_type": "stream",
          "text": [
            "The daily standard deviation is 0.019341100408708317\n",
            "The daily variance is 0.00037407816501973704\n"
          ],
          "name": "stdout"
        }
      ]
    },
    {
      "metadata": {
        "id": "WrTeREPd3uQ_",
        "colab_type": "text"
      },
      "cell_type": "markdown",
      "source": [
        "We can't annualize volaility (standard deviation) the same way we annualized the mean. We use the following formula to annualize sigma:\n",
        "\n",
        "```\n",
        "sigma_annualized = sigma_daily * sqrt(Number_of_trading_days)\n",
        "```\n",
        "\n",
        "And annualized variance will be the square of annualized standard deviation.\n",
        "    "
      ]
    },
    {
      "metadata": {
        "id": "NrBL-LXK4ZPY",
        "colab_type": "code",
        "colab": {
          "base_uri": "https://localhost:8080/",
          "height": 54
        },
        "outputId": "050e647f-1605-4406-a4b2-0776e4e482cd"
      },
      "cell_type": "code",
      "source": [
        "std_annualized = std_daily * np.sqrt(252)\n",
        "print('The annualized std is {}%'.format(std_annualized*100))\n",
        "variance_annualized = std_annualized ** 2\n",
        "print('The annualized variance is {}%'.format(variance_annualized*100))"
      ],
      "execution_count": 40,
      "outputs": [
        {
          "output_type": "stream",
          "text": [
            "The annualized std is 30.70304505826315%\n",
            "The annualized variance is 9.426769758497374%\n"
          ],
          "name": "stdout"
        }
      ]
    },
    {
      "metadata": {
        "id": "tU44wh3PyE0B",
        "colab_type": "text"
      },
      "cell_type": "markdown",
      "source": [
        "Let's calculate the third moment - Skewness\n",
        "\n",
        "For a stock, we would want positive skewness, i.e. a curve leaning towards the left. It means the probability of getting large positive returns is high, while the negative returns are closely clustered and predictable.\n",
        "\n",
        "Data which are normal distribution would have a skew closer to 0."
      ]
    },
    {
      "metadata": {
        "id": "FVPd5mVPyEXZ",
        "colab_type": "code",
        "colab": {
          "base_uri": "https://localhost:8080/",
          "height": 36
        },
        "outputId": "04a93178-5293-4237-96d8-cb7d5b9e8fa4"
      },
      "cell_type": "code",
      "source": [
        "from scipy.stats import skew\n",
        "\n",
        "clean_returns = df_stock['Returns'].dropna()\n",
        "\n",
        "print('The skew of the returns of MSFT stock is {}'.format(skew(clean_returns)))"
      ],
      "execution_count": 41,
      "outputs": [
        {
          "output_type": "stream",
          "text": [
            "The skew of the returns of MSFT stock is 0.21935459193067852\n"
          ],
          "name": "stdout"
        }
      ]
    },
    {
      "metadata": {
        "id": "xZl38fk05s5A",
        "colab_type": "text"
      },
      "cell_type": "markdown",
      "source": [
        "Let's look at Kurtosis. Most financial returns are Letptokurtic. Meaning - it means that they tend to have positive excess kurtosis, or kurtosis > 3. \n",
        "\n",
        "Excess kurtosis: Subtract 3 from the sample kurtosis to calculate excess kurtosis.\n",
        "\n",
        "If excess Kurtosis is greater than 0, the kutosis is higher than  a normal distribution. The kurtosis function from scipy calculates excess kurtosis.\n",
        "\n",
        "In Finance, high excess kurtosis is an indication of high risk."
      ]
    },
    {
      "metadata": {
        "id": "B9JRWtMGyDU_",
        "colab_type": "code",
        "colab": {
          "base_uri": "https://localhost:8080/",
          "height": 54
        },
        "outputId": "fd3da855-c826-4043-9169-132f61f612d1"
      },
      "cell_type": "code",
      "source": [
        "from scipy.stats import kurtosis\n",
        "\n",
        "excess_kurtosis = kurtosis(clean_returns)\n",
        "\n",
        "print('Excess kurtosis is {}'.format(excess_kurtosis))\n",
        "\n",
        "forth_moment_kurtosis = excess_kurtosis + 3\n",
        "\n",
        "print('Forth moment - kurtosis is {}'.format(forth_moment_kurtosis))"
      ],
      "execution_count": 42,
      "outputs": [
        {
          "output_type": "stream",
          "text": [
            "Excess kurtosis is 10.31457261802553\n",
            "Forth moment - kurtosis is 13.31457261802553\n"
          ],
          "name": "stdout"
        }
      ]
    },
    {
      "metadata": {
        "id": "-4nDwPcwz_yS",
        "colab_type": "text"
      },
      "cell_type": "markdown",
      "source": [
        "Let's do a statistical test of normality to be sure whether the stock data are really normally distributed. The Shapiro-Wilk test is used to do just that.\n",
        "\n",
        "The shapiro function will return two values: t-stat & p-value\n",
        "\n",
        "if the p-value is low, we can safely reject the null hypothesis that the data are normally distributed."
      ]
    },
    {
      "metadata": {
        "id": "5gOTeuAB01mS",
        "colab_type": "code",
        "colab": {
          "base_uri": "https://localhost:8080/",
          "height": 36
        },
        "outputId": "f685ff6f-03f5-4e9e-f5e8-d5613fada75f"
      },
      "cell_type": "code",
      "source": [
        "from scipy.stats import shapiro\n",
        "\n",
        "shapiro_result = shapiro(clean_returns)\n",
        "\n",
        "print('The p-value is {}'.format(shapiro_result[1]))"
      ],
      "execution_count": 43,
      "outputs": [
        {
          "output_type": "stream",
          "text": [
            "The p-value is 0.0\n"
          ],
          "name": "stdout"
        }
      ]
    },
    {
      "metadata": {
        "id": "_vMxQxyy1d4V",
        "colab_type": "text"
      },
      "cell_type": "markdown",
      "source": [
        "The p-value given by the test is 0.0 which is strong evidence against the null hypothesis. Thus we can be sure that the stock data are not normally distributed. "
      ]
    },
    {
      "metadata": {
        "id": "6-FNPaGBinrO",
        "colab_type": "text"
      },
      "cell_type": "markdown",
      "source": [
        "Let's now construct a portfolio. \n",
        "\n",
        "Apple \tAAPL \t12%\n",
        "\n",
        "Microsoft \tMSFT \t15%\n",
        "\n",
        "Exxon Mobil \tXOM \t8%\n",
        "\n",
        "Johnson & Johnson \tJNJ \t5%\n",
        "\n",
        "JP Morgan \tJPM \t9%\n",
        "\n",
        "Amazon \tAMZN \t10%\n",
        "\n",
        "General Electric \tGE \t11%\n",
        "\n",
        "Facebook \tFB \t14%\n",
        "\n",
        "AT&T \tT \t16%"
      ]
    },
    {
      "metadata": {
        "id": "vIyznubEneJM",
        "colab_type": "code",
        "colab": {
          "resources": {
            "http://localhost:8080/nbextensions/google.colab/files.js": {
              "data": "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",
              "ok": true,
              "headers": [
                [
                  "content-type",
                  "application/javascript"
                ]
              ],
              "status": 200,
              "status_text": "OK"
            }
          },
          "base_uri": "https://localhost:8080/",
          "height": 111
        },
        "outputId": "a514a913-343b-4a72-83c9-79bfa9cc3cfb"
      },
      "cell_type": "code",
      "source": [
        "files.upload()"
      ],
      "execution_count": 44,
      "outputs": [
        {
          "output_type": "display_data",
          "data": {
            "text/html": [
              "\n",
              "     <input type=\"file\" id=\"files-d467e4ec-e148-4801-bbb4-487014d1dee3\" name=\"files[]\" multiple disabled />\n",
              "     <output id=\"result-d467e4ec-e148-4801-bbb4-487014d1dee3\">\n",
              "      Upload widget is only available when the cell has been executed in the\n",
              "      current browser session. Please rerun this cell to enable.\n",
              "      </output>\n",
              "      <script src=\"/nbextensions/google.colab/files.js\"></script> "
            ],
            "text/plain": [
              "<IPython.core.display.HTML object>"
            ]
          },
          "metadata": {
            "tags": []
          }
        },
        {
          "output_type": "stream",
          "text": [
            "Saving StockReturns.txt to StockReturns.txt\n"
          ],
          "name": "stdout"
        },
        {
          "output_type": "execute_result",
          "data": {
            "text/plain": [
              "{'StockReturns.txt': b'Date,AAPL,MSFT,XOM,JNJ,JPM,AMZN,GE,FB,T,Portfolio\\n2017-01-03,0.0028492268058038,0.007080940247811359,0.00697975033897991,0.0054681996135828,0.0108936040009637,0.00506752907215602,0.00284809293644317,0.0157322725145865,0.0115212975553634,0.008082231512877031\\n2017-01-04,-0.0011192771163496301,-0.00447437162948028,-0.0110022840351952,-0.00164022016332088,0.0018444508228325801,0.0046572240890214705,0.000315610854184856,0.015659772243198998,-0.00581118811316039,0.00016135546349395314\\n2017-01-05,0.00508529881522057,0.0,-0.0149070859852967,0.0104626643831169,-0.00920498131362091,0.0307324800115263,-0.0056782494529598,0.0166820790853133,-0.00280559598746111,0.0034475901552098328\\n2017-01-06,0.0111484089785916,0.00866776630693833,-0.000564712935656742,-0.0047919770152348206,0.00011614164236206599,0.0199115609725944,0.00285528844735783,0.022706605166265,-0.0199242584807071,0.004659932078502812\\n2017-01-09,0.00915948080060547,-0.0031826351955934803,-0.0164972072246271,-0.000172115757497648,0.000696578964996419,0.00116834760698437,-0.00474538587992734,0.0120735592877868,-0.0125846562263345,-0.0013723522242786764\\n2017-01-10,0.0010084343229528302,-0.00031932230342657204,-0.0127527590513821,-0.00103193993101036,0.00290096941096607,-0.00127987630095605,-0.0028606680146499,-0.00440355477336185,0.000245046021916551,-0.0017575681169048906\\n2017-01-11,0.00537323222438002,0.00910251005598517,0.0102408954620863,-0.0123106118014539,0.00752053514925421,0.003920085319660821,0.00318777169396012,0.0139927465057137,-0.00490069910692492,0.004808289657644092\\n2017-01-12,-0.00417543661396236,-0.00917864073257479,-0.00541411339687714,-0.000958816838183441,-0.009646392033233921,0.0182974076168954,-0.00254214017295207,0.00420340246501394,0.00984959077942005,0.00048742251226187414\\n2017-01-13,-0.0017609702557441801,0.0014374748712993,0.00011583595854958201,-0.000174368250881796,0.005334036049020829,0.004301656673068029,-0.00095574877208493,0.0135838963769415,-0.0012190845317599,0.0025166417786250317\\n2017-01-17,0.008064523455365121,-0.0027113637827934603,0.0116965586872348,0.00235596768636803,-0.0363321674844685,-0.00908050500990332,-0.0028698231253430104,-0.0036620929924293705,0.0036621283759832295,-0.002805817270641042\\n2017-01-18,-8.33522719433377e-05,-0.000479661827652356,-0.012362691249352,-0.00148001898415362,0.0046679677253032,-0.00276637736529295,-0.00127926638505915,0.000390983020466473,-0.00754070487056469,-0.0022939828959704527\\n2017-01-19,-0.00175017801198196,-0.0032001291851354603,-0.0179645324134591,-0.00435913665022436,-0.007624564973577001,0.0019319339657188899,-0.0006404525018864901,-0.00289239372877415,0.00490192578178283,-0.002529254387996783\\n2017-01-20,0.00183675187485055,0.007062622566373241,0.0136904106232061,-0.00043789452471632,0.00444167394744532,-0.000877535127194906,-0.0217877371092706,-0.003998447573537071,0.010975692093696999,0.001464815868785876\\n2017-01-23,0.000666673643862969,0.0035065049450941897,-0.010711337970698,-0.00210239119658351,0.000478114400100926,0.0118144666153106,-0.0255487001933797,0.0148771409408286,0.0132689224580835,0.0022638972428204096\\n2017-01-24,-0.0009160432410337821,0.00889460285844246,0.0014121224550511801,-0.0188745095579322,0.0120655444889755,0.00557538633066357,0.00840328980333194,0.00341272026595085,-0.0152380920423201,0.0010009951842523675\\n2017-01-25,0.015920650498054,0.00251883185384894,0.0029380834493542,0.00930555614325956,0.015462611022246,0.017119811737951,0.012333425158103997,0.0163098174348697,0.000725388002861482,0.00984835677548341\\n2017-01-26,0.000492324026806212,0.00926509980680157,0.0030467557316984396,-0.00851069590860543,0.00836923808615775,0.00314398213685307,-0.00164643672264297,0.0098874584693478,0.00918099490906665,0.0050067744904507185\\n2017-01-27,8.18923114431769e-05,0.0234947080296461,-0.00105132775518879,0.0137696493716464,0.0020749261427610603,-0.004027890011715,-0.0102242333071147,-0.00451879804578104,0.00574561350168179,0.003084364651741432\\n2017-01-30,-0.0026240538481349103,-0.00988155281031111,-0.0076014628757009595,-0.00220497083507643,-0.0103532192681284,-0.0064491604999185,-0.00166611797394756,-0.00907850706271407,-0.00452274956575816,-0.006270094635691667\\n2017-01-31,-0.00230201662239127,-0.007369795872948391,-0.0114307023340959,0.0010608102982112599,-0.0162733943660053,-0.00830947874280763,-0.00867818899667328,-0.0050388534139213,0.00813019253026859,-0.004897889877407628\\n2017-02-01,0.0609806317742938,-0.0165506477280545,-0.0113243487317228,-0.00017655053979837,0.00378111637570355,0.0107713559715199,-0.000336687634485133,0.0223295644850603,-0.00237193695803128,0.00804733277397472\\n2017-02-02,-0.00170872213595774,-0.00644863163950626,0.00614896111170271,0.00300270075915732,-0.00423778371718386,0.00913081782800473,-0.000336871241990888,-0.0179389031881378,-0.02092255246298,-0.005894718904127949\\n2017-02-03,0.00427917669434152,0.00807345849037588,0.00107841420683785,0.000616313067181684,0.030618357142580002,-0.0354187744210663,0.000673899290509539,0.0010700092042190698,0.0016999022960990698,0.0015512980454316166\\n2017-02-06,0.00937402007589583,-0.000628037107497481,-0.00275307201675612,-0.00211189906701648,-0.00470295321526459,-0.00315970990136205,-0.00134682072506465,0.00824554919058018,-0.00460605203294717,0.00023485763043411235\\n2017-02-07,0.00951725614475696,-0.00329986001063409,-0.00648169840958379,0.000705522980928741,-0.0005761851560440731,0.00601751387962124,-0.00337162788453549,-0.00166592460496628,0.0014611966043682801,0.0003434096806783548\\n2017-02-08,0.0038775866912015297,-0.0014188431437651698,-0.00658372314270828,-0.000705025569187501,-0.00876386292743792,0.00887387323076916,-0.0043977752352347705,0.0179004935649421,0.00218878876688278,0.002161694487028188\\n2017-02-09,0.00722578462963153,0.011367083769844999,0.00441816919215787,0.00599653559479707,0.0144253510851216,0.0020128618117591897,0.00543660150375724,-0.00044707899658158495,0.00242661648717468,0.005648698558821702\\n2017-02-10,-0.00226544167823983,-0.0009366037705716981,0.00830883704965402,0.0101681534620714,-0.00229368023262266,0.0074267521079687294,0.00439338683040669,0.000372767260867546,0.00169457814935936,0.0021036075317258807\\n2017-02-13,0.00885546666281201,0.011250118862340001,0.00581682228980585,0.00555367121359307,0.0132184231989292,0.0109612630929015,0.0107672105244074,-0.00104328935027509,-0.0176414397849584,0.003994689852999299\\n2017-02-14,0.0129793754335323,0.0037306978091766795,-0.0021686418082980104,0.00414220417003519,0.0159954747441453,-0.000167374744654891,0.00798932378970485,-0.0014919581911534401,0.00246004582705672,0.004637162642181013\\n2017-02-15,0.00362903021944594,-0.0006194429181619611,0.00410525964064856,0.007219021465745709,0.0115006752806546,0.0075443236849259705,0.0023117386446596102,-0.0030631601167057103,0.009079634021001091,0.004099622454833832\\n2017-02-16,-0.0011807898592626198,-0.000154984403468172,-0.0103414950804688,0.00750852525479195,-0.000662286600443318,0.00170879670047985,0.00329494049686718,0.0029975569095090897,0.00316154967114324,0.0007823874580480206\\n2017-02-17,0.0027338041292210803,0.0015499260371181199,-0.00656123598230285,0.0066056959268248104,-0.0033137518125080398,0.0011017034893199302,-0.00262726138558667,-0.0023161761003042103,0.00557579819142373,0.0004567283088082031\\n2017-02-21,0.007220737804310759,-0.00201178572917082,0.0015898321108107599,0.00673068631876816,0.008644517962056009,0.0134545006991356,0.0049390699324460795,0.00142291620926316,0.00602691343668482,0.00485871036017902\\n2017-02-22,0.00299911941760889,-0.00201582533866196,-0.0117230307730811,-0.00117008238830385,0.00054935287990121,-0.0009691478656551619,-0.00622543029176426,0.017947905938169997,-0.0033547432418957698,0.000304851501224093\\n2017-02-23,-0.00423007228566186,0.00403981005981224,0.0105029266705539,0.0182395775767716,0.000768696463024909,-0.00399712843463373,-0.00232641581619109,-0.00558326497146855,0.00865583396659675,0.0018674162842530367\\n2017-02-24,0.0009521679552995099,0.0,-0.00855942872539406,0.0151365521233147,-0.00877854368341291,-0.00815547235204483,0.0056629234753746704,0.000591023931803658,0.009773621836259629,0.0008501617226037731\\n2017-02-27,0.00197557775640589,-0.0060352149950941795,0.00567340772367175,-0.0026888116919801,0.00110696537869637,0.00402255577140864,-0.00828084770841842,0.0071618575433865,-0.0127480489791841,-0.00179481945249852\\n2017-02-28,0.000438412973670976,-0.0038924050059481203,-0.00269819524643256,-0.00155234122537484,0.00210116073162192,-0.00424212497215315,-0.00434213712788512,-0.0063779119895046605,-0.000717308535244654,-0.0025451440346415505\\n2017-03-01,0.0204392057495655,0.0150048580896709,0.0209051245976153,0.0135013805358195,0.0328844912797117,0.00951438891569212,0.0127474811656951,0.0138704817551525,0.005982407260481271,0.015263231040366773\\n2017-03-02,-0.00593739595370557,-0.0143209601012805,0.00337281358836794,-0.00185697767136495,-0.0155983418081331,-0.00488822140584733,0.0,-0.0048028162538613604,0.000713479608452916,-0.005134565767640391\\n2017-03-03,0.00590091261394643,0.00374934831441531,-0.0100841783669846,0.0012942578907457801,0.007163010853101779,0.00114267947232594,-0.00231860721766208,0.00299797466357021,-0.00142621683490862,0.0012239042753977648\\n2017-03-06,-0.00314771795244861,0.00031127198007774304,0.00448710918132433,-0.000646292476235821,-0.009482708307442909,-0.0038476255244996897,-0.003984075917946471,0.00182255597904146,-0.00119016563027785,-0.0016161045614606106\\n2017-03-07,0.0012918272447299802,0.00202272564846595,-0.00374276354092506,0.0009701029731010721,-0.005548344571322921,-0.000696855707412958,-0.004666617791453279,-0.000873198964825961,-0.0019065992698300601,-0.0013021560954501249\\n2017-03-08,-0.0037270642285329703,0.00916141300535323,-0.0180561174683604,0.0021803739702444,-0.0021878743272100197,0.0052953593225844,-0.00200950436104241,0.00305898026819418,-0.00262642173789085,-0.00028889493299806145\\n2017-03-09,-0.00230227801820382,-0.00400036646449009,0.00789827448041502,0.014907234141375,0.00394684254166111,0.00293944738389174,-0.00469790304331752,0.00377580595573779,0.00406989874076014,0.0018130831983426395\\n2017-03-10,0.0033169863393731603,0.00308962138530466,-0.0007345891076361299,0.0020644551555841803,-0.00316698914259705,-0.000633033997655352,0.0209035390680281,0.0039785010135091605,0.009775751104738491,0.00497810439122206\\n2017-03-13,0.000431223215324517,-0.00338827433927491,-0.0023282654347383,0.00372385769332562,0.000876496955974693,0.00249865676398842,-0.0138704650357907,0.00583624930365123,0.00047235349982299696,-0.0007609120041826383\\n2017-03-14,-0.00150859420928418,-0.00463601500649991,-0.00528125637202437,0.0029207745786326,0.00164191284894999,-0.00241051022702832,-0.0107167678939178,-0.00200572340949612,-0.006608536034813479,-0.0037631857144473126\\n2017-03-15,0.0105764580333847,0.0052786369059814,0.0124707152647896,0.015033493146533,0.00240404835145558,0.000516042819648233,0.00744751109457176,0.0028710449318307698,0.0118792595912292,0.00720012505746489\\n2017-03-16,0.0016373018014976802,-0.00169887827929582,0.000853647681150038,-0.0038771149423625396,-0.000981133916151955,0.000527582465151166,-0.000336025451626143,0.00193246491602883,-0.0035219472481348205,-0.0005493925354157454\\n2017-03-17,-0.00497550134077485,0.0035582120393968797,-0.0008529195883213441,-0.00311393845129193,-0.0104757176675699,-0.00130063160238891,0.0043697297201856795,-0.00107156935954089,0.00400564789513402,-0.0003885823728277929\\n2017-03-20,0.0105008996958462,0.000924922363509717,0.0,7.82260021612302e-05,-0.0071681517081975095,0.00546746255580133,-0.00468542882264933,0.000715145901462932,-0.00445903924750324,0.0001756471960912858\\n2017-03-21,-0.0114521109217363,-0.0110888592430259,-0.00207314979975781,-0.0064027852237466,-0.029323584438376,-0.0160681931292549,-0.0117686266035701,-0.0102187150175973,-0.008014998534202959,-0.011777084148938332\\n2017-03-22,0.0112985879127776,0.0127705461305863,-0.000855332202516434,-0.007780030394403891,0.00160196851283656,0.00576374043030725,0.004763545802330521,0.00779727845633094,-0.0102186120234377,0.00351516668077842\\n2017-03-23,-0.00353549316122559,-0.00246035463834204,0.0012229927518023801,-0.00285127101316396,-0.0015994063142819,-0.000801821806951875,0.00304774878801584,-0.000429808737869797,0.0,-0.0007870861112129722\\n2017-03-24,-0.00198701848708605,0.00169573559153147,-0.0076960572836785,-0.00333595257840025,-0.0011442180937674099,-0.00208881492312285,0.00337610192239768,0.00580518172296407,0.0007201604913220639,0.0002208971192039951\\n2017-03-27,0.00170663322744247,0.00184654036184173,0.00024616379717556897,0.00255017221743192,-0.000572846410136219,0.00143094573321534,-0.00942127122882552,-0.000142432667591175,-0.0045583565782728605,-0.0010651003085329577\\n2017-03-28,0.020726746982641996,0.00291866999682888,0.00726154127452894,-0.00111274310316301,0.0155892304186642,0.0108405480788316,0.006114131914162661,0.0102621716659408,0.00168720093648544,0.008316592523435749\\n2017-03-29,0.00222532294425459,0.0027571521893217103,0.00219946900025225,-0.0058890874316449605,-0.00372474216130936,0.0214018773364486,0.00202568209938114,0.0062782098715508106,-0.00264684637431944,0.0030453546623316853\\n2017-03-30,-0.00131835218030274,0.00366568949253754,0.0204827125226192,-0.00208122258195809,0.00861005377209056,0.0023103897701382,0.00640165734877152,-0.0016823695064439599,0.0074788250592428,0.004597413438399465\\n2017-03-31,-0.00187579020586093,0.0022826921905665398,-0.0201911285280477,-0.000882416283697784,-0.0133664351694972,0.0116392617999179,-0.00234358502492815,-0.0025279193166793897,-0.0050287262600162705,-0.002997454336489808\\n2017-04-03,0.000278477069906025,-0.00470696535599269,0.000731632342728883,0.0011240342222556,-0.00364284769255541,0.005606100258684471,0.00268456063780431,0.00161911999396436,0.00048144812305350704,0.00027386864606141604\\n2017-04-04,0.007446019592038279,0.00274610700025302,0.0036554112683036,-8.02744025546476e-05,0.00333251490657482,0.0171843353727459,0.00468542882264944,-0.00386563820540931,0.00288653963733299,0.00404827162499284\\n2017-04-05,-0.00518067902907504,-0.0025865558924211803,0.0019425598711735302,0.000962489856089599,-0.0128277753087745,0.0027017323578515397,-0.00166564474835884,0.000846750888217063,-0.0043176499947376,-0.0024459619239854697\\n2017-04-06,-0.00249959864833238,0.00259326351344247,0.00581601579088864,0.00200327483724339,0.0033647127134242,-0.0120974833375561,-0.0013345112850544599,-0.00479385245849062,-0.0102387828937007,-0.002708582343734476\\n2017-04-07,-0.00222759735834632,-0.0007606658482981481,-0.00301172919159243,-0.00103968523672404,-0.00346903650682173,-0.0037850379505654,0.00200456279701844,-0.00276261957586754,-0.000246392588511113,-0.001570738885191578\\n2017-04-10,-0.00118592359021652,-0.0022839834106964697,0.00447074325094166,-0.00464295848003804,-0.00348111261356232,0.0135883838414739,0.000666965785282692,0.0018468106396278801,-0.00517357354742964,0.0001902894009100164\\n2017-04-11,-0.0107563623400839,-0.000762987552208605,-0.0034885319705489897,-0.0009649979724351,-0.0017466247072983599,-0.00515963255590923,0.000999609576501692,-0.007940974585839759,-0.0017334499708265801,-0.0036848349330894413\\n2017-04-12,0.0012002419117578302,-0.0038179131002509204,0.00156929360361979,0.00949920991238784,-0.00384934744097043,-0.00679330322919858,-0.00898801852251796,-0.0024299314240984198,0.006201808741205021,-0.0011905085825828711\\n2017-04-13,-0.00528908100978132,-0.0042925717056102606,-0.0154271835708032,-0.00326955664879247,-0.0117095213855347,-0.0128984716623739,-0.00705402541445665,-0.00136124801029891,-0.00690336200302222,-0.007090987523570324\\n2017-04-17,0.00552984563059833,0.008160145139388009,-0.001346531413009,0.00584045155001811,0.017298509199586996,0.019577929999689,0.0027063916605021303,0.0145634479845287,0.000496467843263515,0.008002582794383331\\n2017-04-18,-0.00444197388790257,-0.00137440443578851,-0.00649667829541822,-0.0310212599691854,-0.00815279455496942,0.00198454419654914,0.00674757764034961,-0.00325265879299474,-0.00124056660803107,-0.0032569212321674245\\n2017-04-19,-0.0036826047984034297,-0.00535247222188873,-0.00690941916170618,-0.0036939751308307,-0.008219820906851921,-0.005067623595387039,0.00536199328260789,0.00929339482793878,0.0,-0.0013378874027268298\\n2017-04-20,0.0125105367435847,0.0070724059444289295,0.00646036633229774,0.00411964215243432,0.0129056003612262,0.0031805893703658102,0.00899986388701124,0.0107541924297689,0.00273295674603213,0.007697344731751001\\n2017-04-21,-0.0011933098313217099,0.013740565719528001,-0.00395006141304521,-0.0009026176864013189,-0.0120398777918166,-0.00391323083589379,-0.0237858661940069,-0.000834561874105133,-0.010654174465065,-0.0043561120621718385\\n2017-04-24,0.00962934924128223,0.0170180350866249,0.00520513003455858,0.00928047795799292,0.0352580391511759,0.00988274594437621,0.0,0.0124582968207689,0.00225393515281191,0.01085495077001294\\n2017-04-25,0.00619607520377508,0.00577514602390417,0.0076440590807767,0.00439423794277105,0.00868574172471925,0.00023145216192155298,-0.00338402956538952,0.00701178244990874,-0.00199900674246989,0.0035354647350554057\\n2017-04-26,-0.00588111945101177,-0.0013249093219053199,-0.00403788389373039,0.000648177481906265,0.0019260997364978199,0.00183995836275064,-0.00645165322472752,0.00047780051615142803,0.0125187587906419,0.0005224638667934165\\n2017-04-27,0.000765731960909788,0.0064867187673443,-0.00171977785513311,0.00186217339005212,-0.00927285753369322,0.00999684063382467,-0.00615167381265036,0.00777837756247779,-0.0131057453522742,-0.0004990815401556669\\n2017-04-28,-0.0009738415305192699,0.00278296681226542,0.0047994193078229105,-0.00218202626184028,-0.00696279419961554,0.00719744001830702,-0.0030949822458106197,0.0172647464576454,-0.007015898108604261,0.0016226015532311297\\n2017-05-01,0.0203968940514574,0.0138767986155997,0.00502139245370392,-0.00105285685172785,0.0006896955562214481,0.0251245854022701,-0.00172468156898842,0.0147088652246257,-0.0133737196789991,0.007182477782730722\\n2017-05-02,0.00634462379046652,-0.00158464374396605,-0.000121824318922603,0.0029187149221345803,-0.00643238714881844,-0.00136040625924938,0.00172766123447698,0.00209885862067427,-0.00383626621638666,-0.00018502702739960173\\n2017-05-03,-0.0030505437747259103,-0.00317478908093527,0.00792182525804597,-0.00299107963319667,0.00578034838336583,-0.0062411271965676605,0.008278671275043779,-0.00641442601397058,-0.0141206216909588,-0.0027086382135318708\\n2017-05-04,-0.00360405916368445,-0.0039084566496990795,-0.0128173029411627,0.00502713881791128,0.00114946532731186,-0.00371932870592806,-0.0010262841375406901,-0.00625821463257803,-0.0101564065167424,-0.004675330228998371\\n2017-05-05,0.016583806859048,0.00276124565081637,0.00465462922763527,-0.00354975137009772,-0.00114814557378418,-0.00360522318800305,0.000684939535193552,-0.00404375853985717,0.014470049747238997,0.003959696132822796\\n2017-05-08,0.0271883549239047,-0.000869457513524075,0.0106070391197735,-0.00210517281570344,0.00114946532731186,0.0159395746052029,-0.00513353035605668,0.00545788719855289,0.00025921223630542795,0.005813787619055057\\n2017-05-09,0.00640490770485336,0.00145050990724171,-0.00699726583895899,-0.000324532940014333,-0.00401836944209488,0.00398300291623754,-0.00481598260408456,-0.0038395472506229703,-0.00907436169865616,-0.0020723880349350645\\n2017-05-10,-0.00474064894652959,0.00391060219931849,0.00453784649168854,-0.0032464911877652103,0.00783875116817701,-0.00406162231226115,-0.007950175483318441,-0.00126264623239347,0.00601771889638081,0.0004292862378916764\\n2017-05-11,0.008648384743592091,-0.0122637615968795,0.00854586903412513,0.00317562877663602,-0.00308827791973321,-0.00140156697737626,0.00592341452004885,-0.00166345073953122,-0.000260034936045206,-3.2191534890808584e-07\\n2017-05-12,0.0139656062138256,-0.00116849057217183,-0.0007262780692061099,0.0035714193830755896,-0.0027536243818674397,0.0144889101880969,-0.0207828114842018,0.00193287798940389,0.00130091842434421,0.001014773311041629\\n2017-05-15,-0.0025625889121289,0.000731202020932908,0.00302853887714627,0.0270947842813625,0.00483204332328424,-0.00351589440305966,-0.00318358741046598,-0.000931284495027218,0.00259802442781321,0.0014175958807089556\\n2017-05-16,-0.0014771170342619,0.020135376589151002,-0.00301939452344657,0.0061422644716364605,0.00309146070916122,0.0084554174402196,-0.00496804703851672,-0.00272989542939073,-0.0103655188733086,0.0014452337597328725\\n2017-05-17,-0.0335755710645353,-0.0278058541656182,-0.00678377145024345,-0.00860929761753715,-0.0381236602842194,-0.0220584397047739,-0.0224679804321749,-0.0329148953993517,-0.0191149681333739,-0.02494804475032874\\n2017-05-18,0.0152411523083726,0.0034083639237894,-0.0029271682651973397,0.00236842672970883,-0.00367856793384225,0.0145327700735345,0.0025538047148210303,0.0193993640566366,0.0130807270485069,0.008436392448470966\\n2017-05-19,0.00340899581538601,-0.000295331668227927,0.00220185593041222,0.000236248315035104,0.00976654176134639,0.00140850401578008,0.020742375824798,0.00270888520360613,0.0076416265409109405,0.005456145313674437\\n2017-05-22,0.0060760560119677,0.0112275683929506,0.0043939237389805106,0.00204732217957804,-0.00094360605657684,0.0112830843633904,0.00463463543501219,0.0012157706499496,0.00026138138307896204,0.0046323646898600995\\n2017-05-23,-0.0012337994594395802,0.00336018320085762,0.0035241009977071704,0.00204301830951903,0.0125148141463414,0.000896282995494602,0.0035485840596258798,-0.0011467754605107802,0.00156877516007903,0.002436811820708587\\n2017-05-24,-0.0029910385990114,0.00131045158338039,-0.00351172532299271,-7.837224916762421e-05,-0.0005829952245934861,0.00906807563198386,-0.0159123088778829,0.0133044229544745,-0.004176440950124929,-0.00014884085464781272\\n2017-05-25,0.0034563466777946,0.0123600993607087,-0.00656210874597551,0.00678921948379174,-0.00420027752996532,0.0132912014270299,-0.0122171006563925,0.0127966814821165,0.00209688303019306,0.003817519565083339\\n2017-05-26,-0.00168961697564174,0.00488348162700558,-0.0024465457668091397,-0.00478309555382572,0.00011723301357435801,0.00241601802726032,-0.00145512931862335,0.00111870223854371,-0.00287736116302151,-0.00011678115585035545\\n2017-05-30,0.000390511240698999,0.00643239176900079,-0.00551803290765829,0.0014969343183064401,-0.0171040568051117,0.000923881754210099,-0.0032786142968844697,0.00164333130732497,0.0112801256420929,0.0008723861736006825\\n2017-05-31,-0.005921648742437171,-0.008095550902833091,-0.0073981964940425,0.00896861403561289,-0.020858149945023,-0.00208690375735643,0.000730964950455437,-0.0060375244114214705,-0.000518666885370611,-0.005002113347756098\\n2017-06-01,0.00274937836821398,0.0037228007830576396,0.002484356399026,0.00413259440170144,0.0110772541004123,0.00133721120295793,0.0124177807178141,0.00046211538865192903,0.00882417854593553,0.005266918343704881\\n2017-06-02,0.0148191221759739,0.0236805457486533,-0.0148699251332856,0.0100947823448285,-0.00505659984480544,0.010823804277437999,0.00577214863120457,0.0137266680771244,0.0,0.007829477951934668\\n2017-06-05,-0.00977804377781533,0.007246373326327491,0.007798810213460071,0.0021525437688731898,0.00181520168671856,0.00457922888121409,0.0035866941236348798,0.000130225895903724,-0.00154345811625167,0.0014322284714839198\\n2017-06-06,0.0033782121441356897,0.00332024398734521,0.0136045700216776,0.00360541527300295,0.00205335861372657,-0.008246511338762641,-0.00178693786228745,-0.005337544576660021,-0.00206133072846826,0.00025857724000260293\\n2017-06-07,0.00595660046243629,-0.00179243692151576,-0.00369399280748584,-0.000611591435891068,0.011451343950959997,0.00704886041874375,-0.00895094278263509,0.00202864343994014,0.000774518569835347,0.0012786638650077603\\n2017-06-08,-0.00244577274772917,-0.006078242964303589,-0.0035843092887338796,-0.0015295479749996,0.0123940631081092,0.000198018947809464,-0.00325152058271549,0.0103840912481743,-0.00670793395307101,-0.0004103476635566182\\n2017-06-09,-0.0387766936172906,-0.0226545675672827,0.0187298105225651,0.00750654570863829,0.0236610761023175,-0.0316351285966103,0.0126857930376516,-0.0330295441069949,0.00753246080110914,-0.009235197465042755\\n2017-06-12,-0.0238959457611169,-0.00767924887834115,0.00974065372212163,0.00220494732300458,0.000229949688378195,-0.0136971154617597,0.0357910688109779,-0.007754037122164379,0.00721839134416791,-0.0004725222462157513\\n2017-06-13,0.00804570660360482,0.0124677846112127,0.00036178123831853704,0.0015172560295531,0.0033340591367006,0.0164574990873267,-0.0169315660282767,0.0150902113299622,-0.00998213110108837,0.003539289362603477\\n2017-06-14,-0.00975501013710778,-0.00537870041589594,-0.0107281511393904,0.00568105570846655,-0.00206260366037836,-0.00440461984410701,0.00843584175635703,-0.0028536834349335303,0.0010342234730951199,-0.0024837992304061842\\n2017-06-15,-0.005993487609381121,-0.00526539269666437,0.0023151826168808,0.00203351730854773,-0.00597079544405388,-0.0125963812152908,0.0172231267643452,-0.0029949883527453603,0.00309908908963141,-0.0010480468253068213\\n2017-06-16,-0.0139994784519714,0.0014307425428759,0.014952567539144,0.00984657357694085,-0.004504930396567079,0.0244148225054213,0.00207329712633841,0.00560744982094552,0.00308970172388889,0.003766704498676294\\n2017-06-19,0.0286075252857434,0.012428468459893,-0.008743510941826791,-0.00208413788286876,0.0219308679040511,0.00755278455603237,-0.00689660902844758,0.0148034785900391,-0.00128344815522763,0.00833105040539123\\n2017-06-20,-0.00908845907199407,-0.0135458686979746,-0.00543744254236367,0.0011189322350659801,-0.00624519136033841,-0.00259247771141835,-0.0232639108567564,-0.00405570105500419,-0.00642508688985788,-0.008477701422864616\\n2017-06-21,0.0059305938223184205,0.00514937836535356,-0.0105697335261492,0.00514065826275245,-0.00457027607515104,0.009711918050532729,-0.0124421819548685,0.010903146141214999,-0.0131918666962245,-0.0004974990238447445\\n2017-06-22,-0.00164512978977782,-0.000142177896387374,-0.00442046157425213,0.00845014237065045,-0.00114787027965413,-0.0009279227508240949,-0.008279308873742291,-0.00331368973260504,-0.00131061659650678,-0.0019303118610078161\\n2017-06-23,0.00446325010207071,0.0135211594824376,0.00653671383656085,0.00279295713779915,-0.00183873808874802,0.00243683414485374,0.000725917904282891,0.0108866562276397,-0.00393703697874093,0.004278602809669131\\n2017-06-26,-0.00314448475958695,-0.00954919774567742,-0.0045337643609109106,-0.0006594234086323429,0.00437496413323424,-0.00972364366991108,0.00145096861908911,-0.009544147373385941,0.00527012221136069,-0.003117362277663083\\n2017-06-27,-0.0143328719608293,-0.0187154957339721,-0.00160022142212701,-0.00975513924616767,0.009284732832362641,-0.0173041221614946,-0.014487698005639,-0.0195975914993839,-0.0117955493685609,-0.012262427422214478\\n2017-06-28,0.0146106689223469,0.00852484752914573,0.005178156298806471,-0.00881414016322979,0.0201021604719356,0.013872097706453002,-0.004777576817409529,0.0176650482445868,0.00636595699632925,0.009168083532655804\\n2017-06-29,-0.0147432368385709,-0.0187679790736923,-0.0101803187591798,-0.00881793347930482,0.0148073669338691,-0.0145406316609709,-0.0022156265779012,-0.0143566427056694,-0.0084343966866397,-0.00956425997065605\\n2017-06-30,0.00236650602501265,0.0064243544853896896,0.000371778425263258,-0.00263875667294855,0.0027427826829762303,-0.00812557566308958,-0.000370078430290688,-0.00039722591883339903,0.00292401699857869,0.0009512536751464463\\n2017-07-03,-0.00361066631893436,-0.0110257105024665,0.0169701137932781,0.00461116979129006,0.0203520563299737,-0.0148140774793388,0.0162902385782635,-0.0168896745764916,0.0100715170015369,0.0008901229042944704\\n2017-07-05,0.00411147559192848,0.0133491273777082,-0.015225355277997,0.00556809848229567,0.0100269132905069,0.0186020714953505,-0.0036429988845568797,0.0128680394130316,0.00026238211213436296,0.005761528803708007\\n2017-07-06,-0.00943853387426108,-0.00738285823783635,-0.00902901382750976,-0.00838059053673135,-0.00320234929249286,-0.00644431629126674,-0.0380256035672325,-0.0101103434910296,-0.0119584430974431,-0.011825661875805776\\n2017-07-07,0.0101589935824371,0.0129794057511592,0.00124812121061213,0.00015077496973403502,0.00503316458127889,0.0141119369089675,-0.00608127950139414,0.0176051261709724,-0.00537916274581207,0.006072667920566705\\n2017-07-10,0.00610349354073292,0.0074864221459667295,-0.000747916108300384,-0.00746940138159879,-0.0070324132177213,0.0180942833984401,-0.00420649462819767,0.0136027335762978,-0.00405632275418222,0.0033912469901988757\\n2017-07-11,0.0032399941806418,0.00014288311048948898,0.00548897741734877,-0.00243261243858084,-0.0038631070724892704,-0.00234825540969563,0.0130567192601188,0.0115309706840392,-0.006244900449247971,0.0021966051047145824\\n2017-07-12,0.0014430923534685099,0.0165737408875899,0.00446663356052945,0.00762026414374972,-0.0034471547209048397,0.012453104662101,0.00758156476086547,0.0233785657659931,0.0062841443048404794,0.009445077068621925\\n2017-07-13,0.0139290387875306,0.008713877924499071,0.00012349423216950802,-0.00279815193646438,0.00637764049149836,-0.0058419736928399,0.00790064463235995,0.00226558221267159,-0.0168341654648743,0.0013311145048334654\\n2017-07-14,0.008594254501841809,0.0140727847595479,0.0038285096113424,0.00561212304078862,-0.009129904440930871,0.0011792500665617199,-0.000373179129848134,0.00445815661365545,0.00248553124330875,0.004006126002630286\\n2017-07-17,0.00348905141891809,0.007831928998522029,-0.00516722451127827,-0.00339388674032781,-0.00932257817803916,0.00821511066612457,0.00149361837964257,-0.001500312549226,0.00247934043134346,0.0013438309866027518\\n2017-07-18,0.00347691350119916,-0.000681772294641059,-0.00321557204076972,0.0174803432520816,-0.00350145947986935,0.0142667352915411,0.0026098670131604602,0.019595599313732,-0.010991965751636001,0.0033150321063644813\\n2017-07-19,0.00626334763293546,0.00763974905827625,0.00310170787818786,0.0055778422928594,0.0014275098437595,0.0023622862177286,0.00185952876074968,0.00785949890789928,0.0038899304892468,0.0047165642163707585\\n2017-07-20,-0.0045027592412655295,0.00487419875062334,0.00012385326544528402,0.0100583755445964,0.0,0.0017820717412238,-0.00927989185613853,0.0023760204848057897,0.010794313002279,0.0019207777602916727\\n2017-07-21,-0.00046563607702943,-0.00579355916933122,-0.00915173362086175,-0.00922602190114985,-0.00339913107202283,-0.00294537488512048,-0.0292244455381675,-0.000607828363264007,-0.000273797769753337,-0.00606240189757967\\n2017-07-24,0.0121115652418946,-0.0025749097161033,-0.00312027732863196,-0.0169981024438433,0.00429093273019299,0.0129475430014607,-0.0185256463682304,0.009548178962702991,-0.0076690834780514,-0.00027956709322257494\\n2017-07-25,0.004273874091806911,0.008016271538329841,0.0050080728718431295,-0.008495563888181509,0.0166520461028272,0.0008855518007526711,0.000393298078170012,-0.00433735542168667,-0.000276017659013528,0.0026702827905547982\\n2017-07-26,0.00471380663166432,-0.00188697394285031,0.00124589148283372,-0.00705191466152422,-0.00937504800748123,0.0124342985778716,0.005896184493187071,0.00199662392301936,0.049972309884219995,0.009353039051984995\\n2017-07-27,-0.0188974414298392,-0.0120188908549023,0.00572343652277496,-0.000916188697971165,-0.0041335603056436,-0.00645901280728378,0.00781553777747002,0.0291649113630521,0.0362871476748541,0.0060723575531967415\\n2017-07-28,-0.0070404186571225704,-0.00164020883503535,-0.0152171899357566,0.007796400508442991,-0.00294916614568075,-0.0248183766730401,-0.0100814591761635,0.0117929768623213,-0.0104034981978767,-0.005788202814276942\\n2017-07-31,-0.00515051223486107,-0.00465512499944243,0.0055276973962863395,0.0065981913216111,0.00569673629050205,-0.0316261614209007,0.00313365880993421,-0.0185560861447854,0.0,-0.00544726432743831\\n2017-08-01,0.00887515631319036,-0.00165047552439268,0.00162421280688752,-0.00158217990777532,0.0133986965789734,0.00851401400422525,-0.00663803286297115,0.0036041418020680296,-0.0030769076975041302,0.0022076505563783447\\n2017-08-02,0.0472510013150225,-0.00440891722642245,0.00536358171494955,-0.00264133753103057,0.0008599495568137879,-0.000301134321161411,0.0031446639743957197,-0.00329682089192973,-0.0156891733713098,0.002727174635384667\\n2017-08-03,-0.00999116340705442,-0.00152237522677656,-0.00136473409589843,0.00900433879354434,-0.006551443420514279,-0.00900705084386244,0.00940433782907335,-0.004193780197393139,0.000261197169869831,-0.002087453192347999\\n2017-08-04,0.00527093940964884,0.0073457898792002,-0.00347868226844961,-0.00127491711250638,0.012540583459596001,0.00066878167568718,0.000776399987899135,0.00610949062481714,0.0039184621527566,0.004155558083453322\\n2017-08-07,0.0154741658193231,-0.0038523553639368,-0.000623360364525372,-0.00240272475196701,0.00384355961761029,0.00474898531690315,-0.00581850232669689,0.013913459907837,0.00234202878864531,0.0036124341615868852\\n2017-08-08,0.00799690374952999,0.00538657258067166,-0.0024949838976418,-0.004440651821236321,-0.0036161840847249702,-0.00244892312679168,-0.0027312032044709603,-0.0043609723075002105,-0.00415373618118031,-0.0007999321106639123\\n2017-08-09,0.00612193684578033,-0.0043961840245190205,0.00312653373400829,0.00725764887315972,-0.0016011800427305801,-0.00791038631134278,0.00586858372879306,-0.00029202243279857797,0.0,0.0003577261947898412\\n2017-08-10,-0.0318517700152965,-0.0146266934672951,-0.0059164110316752795,-0.00105071065785745,-0.0143269582747714,-0.0255496652218443,-0.015947173435068,-0.0220820139886324,-0.00443164604217483,-0.015941192007284583\\n2017-08-11,0.0139067823582415,0.0152638464521186,-0.0096238885652481,7.523306400814e-05,-0.00835232769454697,0.0115683726922442,-0.00395250108779599,0.00406217457809466,-0.00235677355934683,0.003354214747282722\\n2017-08-14,0.0150494742893641,0.0150344762386578,0.000255812856007065,0.00285474448735723,0.0117042688569342,0.0158162771910482,0.00634934882787719,0.0158852806296372,0.010498734099498,0.011461487634735066\\n2017-08-15,0.0109477511412501,0.000273320396572574,-0.00242889030807159,-0.0007488958732804201,0.0025948454854816103,-0.0005695088038585321,-0.00867522682112731,0.00146412884333813,-0.00883116884501234,-0.0008627265360249984\\n2017-08-16,-0.00402232849076289,0.00587279699091559,-0.0073038768851673205,0.005922841394331971,-0.00690172278440693,-0.00464008491198176,-0.0015910542364771,-0.005847953216374321,0.00183443058164356,-0.0016753120163877115\\n2017-08-17,-0.0191984636330591,-0.016972252534318,-0.015619030707914,-0.00842211212792277,-0.0156369288555568,-0.0180028073831192,-0.0139442471141336,-0.0181764470588236,-0.0164792687564678,-0.01644313868628093\\n2017-08-18,-0.0022805023072295398,0.00124301615808031,0.00498304364548141,-0.00308183131916351,0.000992815483370713,-0.00218623940441232,-0.00808083402658788,0.00299562631368699,-0.00611690421353228,-0.0014201352075866819\\n2017-08-21,-0.00184122589363955,-0.00469024276698793,-0.0033925485127001,0.0061825937990192,-0.0012121880951158099,-0.00540443953042735,-0.00244399976443377,0.00221011284367467,0.0056194932240334295,-0.0005966038550810535\\n2017-08-22,0.0163475858783959,0.013998679314688,0.00471328611828858,0.009366813816603429,0.010261460862534,0.014276921308408,0.00449170661530141,0.0110859459475856,0.0106438138220681,0.011007269763248862\\n2017-08-23,0.00125169963550276,-0.0060141962209412396,-0.00169401742923547,-0.0141054476439324,0.00120140915869227,-0.009204699326804459,-0.008536674931685079,-0.00548215046853429,-0.00157974392264582,-0.004364356697517945\\n2017-08-24,-0.004438091753703129,-0.00041261724551788797,-0.0036549128851454103,0.000677686087897422,-0.0016362772142775,-0.0057933068893527605,-0.0036900279026512704,-0.00574952261130546,-0.00632900090470345,-0.0038030443415360275\\n2017-08-25,0.0037044679942088705,0.00178842200602825,0.0051095238585012704,-0.0028019220497282897,0.004042827414135529,-0.0075489547056670795,0.00781893434765357,-0.00846547011847287,0.00822711119186481,0.0015816790154625391\\n2017-08-28,0.0100713062130871,0.000137414925462709,-0.00325871989210158,0.00045572408832717003,-0.0031559305474994103,0.000804022165287632,-0.000816578772343313,0.005531493273686521,-0.00131609762969009,0.0012616358372998409\\n2017-08-29,0.008918066985128979,0.00302078584492982,-0.000261526976484294,0.0035675554102405603,-0.0054585577248975605,0.00849873980468185,-0.0012260577435107,0.0048433268104721705,-0.0023722761219509,0.0022029805347434225\\n2017-08-30,0.00270088585864414,0.0131415740316705,-0.0045781127170861895,-0.00862254558720088,0.00230513012900468,0.0141815284451325,-0.0065465820836077,0.0111276106314617,-0.0047556717591688,0.0032004146449253865\\n2017-08-31,0.00397914368206154,0.0102688326168672,0.0030222699732931303,0.00991819009663475,-0.00459965744904056,0.0134457245702886,0.0111201932345524,0.0120645187389892,-0.00557463220285437,0.005706429250490415\\n2017-09-01,0.000304806773384403,-0.0111006118406319,0.00314430696200385,-0.0101231022133195,0.008911844791819279,-0.00239646752754963,0.024032601699668997,0.000290765829558781,0.000533881875300457,0.001449008264664341\\n2017-09-05,-0.0120084375410688,-0.0044631354800875895,0.00796657444595761,-0.0086240244436615,-0.0238821757752219,-0.0132685714285714,-0.0155131152971653,-0.007557278047732209,-0.0104055109978932,-0.009809954425108576\\n2017-09-06,-0.00104885080392791,-0.0028529187770484103,0.0207307846543661,0.0059275829284937106,0.00670316400767978,0.00262099510766944,0.00686868820782394,0.00802480665402538,-0.014019898875799,0.0019022710914998343\\n2017-09-07,-0.004014720227994321,0.0128065564524174,0.00317330140925143,0.0116324267371841,-0.0175341879148375,0.0120582590873106,-0.036115562294142,0.0065082865130636795,-0.0265245388666345,-0.005403026472689929\\n2017-09-08,-0.0163088843426826,-0.00484255660290334,-0.00265715262660537,-0.00915344310823385,-0.0012425396342459199,-0.0138543777775501,-0.00832646401794968,-0.0130478027173107,-0.000280786982827297,-0.007638489661585007\\n2017-09-11,0.0180923599769414,0.0105434215542812,0.00545549028610171,0.0170255491041102,0.0154943390658202,0.0124857621910568,-0.00419816654734739,0.0149751274929826,0.0042146308591684,0.009992440309774586\\n2017-09-12,-0.00396293505278233,-0.00107013047985005,0.0031544818432323,-0.00435400500139838,0.0122507626858057,0.00472411437693721,0.008010122745771179,-0.0031697770494432103,0.0145493827378451,0.0037388125516615084\\n2017-09-13,-0.00752209991734154,0.0070969609219673204,0.00339622432440256,-0.0013572649162081302,0.00286059586349019,0.0173217027677453,0.008364814174159909,0.0005203283785715219,0.00799794715630853,0.0046279978300115265\\n2017-09-14,-0.00858123042241898,-0.00585036111842696,0.00401155625959126,0.0130615033631158,-0.0019747498681596,-0.00739291134196662,0.0062214407794634104,-0.0120774109434717,-0.0062928529766250706,-0.0038636562944673308\\n2017-09-15,0.0101086929007466,0.007222155426689141,-0.000249706176731479,0.0020123268537153302,0.007145239375177641,-0.00546259751446043,-0.0037468264847140297,0.00397749164809058,0.0214756909874914,0.006054626578372918\\n2017-09-18,-0.00756820709758432,-0.00199166513381721,0.00024976854548008903,0.0069170597349697,0.0141889177050256,-0.0127686501493837,0.0221478308728993,-0.00949664419422414,0.008625358677850409,0.001645826024401735\\n2017-09-19,0.000378128604574091,0.00372528829803964,0.00162324927835988,-0.00118178868903207,0.0109772179908989,-0.00444473561739556,-0.0106295286193219,0.0147638907935972,0.0211118237267676,0.005494003601774384\\n2017-09-20,-0.0167579258086106,-0.00662772454147198,0.00411365901238825,-0.0147908966678391,0.00702583729760597,0.0034541449815561603,0.00495867983555498,-0.0020287850213590603,0.0057575630644708395,-0.0012551870664786967\\n2017-09-21,-0.0171718076493544,-0.009741191547542159,-0.0081937009013805,-0.0110342311174778,0.00454536243428949,-0.0087956328094615,0.0176808695408601,-0.00615668822857263,-0.00546441347510973,-0.004990830798421391\\n2017-09-22,-0.00977898164984181,0.0026951067458833603,0.000375452279356869,-0.00273254577881665,-0.00210459592906176,-0.00990001323008316,0.00484848718536468,-0.0033312371963576397,0.00968077759756047,-0.0004393330508049502\\n2017-09-25,-0.00882223704653295,-0.0154548778823496,0.013263383054296998,-0.00167440683904618,-0.00748701043794442,-0.0160297334150493,0.009650226391431541,-0.0449747760925499,0.0137340807301263,-0.007713844939544179\\n2017-09-26,0.0172035377721131,0.0,-0.00111139733414722,-0.0017534220570152301,-0.004462503943979071,-0.0012662424880637302,-0.00716844168125907,0.00822749457320238,-0.0102248102357099,8.694305690279468e-05\\n2017-09-27,0.0071177400822541904,0.008053479941892979,0.0066757404527451,-0.0090881355950031,0.0157952033571573,0.0130726819877951,-0.0224629326344959,0.0211313918280267,0.00129128475135332,0.00556471758489329\\n2017-09-28,-0.006159603194511029,0.000270805312733824,0.009333150528506359,-0.00215801124615977,0.00210127902069845,0.00581575717929761,-0.00533447513180585,0.00626194563354976,0.00696409870621006,0.002115046640525825\\n2017-09-29,0.00548013103003031,0.00839307464653616,-0.00255509083156813,0.004170879078410071,0.0013629191559436599,0.00517560840211773,-0.00247522782742604,0.0126829790240734,0.00332990555250556,0.004597064062980118\\n2017-10-02,-0.00201139805306727,0.00161096670296934,-0.00426938097035401,0.00930692706106551,0.0139252094569409,-0.00224681339150512,0.0161290925292417,-0.00819332850100452,-0.00153172440674065,0.001534718909473902\\n2017-10-03,0.00435600253344015,-0.0046910088440020896,0.00159262574436614,0.0067064202023388,0.00526650790204841,-0.00217894890026182,0.009360968562141641,0.00289140259106979,0.00946047828885876,0.0034860702990396632\\n2017-10-04,-0.0064733171117175,0.0057904539352833205,0.000366952286550815,0.00598020458086701,-0.0101695233174016,0.00872430906841859,-0.0129033000212627,-0.009061008099393591,0.000506565707988349,-0.0022295433658463355\\n2017-10-05,0.0124446217153587,0.0171374729791642,0.00281191569830064,0.0022575302210972,0.0134655026175052,0.0159510733943622,0.00245112686600191,0.0167438964106863,0.000253063705898393,0.009863067540348307\\n2017-10-06,-0.00057915881295445,0.00039487244526137405,-0.00377945206192931,0.000225168501576833,-0.00175096308405143,0.0089004855111503,-0.00611256492410173,0.00578130676882438,-0.0110198590337609,-0.0011950806965079508\\n2017-10-09,0.00347708987783513,0.0038157796367299704,0.0039162119069313705,0.0017265543538209599,-0.00526196817027169,0.00142481959596807,-0.0393603712297756,0.0015676943985993802,-0.00751489619844325,-0.0042543997858547\\n2017-10-10,0.00038499528406643596,0.0,0.00280397493905582,0.00337202449920593,0.00746803437684296,-0.0038244362084828296,-0.0029875627124720198,-0.005275385507246271,0.00522188915062483,0.0004971145219538904\\n2017-10-11,0.00416939258630245,0.0017040293266799,0.00413315884460252,0.0205376833712276,-0.0029856983539942,0.00790112227024564,-0.0124145370873706,0.00670207486921304,-0.00805192951993672,0.0009192504395421311\\n2017-10-12,-0.00351327003585045,0.00915999065042827,-0.00205807307935035,0.00131721820504582,-0.00877737500895548,0.0059597919597989,-0.000866890558752442,-0.00109993049959678,-0.0610106969385407,-0.009351423039232485\\n2017-10-13,0.00634628139205562,0.00479754978084568,-0.00024253099948290402,-0.00292332231984427,-0.00135430465954911,0.0020081414425154897,-0.00303681555261126,0.0068965631950757,-0.0044618099454716295,0.0013121239083627083\\n2017-10-16,0.0184086851012386,0.00206496343430218,0.00485366487013517,-0.0022721107172833897,0.0206550701622701,0.00339005822204697,0.0165361775769648,0.00448946113475701,0.0131652315389739,0.009545377656417543\\n2017-10-17,0.0036903341073111205,-0.0007728533307262969,0.00181144815138135,0.0343078639889498,-0.00224845739296076,0.00277240090341757,-0.0072774617812653205,0.00911068624545752,0.00165884210098444,0.0030024900843840545\\n2017-10-18,-0.00442463396916337,0.000257856073157203,-0.0024107986672669,-0.0007812562649357481,0.0037901806333899796,-0.0120202599664054,-0.00301843809629887,-0.000454272895041408,-0.0143527572193011,-0.0042771816625764535\\n2017-10-19,-0.0236604540786763,0.0038654648975364704,-0.000241748703903921,0.00966723812945647,0.00122461350245695,-0.0104212788365095,0.0198961059103371,-0.00835085501534316,-0.000560136391693278,-0.0017974952877618858\\n2017-10-20,0.0017310207076708401,0.0115517288796423,0.00447188597743109,0.0025345885489052,0.0142696997588041,-0.00375022760386923,0.0106021705846093,0.0024060380660635397,-0.0042027954038929,0.004164849169345094\\n2017-10-23,-0.000512014459403964,0.000253864388319203,0.0015641787114693,0.008567350005120659,-0.00170838105156512,-0.0168987857039478,-0.0633654761306286,-0.0212023778992428,-0.0081598158300239,-0.012557598957809621\\n2017-10-24,0.00595509465044075,0.000380546226849354,0.0027631173356859103,-0.0137862878828585,0.0159049330622067,0.00993484023514246,-0.0192652682710451,0.0030945231950831897,-0.0110637448991016,-0.0007277891624544808\\n2017-10-25,-0.00439211538259499,-0.00291660330696908,-0.0035941398528293,0.00508316330513203,0.000990856339964541,-0.0030638906921474102,-0.0178163284605489,-0.0069848485392634,-0.0393000982783672,-0.010440820014240444\\n2017-10-26,0.00639344024024591,0.00165342079116093,0.0036071042901118,-0.00386339367931599,0.007127324615117109,-0.000493344721834932,-0.00837216774122074,0.000175844073534215,0.0056732946525262,0.0017141562130885404\\n2017-10-27,0.0358300429717124,0.0641187764549551,0.00287524592196831,-0.000211474376762832,0.000294883808408919,0.132163712478169,-0.0248591774547166,0.0424895961293561,0.008610477013988321,0.03197148863067094\\n2017-10-30,0.0225083876390715,0.000954575352760889,-0.00203086809891717,-0.0125546235400891,-0.00353736498567714,0.008992257087624859,-0.0182780830598036,0.0111872607604209,-0.0126581953775028,0.00016517116421651016\\n2017-10-31,0.0139154805360082,-0.008463450452462109,-0.00227430940955053,-0.00421435905457046,-0.00788874718663324,-0.00501413072902646,-0.0122489077864888,0.00105633516029191,0.00327969338010248,-0.0018784649219970387\\n2017-11-01,-0.0127188257368982,0.0,0.006238858296943929,0.00408867368432375,0.0030811498547367302,-0.00144757433231435,-0.006944405975760629,0.0144396647166463,-0.00297180381662432,9.200910557571044e-05\\n2017-11-02,0.00731019943434652,0.0104592172793825,-0.0040540843798738705,-0.00035718320282940297,0.00663890381740107,-0.00857139980532795,-0.00399603966099793,-0.0204752322243461,-0.0113264482404403,-0.0032740466160577964\\n2017-11-03,0.0261139082626423,0.0010707241754048802,-0.00418998692360828,0.0010719180122957801,-0.0017717767643206101,0.0158834653548834,0.0100301292355618,0.0,0.0039191842818167,0.006171944892255889\\n2017-11-06,0.0101449097741944,0.00392209750761552,0.00685255506661941,-0.00228437537165715,-0.00621244342290184,0.008150466170934841,-0.000496629577900753,0.00698636269826025,-0.0132131419774845,0.001304974952614502\\n2017-11-07,0.00321366735117645,-0.00236776219952495,-0.0020298129391752603,7.16316844988629e-05,-0.0201428676001921,0.00223976043032503,0.0039742542202339,0.00044403619297384006,0.0063906898878824895,-0.0001953663263781671\\n2017-11-08,0.00818043215205622,0.00344131075235832,-0.0013160912493674901,0.0110895248610139,-0.011240510480221,0.00864513886554485,-0.0044531803206482295,-0.00382802773925095,0.0111884378166103,0.0025642816894275947\\n2017-11-09,-0.00204266950157628,-0.00555813723107579,0.00599019644344034,-0.0068638564622695,-0.000102425520539851,-0.0033101475738377397,-0.00646128998531847,-0.00144795613107551,0.0167464496124519,0.0004829250945355707\\n2017-11-10,-0.00330959851692458,-0.00261619422218207,-0.00312502147640248,-0.00562879457659726,-0.00122903652510531,-0.0033477358526133897,0.0250125266798218,-0.00468486327911555,0.00647061230424528,0.0013643857695623271\\n2017-11-13,-0.0040075651782555104,0.000715259786423728,-0.00060291985682337,0.00143312692049147,0.00358933208962697,0.00339455998708793,-0.0717423090434421,0.00173706706175358,-0.00146126979195793,-0.007569967982019576\\n2017-11-14,-0.0151175625021714,0.00142987006518513,-0.00784167508379308,-0.0019318747252183898,-0.00602903711333214,0.00679253053227469,-0.0588854283157204,-0.00391562893291653,-0.0131693396479725,-0.011319594529432746\\n2017-11-15,-0.0131900659276216,-0.0077722950774354906,-0.0125243547751168,-0.0027958055548729104,0.00945825810668954,-0.00892827953235409,0.0201117419195884,-0.000673948420746751,0.0026690832299329803,-0.0013869834072768\\n2017-11-16,0.0119469909541849,0.00265115159473073,-0.00800389660293699,-0.00165356957143725,0.00285154294658607,0.00940817665469851,-0.000547650028169033,0.009216066466132041,0.0209996738795759,0.00689573360045961\\n2017-11-17,-0.00555236437179352,-0.009615353381145721,-0.00397224622978309,-0.0062648818441754,-0.0033512252498461,-0.00651551824591334,-0.0021918004522563104,-0.00328523867220321,-0.00028979628257674904,-0.004440171488524904\\n2017-11-20,-0.000999126095866942,0.0015776066594857,0.0038634967399569,-0.000507295783290229,0.00886490330176426,-0.00315957976440173,-0.0126303689605144,-0.00145248603351955,0.0037670050697782296,-0.00010762368101533142\\n2017-11-21,0.0185904370600516,0.0144190588330193,0.0039726388990422,0.00297248790866544,-0.0008080355664386031,0.0117018674340013,-0.008342620855326891,0.0174554991200768,-0.00894902525908325,0.006051847863207865\\n2017-11-22,0.0105117956997511,-0.007286192653640829,0.00284403470999273,-0.0075899084813044705,-0.00293137448286152,0.0146293904696784,0.0179471556068698,-0.00544378090045228,0.0157295282390006,0.004944411591100961\\n2017-11-24,5.70905272749833e-05,0.00180485296311406,0.00394579743767132,0.005244340340739621,-0.0032441439346842,0.0258095463625063,0.00220410046366437,0.0105600931763172,-0.0017205697848803301,0.004590014232026481\\n2017-11-27,-0.00502947554871347,0.00732643568198754,-0.0038074169776092202,0.0067799398940078205,-0.00396663052568269,0.008288327150084429,-0.00384830221501475,0.0013677645331424699,-0.0037346562588951296,0.00017229668020627136\\n2017-11-28,-0.00585892209890115,0.0120423776520306,0.00690417238548768,0.0139030297720588,0.0350250121396503,-0.0018647969042849802,0.0160043325760888,-0.00333279245660711,0.0213379831193019,0.010024505616051511\\n2017-11-29,-0.0207431517341208,-0.018143253412968,0.00734663094901533,-0.00149990183578064,0.0233820956724657,-0.0270860896867177,0.0038022601910874297,-0.0399626854507474,0.0299265729177565,-0.0056904268693013385\\n2017-11-30,0.0139839842583829,0.00995919968501635,0.0123982712037114,-0.00343310207984171,0.00761582892638923,0.0133302158269788,-0.0102813125372988,0.011705521278321,-0.00274115010425757,0.006079855425316999\\n2017-12-01,-0.00465523108611565,0.00106932187238895,0.0020409979647269,0.0046651378648721,0.00258330725418388,-0.0122371140854047,-0.0224167646841691,-0.011739401073348001,0.00329850514891672,-0.004574505916418345\\n2017-12-04,-0.00730777376182135,-0.0377403164234182,0.00131800207797128,-0.00692961729529928,0.020612555486996,-0.0244332822182636,0.0039151377205564105,-0.0207310386956812,0.021095844177020998,-0.006463564441266077\\n2017-12-05,-0.000942265454226376,0.00628997848252322,-0.0081369170329757,0.00474790614180431,-0.011500619799228002,0.00671986889128595,-0.0105849956503155,0.007931422359996441,-0.0193185349352046,-0.003091118011246387\\n2017-12-06,-0.00371383632662825,0.0145851816359317,-0.0073590847756523905,0.00995198734446445,-0.00747262627863365,0.00944316205745643,-0.00563062367821909,0.0186888616711351,-0.0120382388441854,0.0019937231263191615\\n2017-12-07,0.0018343345143017101,-0.0035032483357802,0.00328145330669916,-0.00744364704287892,-0.00295429813218162,0.00645642656740941,0.0028311673305088103,0.0231739239256381,0.00166157032383496,0.003786351636344654\\n2017-12-08,0.000295162597890419,0.0202448916297544,0.0013325312063383599,0.00414255675904185,0.0125214758759327,0.0019054836872936,0.0,-0.00632840571959803,0.015482479586838002,0.006294584721382831\\n2017-12-11,0.0194840060558594,0.0127139354379215,0.00447618243097914,0.00391214560902164,-0.00292640891219176,0.00595528743545604,-0.00338788959741498,0.00022342458100554902,0.00462837521900084,0.0055301764794343745\\n2017-12-12,-0.00561767413503256,0.00410648109160183,-0.0032518123471461102,0.0103443638065164,0.0116454475540146,-0.00328515882648339,0.0147308378085274,-0.0116174378983583,0.0325202495229786,0.006115689644147901\\n2017-12-13,0.00331985222790987,-0.00268758331413776,0.00434990297573101,0.00203360529090957,-0.0125408545634225,-0.0008153526246056361,-0.008375114809425209,0.00757230982704482,-0.00157470519022695,-0.0008783869840229189\\n2017-12-14,-0.000290288838472486,-0.0077327687816248795,-0.0026467865457329197,-0.00867805151307932,-0.00805612678475498,0.00870178155059231,-0.00675681701099007,0.000504744803621726,-0.00788639680522041,-0.0036296778202788787\\n2017-12-15,0.0101613921319847,0.025504710374709,0.00156816524982606,0.00571838956288051,0.0141410163977813,0.00415581298727874,0.0102041732478693,0.0100341611639339,0.0132484595267173,0.011791714229193952\\n2017-12-18,0.0140828730423326,-0.00541164647623849,-0.0010839333933832,-0.00463282544882959,0.0077256404825871705,0.009701936033440491,-0.0033670332915845,0.00355208139007979,0.00575308018936149,0.0032727536593436116\\n2017-12-19,-0.0106563592946621,-0.0063671743858947395,-0.006028492116682879,-0.000141109390502048,-0.00420719938680714,-0.00268772456975586,-0.00957204310369075,-0.00724483989208125,-0.0106604395212688,-0.0071434671635919895\\n2017-12-20,-0.00108854984593443,-0.00361184226336664,0.00521597055650225,-0.0043729925302195,-0.00347382823676678,-0.00821978638590937,-0.00795908067853646,-0.00902454484498216,0.0131406571665373,-0.001644827489198415\\n2017-12-21,0.00378547720850375,-0.000233845927993359,0.0118257115276688,-0.000708425037712179,0.0159223769314942,-0.00242861450395127,0.0011460838276626801,-0.0024734498986646,0.008560330449829841,0.0036694076267913176\\n2017-12-22,0.0,0.00011699144031807099,0.0014310868639799698,-0.0066638448938359796,-0.00352411477772863,-0.00544794251210501,0.00171718679138233,-0.00140884758651194,0.00154321804066093,-0.0008245543892856349\\n2017-12-26,-0.0253699494321729,-0.00128643806836826,0.00011914095366138998,-0.000214043889232185,-0.0040018744698328,0.007189586349963809,0.00287695117780618,-0.0068283974068013,0.00308165435589558,-0.003026186938023466\\n2017-12-27,0.000175868012481262,0.00363002850211491,-0.000952641176098168,0.00342646273002023,0.0018688421593553398,0.0046738501931247204,-0.0028686980735047603,0.00926183279556136,-0.00435228428386925,0.0015810354107565852\\n2017-12-28,0.0028135523239993803,0.00011662273728418899,0.00143023404378217,-7.12221681820058e-05,0.0053161903613308,0.0032479877247984,-0.0011506992521180801,0.0016890159241362802,0.0074569258828323095,0.0025722266624648993\\n2017-12-29,-0.0108136314447052,-0.002099808373762,-0.0045227142994984605,-0.005976100138856521,-0.0078857219060835,-0.0140207447403237,0.00518437335015332,-0.008205884759508559,-0.00765695671206679,-0.006188674497656532\\n'}"
            ]
          },
          "metadata": {
            "tags": []
          },
          "execution_count": 44
        }
      ]
    },
    {
      "metadata": {
        "id": "RjAqSM-7Kpg5",
        "colab_type": "code",
        "colab": {}
      },
      "cell_type": "code",
      "source": [
        "#files.download('./StockReturns.csv')"
      ],
      "execution_count": 0,
      "outputs": []
    },
    {
      "metadata": {
        "id": "YPKXD1m4LLnO",
        "colab_type": "code",
        "colab": {
          "base_uri": "https://localhost:8080/",
          "height": 121
        },
        "outputId": "9ac91427-a49e-484d-dd86-448d843fd114"
      },
      "cell_type": "code",
      "source": [
        "os.listdir()"
      ],
      "execution_count": 64,
      "outputs": [
        {
          "output_type": "execute_result",
          "data": {
            "text/plain": [
              "['.config',\n",
              " 'sample_data',\n",
              " 'StockPortfolio.csv',\n",
              " 'MSFTPrices.csv.txt',\n",
              " 'StockReturns.csv',\n",
              " 'StockReturns.txt']"
            ]
          },
          "metadata": {
            "tags": []
          },
          "execution_count": 64
        }
      ]
    },
    {
      "metadata": {
        "id": "ovdbZpD7qZRY",
        "colab_type": "code",
        "colab": {
          "base_uri": "https://localhost:8080/",
          "height": 233
        },
        "outputId": "4979c1df-b037-4df2-e43a-845e3e3b1d47"
      },
      "cell_type": "code",
      "source": [
        "df_StockReturns = pd.read_csv('StockPortfolio.csv', header=0, parse_dates=['Date'], index_col=['Date']) \n",
        "\n",
        "df_StockReturns.head()"
      ],
      "execution_count": 70,
      "outputs": [
        {
          "output_type": "execute_result",
          "data": {
            "text/html": [
              "<div>\n",
              "<style scoped>\n",
              "    .dataframe tbody tr th:only-of-type {\n",
              "        vertical-align: middle;\n",
              "    }\n",
              "\n",
              "    .dataframe tbody tr th {\n",
              "        vertical-align: top;\n",
              "    }\n",
              "\n",
              "    .dataframe thead th {\n",
              "        text-align: right;\n",
              "    }\n",
              "</style>\n",
              "<table border=\"1\" class=\"dataframe\">\n",
              "  <thead>\n",
              "    <tr style=\"text-align: right;\">\n",
              "      <th></th>\n",
              "      <th>AAPL</th>\n",
              "      <th>MSFT</th>\n",
              "      <th>XOM</th>\n",
              "      <th>JNJ</th>\n",
              "      <th>JPM</th>\n",
              "      <th>AMZN</th>\n",
              "      <th>GE</th>\n",
              "      <th>FB</th>\n",
              "      <th>T</th>\n",
              "    </tr>\n",
              "    <tr>\n",
              "      <th>Date</th>\n",
              "      <th></th>\n",
              "      <th></th>\n",
              "      <th></th>\n",
              "      <th></th>\n",
              "      <th></th>\n",
              "      <th></th>\n",
              "      <th></th>\n",
              "      <th></th>\n",
              "      <th></th>\n",
              "    </tr>\n",
              "  </thead>\n",
              "  <tbody>\n",
              "    <tr>\n",
              "      <th>2017-01-03</th>\n",
              "      <td>0.002849</td>\n",
              "      <td>0.007081</td>\n",
              "      <td>0.006980</td>\n",
              "      <td>0.005468</td>\n",
              "      <td>0.010894</td>\n",
              "      <td>0.005068</td>\n",
              "      <td>0.002848</td>\n",
              "      <td>0.015732</td>\n",
              "      <td>0.011521</td>\n",
              "    </tr>\n",
              "    <tr>\n",
              "      <th>2017-01-04</th>\n",
              "      <td>-0.001119</td>\n",
              "      <td>-0.004474</td>\n",
              "      <td>-0.011002</td>\n",
              "      <td>-0.001640</td>\n",
              "      <td>0.001844</td>\n",
              "      <td>0.004657</td>\n",
              "      <td>0.000316</td>\n",
              "      <td>0.015660</td>\n",
              "      <td>-0.005811</td>\n",
              "    </tr>\n",
              "    <tr>\n",
              "      <th>2017-01-05</th>\n",
              "      <td>0.005085</td>\n",
              "      <td>0.000000</td>\n",
              "      <td>-0.014907</td>\n",
              "      <td>0.010463</td>\n",
              "      <td>-0.009205</td>\n",
              "      <td>0.030732</td>\n",
              "      <td>-0.005678</td>\n",
              "      <td>0.016682</td>\n",
              "      <td>-0.002806</td>\n",
              "    </tr>\n",
              "    <tr>\n",
              "      <th>2017-01-06</th>\n",
              "      <td>0.011148</td>\n",
              "      <td>0.008668</td>\n",
              "      <td>-0.000565</td>\n",
              "      <td>-0.004792</td>\n",
              "      <td>0.000116</td>\n",
              "      <td>0.019912</td>\n",
              "      <td>0.002855</td>\n",
              "      <td>0.022707</td>\n",
              "      <td>-0.019924</td>\n",
              "    </tr>\n",
              "    <tr>\n",
              "      <th>2017-01-09</th>\n",
              "      <td>0.009159</td>\n",
              "      <td>-0.003183</td>\n",
              "      <td>-0.016497</td>\n",
              "      <td>-0.000172</td>\n",
              "      <td>0.000697</td>\n",
              "      <td>0.001168</td>\n",
              "      <td>-0.004745</td>\n",
              "      <td>0.012074</td>\n",
              "      <td>-0.012585</td>\n",
              "    </tr>\n",
              "  </tbody>\n",
              "</table>\n",
              "</div>"
            ],
            "text/plain": [
              "                AAPL      MSFT       XOM       JNJ       JPM      AMZN  \\\n",
              "Date                                                                     \n",
              "2017-01-03  0.002849  0.007081  0.006980  0.005468  0.010894  0.005068   \n",
              "2017-01-04 -0.001119 -0.004474 -0.011002 -0.001640  0.001844  0.004657   \n",
              "2017-01-05  0.005085  0.000000 -0.014907  0.010463 -0.009205  0.030732   \n",
              "2017-01-06  0.011148  0.008668 -0.000565 -0.004792  0.000116  0.019912   \n",
              "2017-01-09  0.009159 -0.003183 -0.016497 -0.000172  0.000697  0.001168   \n",
              "\n",
              "                  GE        FB         T  \n",
              "Date                                      \n",
              "2017-01-03  0.002848  0.015732  0.011521  \n",
              "2017-01-04  0.000316  0.015660 -0.005811  \n",
              "2017-01-05 -0.005678  0.016682 -0.002806  \n",
              "2017-01-06  0.002855  0.022707 -0.019924  \n",
              "2017-01-09 -0.004745  0.012074 -0.012585  "
            ]
          },
          "metadata": {
            "tags": []
          },
          "execution_count": 70
        }
      ]
    },
    {
      "metadata": {
        "id": "wGFg4lwUjdzZ",
        "colab_type": "code",
        "colab": {
          "base_uri": "https://localhost:8080/",
          "height": 349
        },
        "outputId": "dae18939-132e-47e9-c371-fc3781e6bca6"
      },
      "cell_type": "code",
      "source": [
        "\n",
        "portfolio_weights = np.array([0.12, 0.15, 0.08, 0.05, 0.09, 0.10, 0.11, 0.14, 0.16])\n",
        "\n",
        "# Calculate the weighted stock returns\n",
        "WeightedReturns = df_StockReturns.mul(portfolio_weights, axis=1)\n",
        "\n",
        "df_StockReturns['Portfolio'] = WeightedReturns.sum(axis=1)\n",
        "\n",
        "# Plot the cumulative portfolio returns over time\n",
        "CumulativeReturns = ((1+df_StockReturns[\"Portfolio\"]).cumprod()-1)\n",
        "\n",
        "CumulativeReturns.plot()\n",
        "plt.xlabel('Time')\n",
        "plt.ylabel('Rate of Return')\n",
        "plt.title('Portfolio return prediction')\n",
        "plt.show()"
      ],
      "execution_count": 69,
      "outputs": [
        {
          "output_type": "display_data",
          "data": {
            "image/png": "[encoded data removed]",
            "text/plain": [
              "<matplotlib.figure.Figure at 0x7ff06ec31e10>"
            ]
          },
          "metadata": {
            "tags": []
          }
        }
      ]
    },
    {
      "metadata": {
        "id": "AvqLdhw5M8Xo",
        "colab_type": "code",
        "colab": {}
      },
      "cell_type": "code",
      "source": [
        ""
      ],
      "execution_count": 0,
      "outputs": []
    },
    {
      "metadata": {
        "id": "NXA_x5wMM8gm",
        "colab_type": "code",
        "colab": {}
      },
      "cell_type": "code",
      "source": [
        ""
      ],
      "execution_count": 0,
      "outputs": []
    }
  ]
}