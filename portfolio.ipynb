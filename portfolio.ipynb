{
  "nbformat": 4,
  "nbformat_minor": 0,
  "metadata": {
    "colab": {
      "name": "portfolio.ipynb",
      "version": "0.3.2",
      "provenance": [],
      "collapsed_sections": []
    },
    "kernelspec": {
      "name": "python3",
      "display_name": "Python 3"
    }
  },
  "cells": [
    {
      "metadata": {
        "id": "gH2rzAEiEPfW",
        "colab_type": "text"
      },
      "cell_type": "markdown",
      "source": [
        "The CSV file for Microsoft's stock contains the OHLCVA data where, \n",
        "\n",
        "\n",
        "\n",
        "* O: Open\n",
        "* H: High\n",
        "* L: Low\n",
        "* C: Close\n",
        "* V: Volume\n",
        "* A: Adjusted\n",
        "\n",
        "\n",
        "\n",
        "\n",
        "\n",
        "\n",
        "\n"
      ]
    },
    {
      "metadata": {
        "id": "GqRLj6oS_SLt",
        "colab_type": "code",
        "colab": {
          "base_uri": "https://localhost:8080/",
          "height": 104
        },
        "outputId": "92dfaf29-7bb1-4ee3-e737-96036b402613"
      },
      "cell_type": "code",
      "source": [
        "from google.colab import files\n",
        "#files.upload()\n",
        "import os\n",
        "os.listdir()"
      ],
      "execution_count": 2,
      "outputs": [
        {
          "output_type": "execute_result",
          "data": {
            "text/plain": [
              "['sample_data',\n",
              " '.config',\n",
              " 'MSFTPrices.csv.txt',\n",
              " 'StockPortfolio.csv',\n",
              " 'StockReturns.txt']"
            ]
          },
          "metadata": {
            "tags": []
          },
          "execution_count": 2
        }
      ]
    },
    {
      "metadata": {
        "id": "4c-rkvZqH_8Q",
        "colab_type": "code",
        "colab": {}
      },
      "cell_type": "code",
      "source": [
        "import matplotlib.pyplot as plt"
      ],
      "execution_count": 0,
      "outputs": []
    },
    {
      "metadata": {
        "id": "7vY22vyRBUad",
        "colab_type": "code",
        "colab": {
          "base_uri": "https://localhost:8080/",
          "height": 202
        },
        "outputId": "bd734738-eab9-4983-f21f-9184c88ea032"
      },
      "cell_type": "code",
      "source": [
        "import pandas as pd\n",
        "df_stock=pd.read_csv('MSFTPrices.csv.txt', parse_dates=['Date'])\n",
        "df_stock.head()"
      ],
      "execution_count": 4,
      "outputs": [
        {
          "output_type": "execute_result",
          "data": {
            "text/html": [
              "<div>\n",
              "<style scoped>\n",
              "    .dataframe tbody tr th:only-of-type {\n",
              "        vertical-align: middle;\n",
              "    }\n",
              "\n",
              "    .dataframe tbody tr th {\n",
              "        vertical-align: top;\n",
              "    }\n",
              "\n",
              "    .dataframe thead th {\n",
              "        text-align: right;\n",
              "    }\n",
              "</style>\n",
              "<table border=\"1\" class=\"dataframe\">\n",
              "  <thead>\n",
              "    <tr style=\"text-align: right;\">\n",
              "      <th></th>\n",
              "      <th>Date</th>\n",
              "      <th>Open</th>\n",
              "      <th>High</th>\n",
              "      <th>Low</th>\n",
              "      <th>Close</th>\n",
              "      <th>Volume</th>\n",
              "      <th>Adjusted</th>\n",
              "    </tr>\n",
              "  </thead>\n",
              "  <tbody>\n",
              "    <tr>\n",
              "      <th>0</th>\n",
              "      <td>2000-01-03</td>\n",
              "      <td>88.777</td>\n",
              "      <td>89.722</td>\n",
              "      <td>84.712</td>\n",
              "      <td>58.28125</td>\n",
              "      <td>53228400</td>\n",
              "      <td>38.527809</td>\n",
              "    </tr>\n",
              "    <tr>\n",
              "      <th>1</th>\n",
              "      <td>2000-01-04</td>\n",
              "      <td>85.893</td>\n",
              "      <td>88.588</td>\n",
              "      <td>84.901</td>\n",
              "      <td>56.31250</td>\n",
              "      <td>54119000</td>\n",
              "      <td>37.226345</td>\n",
              "    </tr>\n",
              "    <tr>\n",
              "      <th>2</th>\n",
              "      <td>2000-01-05</td>\n",
              "      <td>84.050</td>\n",
              "      <td>88.021</td>\n",
              "      <td>82.726</td>\n",
              "      <td>56.90625</td>\n",
              "      <td>64059600</td>\n",
              "      <td>37.618851</td>\n",
              "    </tr>\n",
              "    <tr>\n",
              "      <th>3</th>\n",
              "      <td>2000-01-06</td>\n",
              "      <td>84.853</td>\n",
              "      <td>86.130</td>\n",
              "      <td>81.970</td>\n",
              "      <td>55.00000</td>\n",
              "      <td>54976600</td>\n",
              "      <td>36.358688</td>\n",
              "    </tr>\n",
              "    <tr>\n",
              "      <th>4</th>\n",
              "      <td>2000-01-07</td>\n",
              "      <td>82.159</td>\n",
              "      <td>84.901</td>\n",
              "      <td>81.166</td>\n",
              "      <td>55.71875</td>\n",
              "      <td>62013600</td>\n",
              "      <td>36.833828</td>\n",
              "    </tr>\n",
              "  </tbody>\n",
              "</table>\n",
              "</div>"
            ],
            "text/plain": [
              "        Date    Open    High     Low     Close    Volume   Adjusted\n",
              "0 2000-01-03  88.777  89.722  84.712  58.28125  53228400  38.527809\n",
              "1 2000-01-04  85.893  88.588  84.901  56.31250  54119000  37.226345\n",
              "2 2000-01-05  84.050  88.021  82.726  56.90625  64059600  37.618851\n",
              "3 2000-01-06  84.853  86.130  81.970  55.00000  54976600  36.358688\n",
              "4 2000-01-07  82.159  84.901  81.166  55.71875  62013600  36.833828"
            ]
          },
          "metadata": {
            "tags": []
          },
          "execution_count": 4
        }
      ]
    },
    {
      "metadata": {
        "id": "ertdm8MABfqw",
        "colab_type": "code",
        "colab": {
          "base_uri": "https://localhost:8080/",
          "height": 225
        },
        "outputId": "c59bcb7c-8208-46ae-e459-32644b8f093c"
      },
      "cell_type": "code",
      "source": [
        "df_stock.info()"
      ],
      "execution_count": 5,
      "outputs": [
        {
          "output_type": "stream",
          "text": [
            "<class 'pandas.core.frame.DataFrame'>\n",
            "RangeIndex: 4561 entries, 0 to 4560\n",
            "Data columns (total 7 columns):\n",
            "Date        4561 non-null datetime64[ns]\n",
            "Open        4561 non-null float64\n",
            "High        4561 non-null float64\n",
            "Low         4561 non-null float64\n",
            "Close       4561 non-null float64\n",
            "Volume      4561 non-null int64\n",
            "Adjusted    4561 non-null float64\n",
            "dtypes: datetime64[ns](1), float64(5), int64(1)\n",
            "memory usage: 249.5 KB\n"
          ],
          "name": "stdout"
        }
      ]
    },
    {
      "metadata": {
        "id": "uTpd5TbzBhUH",
        "colab_type": "code",
        "colab": {}
      },
      "cell_type": "code",
      "source": [
        "df_stock = df_stock.sort_values(by='Date')"
      ],
      "execution_count": 0,
      "outputs": []
    },
    {
      "metadata": {
        "id": "oRbkY3FpC2PA",
        "colab_type": "code",
        "colab": {
          "base_uri": "https://localhost:8080/",
          "height": 202
        },
        "outputId": "abdc78e4-804c-4b3b-9ff0-7e34ea87aa7b"
      },
      "cell_type": "code",
      "source": [
        "df_stock.head()"
      ],
      "execution_count": 7,
      "outputs": [
        {
          "output_type": "execute_result",
          "data": {
            "text/html": [
              "<div>\n",
              "<style scoped>\n",
              "    .dataframe tbody tr th:only-of-type {\n",
              "        vertical-align: middle;\n",
              "    }\n",
              "\n",
              "    .dataframe tbody tr th {\n",
              "        vertical-align: top;\n",
              "    }\n",
              "\n",
              "    .dataframe thead th {\n",
              "        text-align: right;\n",
              "    }\n",
              "</style>\n",
              "<table border=\"1\" class=\"dataframe\">\n",
              "  <thead>\n",
              "    <tr style=\"text-align: right;\">\n",
              "      <th></th>\n",
              "      <th>Date</th>\n",
              "      <th>Open</th>\n",
              "      <th>High</th>\n",
              "      <th>Low</th>\n",
              "      <th>Close</th>\n",
              "      <th>Volume</th>\n",
              "      <th>Adjusted</th>\n",
              "    </tr>\n",
              "  </thead>\n",
              "  <tbody>\n",
              "    <tr>\n",
              "      <th>0</th>\n",
              "      <td>2000-01-03</td>\n",
              "      <td>88.777</td>\n",
              "      <td>89.722</td>\n",
              "      <td>84.712</td>\n",
              "      <td>58.28125</td>\n",
              "      <td>53228400</td>\n",
              "      <td>38.527809</td>\n",
              "    </tr>\n",
              "    <tr>\n",
              "      <th>1</th>\n",
              "      <td>2000-01-04</td>\n",
              "      <td>85.893</td>\n",
              "      <td>88.588</td>\n",
              "      <td>84.901</td>\n",
              "      <td>56.31250</td>\n",
              "      <td>54119000</td>\n",
              "      <td>37.226345</td>\n",
              "    </tr>\n",
              "    <tr>\n",
              "      <th>2</th>\n",
              "      <td>2000-01-05</td>\n",
              "      <td>84.050</td>\n",
              "      <td>88.021</td>\n",
              "      <td>82.726</td>\n",
              "      <td>56.90625</td>\n",
              "      <td>64059600</td>\n",
              "      <td>37.618851</td>\n",
              "    </tr>\n",
              "    <tr>\n",
              "      <th>3</th>\n",
              "      <td>2000-01-06</td>\n",
              "      <td>84.853</td>\n",
              "      <td>86.130</td>\n",
              "      <td>81.970</td>\n",
              "      <td>55.00000</td>\n",
              "      <td>54976600</td>\n",
              "      <td>36.358688</td>\n",
              "    </tr>\n",
              "    <tr>\n",
              "      <th>4</th>\n",
              "      <td>2000-01-07</td>\n",
              "      <td>82.159</td>\n",
              "      <td>84.901</td>\n",
              "      <td>81.166</td>\n",
              "      <td>55.71875</td>\n",
              "      <td>62013600</td>\n",
              "      <td>36.833828</td>\n",
              "    </tr>\n",
              "  </tbody>\n",
              "</table>\n",
              "</div>"
            ],
            "text/plain": [
              "        Date    Open    High     Low     Close    Volume   Adjusted\n",
              "0 2000-01-03  88.777  89.722  84.712  58.28125  53228400  38.527809\n",
              "1 2000-01-04  85.893  88.588  84.901  56.31250  54119000  37.226345\n",
              "2 2000-01-05  84.050  88.021  82.726  56.90625  64059600  37.618851\n",
              "3 2000-01-06  84.853  86.130  81.970  55.00000  54976600  36.358688\n",
              "4 2000-01-07  82.159  84.901  81.166  55.71875  62013600  36.833828"
            ]
          },
          "metadata": {
            "tags": []
          },
          "execution_count": 7
        }
      ]
    },
    {
      "metadata": {
        "id": "ObNzcrtuDi02",
        "colab_type": "text"
      },
      "cell_type": "markdown",
      "source": [
        "In this dataframe, the adjusted price is the most important value of the stock. Because the adjusted value is normalized for stock spits, Dividends, etc. We will be using the adjusted close price of the stock to calculate the returns of the stock.\n",
        "\n",
        "Let's calculate the daily change in the stock prices first."
      ]
    },
    {
      "metadata": {
        "id": "BRsKdwJDGJeH",
        "colab_type": "code",
        "colab": {}
      },
      "cell_type": "code",
      "source": [
        "df_stock['Returns'] = df_stock['Adjusted'].pct_change()\n",
        "# convert decimal returns to percent returns\n",
        "percent_returns = df_stock['Returns']*100"
      ],
      "execution_count": 0,
      "outputs": []
    },
    {
      "metadata": {
        "id": "BgRO6p_nGobD",
        "colab_type": "code",
        "colab": {
          "base_uri": "https://localhost:8080/",
          "height": 202
        },
        "outputId": "f0ed5793-2e70-4146-b20d-782f14950435"
      },
      "cell_type": "code",
      "source": [
        "df_stock.head()"
      ],
      "execution_count": 9,
      "outputs": [
        {
          "output_type": "execute_result",
          "data": {
            "text/html": [
              "<div>\n",
              "<style scoped>\n",
              "    .dataframe tbody tr th:only-of-type {\n",
              "        vertical-align: middle;\n",
              "    }\n",
              "\n",
              "    .dataframe tbody tr th {\n",
              "        vertical-align: top;\n",
              "    }\n",
              "\n",
              "    .dataframe thead th {\n",
              "        text-align: right;\n",
              "    }\n",
              "</style>\n",
              "<table border=\"1\" class=\"dataframe\">\n",
              "  <thead>\n",
              "    <tr style=\"text-align: right;\">\n",
              "      <th></th>\n",
              "      <th>Date</th>\n",
              "      <th>Open</th>\n",
              "      <th>High</th>\n",
              "      <th>Low</th>\n",
              "      <th>Close</th>\n",
              "      <th>Volume</th>\n",
              "      <th>Adjusted</th>\n",
              "      <th>Returns</th>\n",
              "    </tr>\n",
              "  </thead>\n",
              "  <tbody>\n",
              "    <tr>\n",
              "      <th>0</th>\n",
              "      <td>2000-01-03</td>\n",
              "      <td>88.777</td>\n",
              "      <td>89.722</td>\n",
              "      <td>84.712</td>\n",
              "      <td>58.28125</td>\n",
              "      <td>53228400</td>\n",
              "      <td>38.527809</td>\n",
              "      <td>NaN</td>\n",
              "    </tr>\n",
              "    <tr>\n",
              "      <th>1</th>\n",
              "      <td>2000-01-04</td>\n",
              "      <td>85.893</td>\n",
              "      <td>88.588</td>\n",
              "      <td>84.901</td>\n",
              "      <td>56.31250</td>\n",
              "      <td>54119000</td>\n",
              "      <td>37.226345</td>\n",
              "      <td>-0.033780</td>\n",
              "    </tr>\n",
              "    <tr>\n",
              "      <th>2</th>\n",
              "      <td>2000-01-05</td>\n",
              "      <td>84.050</td>\n",
              "      <td>88.021</td>\n",
              "      <td>82.726</td>\n",
              "      <td>56.90625</td>\n",
              "      <td>64059600</td>\n",
              "      <td>37.618851</td>\n",
              "      <td>0.010544</td>\n",
              "    </tr>\n",
              "    <tr>\n",
              "      <th>3</th>\n",
              "      <td>2000-01-06</td>\n",
              "      <td>84.853</td>\n",
              "      <td>86.130</td>\n",
              "      <td>81.970</td>\n",
              "      <td>55.00000</td>\n",
              "      <td>54976600</td>\n",
              "      <td>36.358688</td>\n",
              "      <td>-0.033498</td>\n",
              "    </tr>\n",
              "    <tr>\n",
              "      <th>4</th>\n",
              "      <td>2000-01-07</td>\n",
              "      <td>82.159</td>\n",
              "      <td>84.901</td>\n",
              "      <td>81.166</td>\n",
              "      <td>55.71875</td>\n",
              "      <td>62013600</td>\n",
              "      <td>36.833828</td>\n",
              "      <td>0.013068</td>\n",
              "    </tr>\n",
              "  </tbody>\n",
              "</table>\n",
              "</div>"
            ],
            "text/plain": [
              "        Date    Open    High     Low     Close    Volume   Adjusted   Returns\n",
              "0 2000-01-03  88.777  89.722  84.712  58.28125  53228400  38.527809       NaN\n",
              "1 2000-01-04  85.893  88.588  84.901  56.31250  54119000  37.226345 -0.033780\n",
              "2 2000-01-05  84.050  88.021  82.726  56.90625  64059600  37.618851  0.010544\n",
              "3 2000-01-06  84.853  86.130  81.970  55.00000  54976600  36.358688 -0.033498\n",
              "4 2000-01-07  82.159  84.901  81.166  55.71875  62013600  36.833828  0.013068"
            ]
          },
          "metadata": {
            "tags": []
          },
          "execution_count": 9
        }
      ]
    },
    {
      "metadata": {
        "id": "Sj6RLz3QGq1K",
        "colab_type": "code",
        "colab": {
          "base_uri": "https://localhost:8080/",
          "height": 381
        },
        "outputId": "f63822fd-7a65-4ea2-c81c-0a8519266541"
      },
      "cell_type": "code",
      "source": [
        "df_stock['Returns'].plot()\n",
        "plt.xlabel('Day Number', fontsize=13)\n",
        "plt.ylabel('Change over yesterday',fontsize=13)"
      ],
      "execution_count": 10,
      "outputs": [
        {
          "output_type": "execute_result",
          "data": {
            "text/plain": [
              "Text(0,0.5,'Change over yesterday')"
            ]
          },
          "metadata": {
            "tags": []
          },
          "execution_count": 10
        },
        {
          "output_type": "display_data",
          "data": {
            "image/png": "[encoded data removed]",
            "text/plain": [
              "<matplotlib.figure.Figure at 0x7fa9b31ccb70>"
            ]
          },
          "metadata": {
            "tags": []
          }
        }
      ]
    },
    {
      "metadata": {
        "id": "SCxQMNJGHYtZ",
        "colab_type": "text"
      },
      "cell_type": "markdown",
      "source": [
        "Dropping Null values from percent returns."
      ]
    },
    {
      "metadata": {
        "id": "Gsb8pj46KRVO",
        "colab_type": "code",
        "colab": {}
      },
      "cell_type": "code",
      "source": [
        "percent_returns.dropna(inplace=True)"
      ],
      "execution_count": 0,
      "outputs": []
    },
    {
      "metadata": {
        "id": "N-MpxuiIKfx5",
        "colab_type": "code",
        "colab": {
          "base_uri": "https://localhost:8080/",
          "height": 365
        },
        "outputId": "4a3ee4b8-6186-4192-fda6-67c408868c50"
      },
      "cell_type": "code",
      "source": [
        "plt.hist(percent_returns, bins=75)\n",
        "plt.xlabel('Percent change', fontsize=14)\n",
        "plt.ylabel('Number of days', fontsize=14)\n",
        "plt.show()\n"
      ],
      "execution_count": 12,
      "outputs": [
        {
          "output_type": "display_data",
          "data": {
            "image/png": "[encoded data removed]",
            "text/plain": [
              "<matplotlib.figure.Figure at 0x7fa9b316da58>"
            ]
          },
          "metadata": {
            "tags": []
          }
        }
      ]
    },
    {
      "metadata": {
        "id": "ELGNJItpLEz6",
        "colab_type": "text"
      },
      "cell_type": "markdown",
      "source": [
        "Moments of a distribution:\n",
        "\n",
        "\n",
        "\n",
        "1.   Mean\n",
        "2.   Variance\n",
        "3. Skewness\n",
        "4. Kurtosis\n",
        "\n",
        "\n"
      ]
    },
    {
      "metadata": {
        "id": "jbUsWXecPQHb",
        "colab_type": "text"
      },
      "cell_type": "markdown",
      "source": [
        "Normal distributions tend to have a skewness of 0 and kurtosis of 3.\n",
        "\n",
        "Financial returns however, tend to have positive skewness and kurtosis > 3\n",
        "\n",
        "This means financial returns have a higher probability of outliers and better or worse returns than a normal distribution."
      ]
    },
    {
      "metadata": {
        "id": "y19eHxj-wHVY",
        "colab_type": "text"
      },
      "cell_type": "markdown",
      "source": [
        "A long term investor is not very interested in the daily fluctuations of the stocks. They're more interested in the annualized return. Let's calculate that using the following formula:\n",
        "\n",
        "\n",
        "\n",
        "```\n",
        "Average annualized return = ((1+mu)^252) - 1\n",
        "```\n",
        "\n"
      ]
    },
    {
      "metadata": {
        "id": "r0_O5YYs2qFJ",
        "colab_type": "code",
        "colab": {
          "base_uri": "https://localhost:8080/",
          "height": 52
        },
        "outputId": "87e3dc36-8aaf-4fa9-b6c7-884d859bc97a"
      },
      "cell_type": "code",
      "source": [
        "import numpy as np\n",
        "\n",
        "mean_return_daily = np.mean(df_stock['Returns'])\n",
        "\n",
        "print('Mean daily return is {}'.format(mean_return_daily * 100))\n",
        "\n",
        "mean_annualized_return = ((1+mean_return_daily)**252) - 1\n",
        "\n",
        "print('Mean annualized return is {}'.format(mean_annualized_return * 100))"
      ],
      "execution_count": 13,
      "outputs": [
        {
          "output_type": "stream",
          "text": [
            "Mean daily return is 0.03777754643575774\n",
            "Mean annualized return is 9.985839482858783\n"
          ],
          "name": "stdout"
        }
      ]
    },
    {
      "metadata": {
        "id": "qjszWDTV3HRv",
        "colab_type": "text"
      },
      "cell_type": "markdown",
      "source": [
        "Thus, mean daily return of 0.03% becomes an annualized return of 9.98%. Now let's calculate the second moment - Variance."
      ]
    },
    {
      "metadata": {
        "id": "OwFq9WE94uKQ",
        "colab_type": "code",
        "colab": {
          "base_uri": "https://localhost:8080/",
          "height": 52
        },
        "outputId": "ed495fca-2bd3-4015-a865-371c1cf4686c"
      },
      "cell_type": "code",
      "source": [
        "std_daily = np.std(df_stock['Returns'])\n",
        "print('The daily standard deviation is {}'.format(std_daily))\n",
        "var_daily = std_daily ** 2\n",
        "print('The daily variance is {}'.format(var_daily))"
      ],
      "execution_count": 14,
      "outputs": [
        {
          "output_type": "stream",
          "text": [
            "The daily standard deviation is 0.019341100408708317\n",
            "The daily variance is 0.00037407816501973704\n"
          ],
          "name": "stdout"
        }
      ]
    },
    {
      "metadata": {
        "id": "WrTeREPd3uQ_",
        "colab_type": "text"
      },
      "cell_type": "markdown",
      "source": [
        "We can't annualize volaility (standard deviation) the same way we annualized the mean. We use the following formula to annualize sigma:\n",
        "\n",
        "```\n",
        "sigma_annualized = sigma_daily * sqrt(Number_of_trading_days)\n",
        "```\n",
        "\n",
        "And annualized variance will be the square of annualized standard deviation.\n",
        "    "
      ]
    },
    {
      "metadata": {
        "id": "NrBL-LXK4ZPY",
        "colab_type": "code",
        "colab": {
          "base_uri": "https://localhost:8080/",
          "height": 52
        },
        "outputId": "ac534f2a-e23e-4566-d14b-5b91fccda8aa"
      },
      "cell_type": "code",
      "source": [
        "std_annualized = std_daily * np.sqrt(252)\n",
        "print('The annualized std is {}%'.format(std_annualized*100))\n",
        "variance_annualized = std_annualized ** 2\n",
        "print('The annualized variance is {}%'.format(variance_annualized*100))"
      ],
      "execution_count": 15,
      "outputs": [
        {
          "output_type": "stream",
          "text": [
            "The annualized std is 30.70304505826315%\n",
            "The annualized variance is 9.426769758497374%\n"
          ],
          "name": "stdout"
        }
      ]
    },
    {
      "metadata": {
        "id": "tU44wh3PyE0B",
        "colab_type": "text"
      },
      "cell_type": "markdown",
      "source": [
        "Let's calculate the third moment - Skewness\n",
        "\n",
        "For a stock, we would want positive skewness, i.e. a curve leaning towards the left. It means the probability of getting large positive returns is high, while the negative returns are closely clustered and predictable.\n",
        "\n",
        "Data which are normal distribution would have a skew closer to 0."
      ]
    },
    {
      "metadata": {
        "id": "FVPd5mVPyEXZ",
        "colab_type": "code",
        "colab": {
          "base_uri": "https://localhost:8080/",
          "height": 35
        },
        "outputId": "988641e4-4e95-4cb1-84ad-409d787c9044"
      },
      "cell_type": "code",
      "source": [
        "from scipy.stats import skew\n",
        "\n",
        "clean_returns = df_stock['Returns'].dropna()\n",
        "\n",
        "print('The skew of the returns of MSFT stock is {}'.format(skew(clean_returns)))"
      ],
      "execution_count": 16,
      "outputs": [
        {
          "output_type": "stream",
          "text": [
            "The skew of the returns of MSFT stock is 0.21935459193067852\n"
          ],
          "name": "stdout"
        }
      ]
    },
    {
      "metadata": {
        "id": "xZl38fk05s5A",
        "colab_type": "text"
      },
      "cell_type": "markdown",
      "source": [
        "Let's look at Kurtosis. Most financial returns are Letptokurtic. Meaning - it means that they tend to have positive excess kurtosis, or kurtosis > 3. \n",
        "\n",
        "Excess kurtosis: Subtract 3 from the sample kurtosis to calculate excess kurtosis.\n",
        "\n",
        "If excess Kurtosis is greater than 0, the kutosis is higher than  a normal distribution. The kurtosis function from scipy calculates excess kurtosis.\n",
        "\n",
        "In Finance, high excess kurtosis is an indication of high risk."
      ]
    },
    {
      "metadata": {
        "id": "B9JRWtMGyDU_",
        "colab_type": "code",
        "colab": {
          "base_uri": "https://localhost:8080/",
          "height": 52
        },
        "outputId": "87cba745-8139-46b2-c679-03e21fc218d3"
      },
      "cell_type": "code",
      "source": [
        "from scipy.stats import kurtosis\n",
        "\n",
        "excess_kurtosis = kurtosis(clean_returns)\n",
        "\n",
        "print('Excess kurtosis is {}'.format(excess_kurtosis))\n",
        "\n",
        "forth_moment_kurtosis = excess_kurtosis + 3\n",
        "\n",
        "print('Forth moment - kurtosis is {}'.format(forth_moment_kurtosis))"
      ],
      "execution_count": 17,
      "outputs": [
        {
          "output_type": "stream",
          "text": [
            "Excess kurtosis is 10.31457261802553\n",
            "Forth moment - kurtosis is 13.31457261802553\n"
          ],
          "name": "stdout"
        }
      ]
    },
    {
      "metadata": {
        "id": "-4nDwPcwz_yS",
        "colab_type": "text"
      },
      "cell_type": "markdown",
      "source": [
        "Let's do a statistical test of normality to be sure whether the stock data are really normally distributed. The Shapiro-Wilk test is used to do just that.\n",
        "\n",
        "The shapiro function will return two values: t-stat & p-value\n",
        "\n",
        "if the p-value is low, we can safely reject the null hypothesis that the data are normally distributed."
      ]
    },
    {
      "metadata": {
        "id": "5gOTeuAB01mS",
        "colab_type": "code",
        "colab": {
          "base_uri": "https://localhost:8080/",
          "height": 35
        },
        "outputId": "4192564b-6f56-408a-b07f-08325e8bb71d"
      },
      "cell_type": "code",
      "source": [
        "from scipy.stats import shapiro\n",
        "\n",
        "shapiro_result = shapiro(clean_returns)\n",
        "\n",
        "print('The p-value is {}'.format(shapiro_result[1]))"
      ],
      "execution_count": 18,
      "outputs": [
        {
          "output_type": "stream",
          "text": [
            "The p-value is 0.0\n"
          ],
          "name": "stdout"
        }
      ]
    },
    {
      "metadata": {
        "id": "_vMxQxyy1d4V",
        "colab_type": "text"
      },
      "cell_type": "markdown",
      "source": [
        "The p-value given by the test is 0.0 which is strong evidence against the null hypothesis. Thus we can be sure that the stock data are not normally distributed. "
      ]
    },
    {
      "metadata": {
        "id": "6-FNPaGBinrO",
        "colab_type": "text"
      },
      "cell_type": "markdown",
      "source": [
        "Let's now construct a portfolio. \n",
        "\n",
        "Apple \tAAPL \t12%\n",
        "\n",
        "Microsoft \tMSFT \t15%\n",
        "\n",
        "Exxon Mobil \tXOM \t8%\n",
        "\n",
        "Johnson & Johnson \tJNJ \t5%\n",
        "\n",
        "JP Morgan \tJPM \t9%\n",
        "\n",
        "Amazon \tAMZN \t10%\n",
        "\n",
        "General Electric \tGE \t11%\n",
        "\n",
        "Facebook \tFB \t14%\n",
        "\n",
        "AT&T \tT \t16%"
      ]
    },
    {
      "metadata": {
        "id": "vIyznubEneJM",
        "colab_type": "code",
        "colab": {}
      },
      "cell_type": "code",
      "source": [
        "#files.upload()"
      ],
      "execution_count": 0,
      "outputs": []
    },
    {
      "metadata": {
        "id": "RjAqSM-7Kpg5",
        "colab_type": "code",
        "colab": {}
      },
      "cell_type": "code",
      "source": [
        "#files.download('./StockReturns.csv')"
      ],
      "execution_count": 0,
      "outputs": []
    },
    {
      "metadata": {
        "id": "YPKXD1m4LLnO",
        "colab_type": "code",
        "colab": {
          "base_uri": "https://localhost:8080/",
          "height": 104
        },
        "outputId": "0b7bc13f-3ef4-4b3e-aa80-1ae23e254f85"
      },
      "cell_type": "code",
      "source": [
        "os.listdir()"
      ],
      "execution_count": 21,
      "outputs": [
        {
          "output_type": "execute_result",
          "data": {
            "text/plain": [
              "['sample_data',\n",
              " '.config',\n",
              " 'MSFTPrices.csv.txt',\n",
              " 'StockPortfolio.csv',\n",
              " 'StockReturns.txt']"
            ]
          },
          "metadata": {
            "tags": []
          },
          "execution_count": 21
        }
      ]
    },
    {
      "metadata": {
        "id": "ovdbZpD7qZRY",
        "colab_type": "code",
        "colab": {
          "base_uri": "https://localhost:8080/",
          "height": 233
        },
        "outputId": "17d471f0-5284-46ad-9850-c12d4fbc3503"
      },
      "cell_type": "code",
      "source": [
        "df_StockReturns = pd.read_csv('StockPortfolio.csv', header=0, parse_dates=['Date'], index_col=['Date']) \n",
        "\n",
        "df_StockReturns.head()"
      ],
      "execution_count": 22,
      "outputs": [
        {
          "output_type": "execute_result",
          "data": {
            "text/html": [
              "<div>\n",
              "<style scoped>\n",
              "    .dataframe tbody tr th:only-of-type {\n",
              "        vertical-align: middle;\n",
              "    }\n",
              "\n",
              "    .dataframe tbody tr th {\n",
              "        vertical-align: top;\n",
              "    }\n",
              "\n",
              "    .dataframe thead th {\n",
              "        text-align: right;\n",
              "    }\n",
              "</style>\n",
              "<table border=\"1\" class=\"dataframe\">\n",
              "  <thead>\n",
              "    <tr style=\"text-align: right;\">\n",
              "      <th></th>\n",
              "      <th>AAPL</th>\n",
              "      <th>MSFT</th>\n",
              "      <th>XOM</th>\n",
              "      <th>JNJ</th>\n",
              "      <th>JPM</th>\n",
              "      <th>AMZN</th>\n",
              "      <th>GE</th>\n",
              "      <th>FB</th>\n",
              "      <th>T</th>\n",
              "    </tr>\n",
              "    <tr>\n",
              "      <th>Date</th>\n",
              "      <th></th>\n",
              "      <th></th>\n",
              "      <th></th>\n",
              "      <th></th>\n",
              "      <th></th>\n",
              "      <th></th>\n",
              "      <th></th>\n",
              "      <th></th>\n",
              "      <th></th>\n",
              "    </tr>\n",
              "  </thead>\n",
              "  <tbody>\n",
              "    <tr>\n",
              "      <th>2017-01-03</th>\n",
              "      <td>0.002849</td>\n",
              "      <td>0.007081</td>\n",
              "      <td>0.006980</td>\n",
              "      <td>0.005468</td>\n",
              "      <td>0.010894</td>\n",
              "      <td>0.005068</td>\n",
              "      <td>0.002848</td>\n",
              "      <td>0.015732</td>\n",
              "      <td>0.011521</td>\n",
              "    </tr>\n",
              "    <tr>\n",
              "      <th>2017-01-04</th>\n",
              "      <td>-0.001119</td>\n",
              "      <td>-0.004474</td>\n",
              "      <td>-0.011002</td>\n",
              "      <td>-0.001640</td>\n",
              "      <td>0.001844</td>\n",
              "      <td>0.004657</td>\n",
              "      <td>0.000316</td>\n",
              "      <td>0.015660</td>\n",
              "      <td>-0.005811</td>\n",
              "    </tr>\n",
              "    <tr>\n",
              "      <th>2017-01-05</th>\n",
              "      <td>0.005085</td>\n",
              "      <td>0.000000</td>\n",
              "      <td>-0.014907</td>\n",
              "      <td>0.010463</td>\n",
              "      <td>-0.009205</td>\n",
              "      <td>0.030732</td>\n",
              "      <td>-0.005678</td>\n",
              "      <td>0.016682</td>\n",
              "      <td>-0.002806</td>\n",
              "    </tr>\n",
              "    <tr>\n",
              "      <th>2017-01-06</th>\n",
              "      <td>0.011148</td>\n",
              "      <td>0.008668</td>\n",
              "      <td>-0.000565</td>\n",
              "      <td>-0.004792</td>\n",
              "      <td>0.000116</td>\n",
              "      <td>0.019912</td>\n",
              "      <td>0.002855</td>\n",
              "      <td>0.022707</td>\n",
              "      <td>-0.019924</td>\n",
              "    </tr>\n",
              "    <tr>\n",
              "      <th>2017-01-09</th>\n",
              "      <td>0.009159</td>\n",
              "      <td>-0.003183</td>\n",
              "      <td>-0.016497</td>\n",
              "      <td>-0.000172</td>\n",
              "      <td>0.000697</td>\n",
              "      <td>0.001168</td>\n",
              "      <td>-0.004745</td>\n",
              "      <td>0.012074</td>\n",
              "      <td>-0.012585</td>\n",
              "    </tr>\n",
              "  </tbody>\n",
              "</table>\n",
              "</div>"
            ],
            "text/plain": [
              "                AAPL      MSFT       XOM       JNJ       JPM      AMZN  \\\n",
              "Date                                                                     \n",
              "2017-01-03  0.002849  0.007081  0.006980  0.005468  0.010894  0.005068   \n",
              "2017-01-04 -0.001119 -0.004474 -0.011002 -0.001640  0.001844  0.004657   \n",
              "2017-01-05  0.005085  0.000000 -0.014907  0.010463 -0.009205  0.030732   \n",
              "2017-01-06  0.011148  0.008668 -0.000565 -0.004792  0.000116  0.019912   \n",
              "2017-01-09  0.009159 -0.003183 -0.016497 -0.000172  0.000697  0.001168   \n",
              "\n",
              "                  GE        FB         T  \n",
              "Date                                      \n",
              "2017-01-03  0.002848  0.015732  0.011521  \n",
              "2017-01-04  0.000316  0.015660 -0.005811  \n",
              "2017-01-05 -0.005678  0.016682 -0.002806  \n",
              "2017-01-06  0.002855  0.022707 -0.019924  \n",
              "2017-01-09 -0.004745  0.012074 -0.012585  "
            ]
          },
          "metadata": {
            "tags": []
          },
          "execution_count": 22
        }
      ]
    },
    {
      "metadata": {
        "id": "wGFg4lwUjdzZ",
        "colab_type": "code",
        "colab": {
          "base_uri": "https://localhost:8080/",
          "height": 363
        },
        "outputId": "8f2d44b4-84f4-4a7b-8cf7-0e5345841d7b"
      },
      "cell_type": "code",
      "source": [
        "\n",
        "portfolio_weights = np.array([0.12, 0.15, 0.08, 0.05, 0.09, 0.10, 0.11, 0.14, 0.16])\n",
        "\n",
        "# Calculate the weighted stock returns\n",
        "WeightedReturns = df_StockReturns.mul(portfolio_weights, axis=1)\n",
        "\n",
        "df_StockReturns['Portfolio'] = WeightedReturns.sum(axis=1)\n",
        "\n",
        "# Plot the cumulative portfolio returns over time\n",
        "CumulativeReturns = ((1+df_StockReturns[\"Portfolio\"]).cumprod()-1)\n",
        "\n",
        "CumulativeReturns.plot()\n",
        "plt.xlabel('Time')\n",
        "plt.ylabel('Rate of Return')\n",
        "plt.title('Portfolio return prediction')\n",
        "plt.show()"
      ],
      "execution_count": 23,
      "outputs": [
        {
          "output_type": "display_data",
          "data": {
            "image/png": "[encoded data removed]",
            "text/plain": [
              "<matplotlib.figure.Figure at 0x7fa9b07bd4a8>"
            ]
          },
          "metadata": {
            "tags": []
          }
        }
      ]
    },
    {
      "metadata": {
        "id": "AvqLdhw5M8Xo",
        "colab_type": "text"
      },
      "cell_type": "markdown",
      "source": [
        "### Equally waited portfolio\n",
        "\n",
        "And equally waited portfolio might be considered as a baseline model to which we can compare our actual portfolio allocation. Let's calculate the returns on an equally waited portfolio. \n",
        "\n",
        "First, let's create a function to plot the cumulative returns so that we don't have to repeat the same code every time."
      ]
    },
    {
      "metadata": {
        "id": "NXA_x5wMM8gm",
        "colab_type": "code",
        "colab": {}
      },
      "cell_type": "code",
      "source": [
        "def cumulative_returns_plot(cols):\n",
        "    CumulativeReturns = ((1+df_StockReturns[cols]).cumprod()-1)\n",
        "    CumulativeReturns.plot()\n",
        "    plt.show()"
      ],
      "execution_count": 0,
      "outputs": []
    },
    {
      "metadata": {
        "id": "oHPliPPzNrd9",
        "colab_type": "code",
        "colab": {
          "base_uri": "https://localhost:8080/",
          "height": 349
        },
        "outputId": "91183669-9017-43d5-9b78-2b8f0e82a7eb"
      },
      "cell_type": "code",
      "source": [
        "number_of_stocks = 9\n",
        "portfolio_weights_ew = np.repeat([1/9],repeats=9)\n",
        "df_StockReturns['Portfolio_EW'] = df_StockReturns.iloc[:,:9].mul(portfolio_weights_ew, axis=1).sum(axis=1)\n",
        "\n",
        "cumulative_returns_plot(['Portfolio', 'Portfolio_EW'])"
      ],
      "execution_count": 25,
      "outputs": [
        {
          "output_type": "display_data",
          "data": {
            "image/png": "[encoded data removed]",
            "text/plain": [
              "<matplotlib.figure.Figure at 0x7fa9b07737f0>"
            ]
          },
          "metadata": {
            "tags": []
          }
        }
      ]
    },
    {
      "metadata": {
        "id": "yLf0e1L8QQ1Z",
        "colab_type": "text"
      },
      "cell_type": "markdown",
      "source": [
        "### Market Cap Weighted Portfolio\n",
        "\n",
        "In this approach, we assign weights in proportion to the market capital of the companies. The logic behind doing so, is that when large companies perform well, our portfolio will react to it accordingly. Following are the market capitals of the stocks in our portfolio in Billions.\n",
        "\n",
        "Apple\tAAPL\t601.51\n",
        "\n",
        "Microsoft\tMSFT\t469.25\n",
        "\n",
        "Exxon Mobil\tXOM\t349.5\n",
        "\n",
        "Johnson & Johnson\tJNJ\t310.48\n",
        "\n",
        "JP Morgan\tJPM\t299.77\n",
        "\n",
        "Amazon\tAMZN\t356.94\n",
        "\n",
        "General Electric\tGE\t268.88\n",
        "\n",
        "Facebook\tFB\t331.57\n",
        "\n",
        "AT&T\tT\t246.09"
      ]
    },
    {
      "metadata": {
        "id": "Rz5E8HB4TKCO",
        "colab_type": "code",
        "colab": {
          "base_uri": "https://localhost:8080/",
          "height": 349
        },
        "outputId": "3cdd4bc0-cdb1-4bc3-a0fb-f0bcf001e6f2"
      },
      "cell_type": "code",
      "source": [
        "market_capitalizations = np.array([601.51, 469.25, 349.5, 310.48, 299.77, 356.94, 268.88, 331.57, 246.09])\n",
        "\n",
        "mcap_weights = market_capitalizations/np.sum(market_capitalizations)\n",
        "\n",
        "df_StockReturns['Portfolio_MCap'] = df_StockReturns.iloc[:, 0:9].mul(mcap_weights, axis=1).sum(axis=1)\n",
        "\n",
        "cumulative_returns_plot(['Portfolio', 'Portfolio_EW', 'Portfolio_MCap'])"
      ],
      "execution_count": 26,
      "outputs": [
        {
          "output_type": "display_data",
          "data": {
            "image/png": "[encoded data removed]",
            "text/plain": [
              "<matplotlib.figure.Figure at 0x7fa9b06f1240>"
            ]
          },
          "metadata": {
            "tags": []
          }
        }
      ]
    },
    {
      "metadata": {
        "id": "0koDskqOT5wK",
        "colab_type": "text"
      },
      "cell_type": "markdown",
      "source": [
        "The market cap weighted portfolio outperforms both equally weighted and our custom allocated one.\n",
        "\n",
        "Fun Fact: The S&P 500 Index of USA is market cap weighted."
      ]
    },
    {
      "metadata": {
        "id": "xI5l4sDBTwjo",
        "colab_type": "text"
      },
      "cell_type": "markdown",
      "source": [
        "### Correlation between the stocks\n",
        "\n",
        "Let's calculate the Pearson's correlation coeff between the stocks."
      ]
    },
    {
      "metadata": {
        "id": "LGhupidHgxk2",
        "colab_type": "code",
        "colab": {
          "base_uri": "https://localhost:8080/",
          "height": 225
        },
        "outputId": "79e2f802-1b2f-4c15-9ea6-e520ad3b6320"
      },
      "cell_type": "code",
      "source": [
        "list(df_StockReturns.columns)"
      ],
      "execution_count": 27,
      "outputs": [
        {
          "output_type": "execute_result",
          "data": {
            "text/plain": [
              "['AAPL',\n",
              " 'MSFT',\n",
              " 'XOM',\n",
              " 'JNJ',\n",
              " 'JPM',\n",
              " 'AMZN',\n",
              " 'GE',\n",
              " 'FB',\n",
              " 'T',\n",
              " 'Portfolio',\n",
              " 'Portfolio_EW',\n",
              " 'Portfolio_MCap']"
            ]
          },
          "metadata": {
            "tags": []
          },
          "execution_count": 27
        }
      ]
    },
    {
      "metadata": {
        "id": "AKqxpXJhfpNp",
        "colab_type": "code",
        "colab": {
          "base_uri": "https://localhost:8080/",
          "height": 381
        },
        "outputId": "57e0fbea-1a93-445b-fabf-fcaa3300db6f"
      },
      "cell_type": "code",
      "source": [
        "correlation_matrix = df_StockReturns[['AAPL',\n",
        " 'MSFT',\n",
        " 'XOM',\n",
        " 'JNJ',\n",
        " 'JPM',\n",
        " 'AMZN',\n",
        " 'GE',\n",
        " 'FB',\n",
        " 'T']].corr()\n",
        "print(correlation_matrix)"
      ],
      "execution_count": 28,
      "outputs": [
        {
          "output_type": "stream",
          "text": [
            "          AAPL      MSFT       XOM       JNJ       JPM      AMZN        GE  \\\n",
            "AAPL  1.000000  0.437430  0.055505  0.038432  0.199914  0.509472  0.006766   \n",
            "MSFT  0.437430  1.000000  0.084108  0.230215  0.191248  0.621096 -0.044827   \n",
            "XOM   0.055505  0.084108  1.000000  0.121012  0.305926  0.015118  0.193861   \n",
            "JNJ   0.038432  0.230215  0.121012  1.000000  0.070328  0.052781  0.067930   \n",
            "JPM   0.199914  0.191248  0.305926  0.070328  1.000000  0.013919  0.257401   \n",
            "AMZN  0.509472  0.621096  0.015118  0.052781  0.013919  1.000000 -0.092188   \n",
            "GE    0.006766 -0.044827  0.193861  0.067930  0.257401 -0.092188  1.000000   \n",
            "FB    0.542367  0.543341 -0.046813  0.079391  0.095245  0.653030 -0.024364   \n",
            "T     0.005082 -0.021079  0.197576  0.091622  0.252832 -0.017909  0.292706   \n",
            "\n",
            "            FB         T  \n",
            "AAPL  0.542367  0.005082  \n",
            "MSFT  0.543341 -0.021079  \n",
            "XOM  -0.046813  0.197576  \n",
            "JNJ   0.079391  0.091622  \n",
            "JPM   0.095245  0.252832  \n",
            "AMZN  0.653030 -0.017909  \n",
            "GE   -0.024364  0.292706  \n",
            "FB    1.000000 -0.024505  \n",
            "T    -0.024505  1.000000  \n"
          ],
          "name": "stdout"
        }
      ]
    },
    {
      "metadata": {
        "id": "LXh6Kvuzf0Zo",
        "colab_type": "text"
      },
      "cell_type": "markdown",
      "source": [
        "This is not very readable. Let's generate a heatmap of correlations instead."
      ]
    },
    {
      "metadata": {
        "id": "NdYakZGJf8Ug",
        "colab_type": "code",
        "colab": {
          "base_uri": "https://localhost:8080/",
          "height": 347
        },
        "outputId": "c9616ec6-97d9-42c5-92db-5a98b00ad676"
      },
      "cell_type": "code",
      "source": [
        "import seaborn as sbn\n",
        "sbn.heatmap(correlation_matrix, \n",
        "            annot=True, \n",
        "            cmap='YlGnBu',\n",
        "           linewidths=0.3,\n",
        "           annot_kws = {'size':8})\n",
        "\n",
        "plt.xticks(rotation=0)\n",
        "plt.yticks(rotation=0)\n",
        "\n",
        "plt.show()"
      ],
      "execution_count": 29,
      "outputs": [
        {
          "output_type": "display_data",
          "data": {
            "image/png": "[encoded data removed]",
            "text/plain": [
              "<matplotlib.figure.Figure at 0x7fa9b07159e8>"
            ]
          },
          "metadata": {
            "tags": []
          }
        }
      ]
    },
    {
      "metadata": {
        "id": "hP4mVvdmggoZ",
        "colab_type": "text"
      },
      "cell_type": "markdown",
      "source": [
        "The correlation matrix is very useful in investment analysis. Looking at the above matrix, we know that the Amazon has a positive correlation with Microsoft, Apple and Facebook. This is very useful information to predict the future behaviour of stocks.\n",
        "\n",
        "Now, let's calculate the covariance matrix."
      ]
    },
    {
      "metadata": {
        "id": "HwTnlfDfh6S7",
        "colab_type": "code",
        "colab": {
          "base_uri": "https://localhost:8080/",
          "height": 381
        },
        "outputId": "bb3d587e-cf79-4195-fb62-2edd064a26d0"
      },
      "cell_type": "code",
      "source": [
        "cov_matrix = df_StockReturns[['AAPL',\n",
        " 'MSFT',\n",
        " 'XOM',\n",
        " 'JNJ',\n",
        " 'JPM',\n",
        " 'AMZN',\n",
        " 'GE',\n",
        " 'FB',\n",
        " 'T']].cov()\n",
        "\n",
        "# Annualize the covariance matrix\n",
        "\n",
        "cov_matrix_annual = cov_matrix * 252\n",
        "\n",
        "print(cov_matrix_annual)"
      ],
      "execution_count": 30,
      "outputs": [
        {
          "output_type": "stream",
          "text": [
            "          AAPL      MSFT       XOM       JNJ       JPM      AMZN        GE  \\\n",
            "AAPL  0.030996  0.011400  0.001093  0.000774  0.005716  0.018805  0.000236   \n",
            "MSFT  0.011400  0.021912  0.001392  0.003899  0.004597  0.019275 -0.001315   \n",
            "XOM   0.001093  0.001392  0.012500  0.001548  0.005554  0.000354  0.004295   \n",
            "JNJ   0.000774  0.003899  0.001548  0.013092  0.001307  0.001266  0.001540   \n",
            "JPM   0.005716  0.004597  0.005554  0.001307  0.026371  0.000474  0.008283   \n",
            "AMZN  0.018805  0.019275  0.000354  0.001266  0.000474  0.043954 -0.003830   \n",
            "GE    0.000236 -0.001315  0.004295  0.001540  0.008283 -0.003830  0.039270   \n",
            "FB    0.016243  0.013682 -0.000890  0.001545  0.002631  0.023290 -0.000821   \n",
            "T     0.000152 -0.000530  0.003751  0.001780  0.006972 -0.000638  0.009849   \n",
            "\n",
            "            FB         T  \n",
            "AAPL  0.016243  0.000152  \n",
            "MSFT  0.013682 -0.000530  \n",
            "XOM  -0.000890  0.003751  \n",
            "JNJ   0.001545  0.001780  \n",
            "JPM   0.002631  0.006972  \n",
            "AMZN  0.023290 -0.000638  \n",
            "GE   -0.000821  0.009849  \n",
            "FB    0.028937 -0.000708  \n",
            "T    -0.000708  0.028833  \n"
          ],
          "name": "stdout"
        }
      ]
    },
    {
      "metadata": {
        "id": "HSE1k3CjbbM_",
        "colab_type": "text"
      },
      "cell_type": "markdown",
      "source": [
        "Now, let's calculate the portfolio volatility. The formula for calculating it is -\n",
        "\n",
        "sigma = sqrt(w_T . covariance_matrix . w)\n",
        "\n",
        "w_T is the transpose of w. There is a dot product between the three quantities."
      ]
    },
    {
      "metadata": {
        "id": "xzoB2VHOi_b9",
        "colab_type": "code",
        "colab": {
          "base_uri": "https://localhost:8080/",
          "height": 35
        },
        "outputId": "9948f184-cb96-49dd-f8ac-c8fa35852ff3"
      },
      "cell_type": "code",
      "source": [
        "portfolio_volatility = np.sqrt(np.dot(portfolio_weights.T, np.dot(cov_matrix_annual, portfolio_weights)))\n",
        "\n",
        "print('The portfolio volatility is {}%'.format(portfolio_volatility * 100))"
      ],
      "execution_count": 33,
      "outputs": [
        {
          "output_type": "stream",
          "text": [
            "The portfolio volatility is 8.931417642713807%\n"
          ],
          "name": "stdout"
        }
      ]
    },
    {
      "metadata": {
        "id": "S0_MfwA2nspB",
        "colab_type": "text"
      },
      "cell_type": "markdown",
      "source": [
        "### Sharpe Ratios\n",
        "\n",
        "The Sharpe ratio is a simple metric to calculate the risk adjusted return. It helps you to understand how much risk is being taken to achieve a certain leve of return. We always seek to improve the Sharpe ratio and it is very commonly used to compare investment strategies.\n",
        "\n",
        "The original Sharpe Ratio as defined by William Sharpe is simply defined as -\n",
        "\n",
        "S = (R_a - r_f) / sigma_a\n",
        "\n",
        "Where, \n",
        "\n",
        "* S = Sharpe Ratio\n",
        "* R_a = Asset return\n",
        "* r_f = risk free rate of return\n",
        "* sigma_a = Asset volatility (standard deviation)\n",
        "\n"
      ]
    },
    {
      "metadata": {
        "id": "8iU2p2LHD7f_",
        "colab_type": "text"
      },
      "cell_type": "markdown",
      "source": [
        "Let me consider a few Randomly generated portfolios to calculate the Sharpe ratio. The file RandomPortfolios.txt contains some such weighted folios that will be useful for this calculation. Let's load the file into a dataframe."
      ]
    },
    {
      "metadata": {
        "id": "H0fc1hGPCe_a",
        "colab_type": "code",
        "colab": {
          "resources": {
            "http://localhost:8080/nbextensions/google.colab/files.js": {
              "data": "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",
              "ok": true,
              "headers": [
                [
                  "content-type",
                  "application/javascript"
                ]
              ],
              "status": 200,
              "status_text": ""
            }
          },
          "base_uri": "https://localhost:8080/",
          "height": 111
        },
        "outputId": "486dc4f8-ad72-4b68-f4df-fdc5feb6eada"
      },
      "cell_type": "code",
      "source": [
        "files.upload()"
      ],
      "execution_count": 34,
      "outputs": [
        {
          "output_type": "display_data",
          "data": {
            "text/html": [
              "\n",
              "     <input type=\"file\" id=\"files-28a1f95b-1475-4a2b-80f1-6b0842391235\" name=\"files[]\" multiple disabled />\n",
              "     <output id=\"result-28a1f95b-1475-4a2b-80f1-6b0842391235\">\n",
              "      Upload widget is only available when the cell has been executed in the\n",
              "      current browser session. Please rerun this cell to enable.\n",
              "      </output>\n",
              "      <script src=\"/nbextensions/google.colab/files.js\"></script> "
            ],
            "text/plain": [
              "<IPython.core.display.HTML object>"
            ]
          },
          "metadata": {
            "tags": []
          }
        },
        {
          "output_type": "stream",
          "text": [
            "Saving RandomPortfolios.txt to RandomPortfolios.txt\n"
          ],
          "name": "stdout"
        },
        {
          "output_type": "execute_result",
          "data": {
            "text/plain": [
              "{'RandomPortfolios.txt': b'ind,AAPL weight,MSFT weight,XOM weight,JNJ weight,JPM weight,AMZN weight,GE weight,FB weight,T weight,Returns,Volatility\\n0,5.25e-05,0.26310974800000003,0.0070223130000000005,0.040087065,2.6600000000000003e-05,0.024316061,0.355898775,0.299399548,0.010087383,0.127452587,0.17156458800000002\\n1,0.042360033,0.034922454,0.07935546,0.04305675,0.001435326,0.20203215300000002,0.225923875,0.36232395,0.008589999000000001,0.138613863,0.182723102\\n2,0.207824125,0.0021317470000000002,0.005982273000000001,0.041656779,0.007498043,0.406642248,0.06492924900000001,0.229260039,0.034075496000000004,0.155952232,0.201184523\\n3,0.096564623,0.016775023,0.118409461,0.037724854,0.020013108999999998,0.045195245999999994,0.51228233,0.153014973,2.0399999999999998e-05,0.118786815,0.148958409\\n4,0.13130934,0.002733386,0.002359739,0.047573184000000004,0.050633440999999994,0.289410334,0.31371707600000004,0.157122662,0.005140838,0.138303769,0.17147254899999997\\n5,0.03021665,0.0043053679999999995,0.107713763,0.02910653,0.029902841,0.188373204,0.269349756,0.33292695,0.008104938,0.142316154,0.17577720800000002\\n6,0.007655100000000001,0.16903814,0.02311366,0.032340067,0.0043982990000000005,0.085970065,0.26303777300000003,0.360286987,0.054159909000000006,0.142177874,0.175247939\\n7,0.169201269,0.209762069,0.012898795,0.021551846,0.005978285,0.319980841,0.227701908,0.025310223,0.007614764,0.143906919,0.17676586800000002\\n8,0.268995841,0.053900269,0.002832846,0.02543234,0.008408255,0.322627444,0.148875538,0.13910515,0.029822317,0.149416785,0.182562721\\n9,0.021353146,0.06928097400000001,0.014999171,0.036764216,0.059346969000000006,0.134356104,0.30967336300000003,0.332524516,0.021701542,0.142920906,0.174061711\\n10,0.167405993,0.018348483999999998,0.02524138,0.113060088,0.02319967,0.30908328,0.053149327999999996,0.288905959,0.001605817,0.156731807,0.190583015\\n11,0.094205206,0.146557012,0.01040183,0.019582581,0.062857232,0.273788204,0.08498283400000001,0.293374181,0.014250918999999999,0.166175047,0.194416423\\n12,0.012776786000000002,0.053917857,0.019865615,0.034818748999999996,0.039258815,0.30474460800000003,0.08183023,0.35032263399999997,0.102464706,0.172651608,0.194298465\\n13,0.000444605,0.087763749,0.051640535,0.062312534,0.099402895,0.282946485,0.06483596700000001,0.34158689299999995,0.009066336999999999,0.17666253899999998,0.19550478\\n14,0.105286814,0.22307856,0.055845236,0.046821787000000004,0.033897848,0.38645205200000005,0.016693244,0.112212075,0.019712383,0.174546686,0.19309316199999998\\n15,0.010112534,0.126161003,0.029104927000000003,0.010523592,0.126613589,0.27047447,0.073727149,0.31711573,0.036167006,0.185698788,0.19416005100000003\\n16,0.032162882999999996,0.28730726300000003,0.066092489,0.026823168999999997,0.023732398,0.376691567,0.007952724,0.101803541,0.07743396599999999,0.18427304100000003,0.190771485\\n17,0.044244179,0.01905066,0.047196219000000005,0.00022470700000000002,0.17876410399999998,0.340812833,0.047945918,0.304241378,0.017520003,0.196063529,0.20065165\\n18,0.048785147,0.35697251700000004,0.013200881999999999,0.000384306,0.129509025,0.334926451,0.037674547999999995,0.056397292,0.022149834,0.195746332,0.193360487\\n19,0.14539882,0.065249636,0.058788502,0.27856497,0.0036219859999999998,0.000904485,0.13428774300000001,0.027738401,0.285445457,0.196001604,0.11497633300000001\\n20,0.046151331,0.058438620999999996,0.089947283,0.22034018600000002,0.024723332999999997,0.047715749,0.18401930100000002,0.023657882999999998,0.305006312,0.20085413,0.115661711\\n21,0.081322487,0.106610601,0.048776397,0.320338401,0.050057013,0.005624535,0.08830784900000001,0.034961,0.26400171699999997,0.208320855,0.115262365\\n22,0.089644252,0.044089437999999995,0.11427592800000001,0.258648306,0.053039024000000004,0.036644397999999995,0.11570072599999999,0.020322026,0.267635902,0.209498517,0.11542392800000001\\n23,0.050342695,0.049275907,0.061947028,0.364314155,0.018870816000000002,0.071618924,0.01195878,0.065183677,0.30648801800000003,0.21458282899999997,0.115505966\\n24,0.038888252000000005,0.08803043099999999,0.051176934,0.35130298,0.029852816,0.067091627,0.050649665,0.00855689,0.314450406,0.21559113600000002,0.114129285\\n25,0.055275534,0.128181872,0.10336810199999999,0.34272691,0.020867195,0.008433586,0.002396096,0.044545512999999995,0.29420519300000003,0.218555864,0.114868555\\n26,0.02432071,0.044714456,0.0036730129999999997,0.307706154,0.056154129000000004,0.001023712,0.062752528,0.126369218,0.373286081,0.22349642100000003,0.115623715\\n27,0.086586217,0.015224722,0.045222911,0.340999381,0.028686457000000002,0.034817584,0.06975889099999999,0.01879761,0.359906228,0.218121234,0.111670387\\n28,0.09550802,0.023499493,0.091694185,0.329481749,0.09272293599999999,0.039611979,0.0068915999999999995,0.048433450999999995,0.272156587,0.227840607,0.11561530199999999\\n29,0.009148553,0.007765836999999999,0.11540520800000001,0.209484046,0.25613796,0.005153405,0.016759665,0.11898515,0.261160176,0.262068953,0.12860899\\n30,0.030006301000000003,0.024362021,0.190152298,0.042506941,0.20522499100000002,0.021725092999999997,0.10348900300000001,0.027644767,0.354888583,0.262002997,0.128491728\\n31,0.05723154900000001,0.061136406,0.06866283299999999,0.19216660100000002,0.29690571600000004,0.033932965,0.028918693,0.008425947,0.25261929,0.268654618,0.131688945\\n32,0.019615723999999998,0.057627757,0.093644345,0.12454930800000001,0.230819881,0.041911433,0.058658838,0.058874432000000004,0.314298282,0.260649905,0.127690688\\n33,0.018652033999999998,0.045599442999999996,0.166631103,0.21315400899999998,0.161138497,0.043603717,0.048968217,0.006319124000000001,0.295933856,0.24843437,0.12081271699999999\\n34,0.12305775699999999,0.030524565,0.024123227999999997,0.228752893,0.184660002,0.072267757,0.008572948,0.013285397,0.314755453,0.251107271,0.12206506199999999\\n35,0.015458486,0.017237368,0.192526456,0.199120732,0.19891949399999997,0.055857402,0.032069618,0.004464847,0.284345597,0.257856272,0.12436037400000001\\n36,0.031254313,0.002058356,0.072222093,0.266291037,0.19456250100000003,0.049253320999999996,0.065226676,0.005183104,0.313948598,0.250673909,0.119374651\\n37,0.085197756,0.057888457000000004,0.084808785,0.24322328399999998,0.160695792,0.0033595390000000004,0.003773628,0.04042369,0.320629069,0.251112365,0.118427603\\n38,0.007553693,0.005732549,0.007244464,0.166723794,0.382355781,0.017940648,0.0103131,0.011254435,0.39088153600000003,0.306115431,0.134825153\\n'}"
            ]
          },
          "metadata": {
            "tags": []
          },
          "execution_count": 34
        }
      ]
    },
    {
      "metadata": {
        "id": "Y9iRdAbRDhMg",
        "colab_type": "code",
        "colab": {}
      },
      "cell_type": "code",
      "source": [
        "df_RandomPortfolios = pd.read_csv('RandomPortfolios.txt', index_col = 'ind')"
      ],
      "execution_count": 0,
      "outputs": []
    },
    {
      "metadata": {
        "id": "8Msm5ZLKDjDS",
        "colab_type": "code",
        "colab": {
          "base_uri": "https://localhost:8080/",
          "height": 233
        },
        "outputId": "05c7733d-42d6-4b94-b925-00a63705ecf8"
      },
      "cell_type": "code",
      "source": [
        "df_RandomPortfolios.head()"
      ],
      "execution_count": 37,
      "outputs": [
        {
          "output_type": "execute_result",
          "data": {
            "text/html": [
              "<div>\n",
              "<style scoped>\n",
              "    .dataframe tbody tr th:only-of-type {\n",
              "        vertical-align: middle;\n",
              "    }\n",
              "\n",
              "    .dataframe tbody tr th {\n",
              "        vertical-align: top;\n",
              "    }\n",
              "\n",
              "    .dataframe thead th {\n",
              "        text-align: right;\n",
              "    }\n",
              "</style>\n",
              "<table border=\"1\" class=\"dataframe\">\n",
              "  <thead>\n",
              "    <tr style=\"text-align: right;\">\n",
              "      <th></th>\n",
              "      <th>AAPL weight</th>\n",
              "      <th>MSFT weight</th>\n",
              "      <th>XOM weight</th>\n",
              "      <th>JNJ weight</th>\n",
              "      <th>JPM weight</th>\n",
              "      <th>AMZN weight</th>\n",
              "      <th>GE weight</th>\n",
              "      <th>FB weight</th>\n",
              "      <th>T weight</th>\n",
              "      <th>Returns</th>\n",
              "      <th>Volatility</th>\n",
              "    </tr>\n",
              "    <tr>\n",
              "      <th>ind</th>\n",
              "      <th></th>\n",
              "      <th></th>\n",
              "      <th></th>\n",
              "      <th></th>\n",
              "      <th></th>\n",
              "      <th></th>\n",
              "      <th></th>\n",
              "      <th></th>\n",
              "      <th></th>\n",
              "      <th></th>\n",
              "      <th></th>\n",
              "    </tr>\n",
              "  </thead>\n",
              "  <tbody>\n",
              "    <tr>\n",
              "      <th>0</th>\n",
              "      <td>0.000053</td>\n",
              "      <td>0.263110</td>\n",
              "      <td>0.007022</td>\n",
              "      <td>0.040087</td>\n",
              "      <td>0.000027</td>\n",
              "      <td>0.024316</td>\n",
              "      <td>0.355899</td>\n",
              "      <td>0.299400</td>\n",
              "      <td>0.010087</td>\n",
              "      <td>0.127453</td>\n",
              "      <td>0.171565</td>\n",
              "    </tr>\n",
              "    <tr>\n",
              "      <th>1</th>\n",
              "      <td>0.042360</td>\n",
              "      <td>0.034922</td>\n",
              "      <td>0.079355</td>\n",
              "      <td>0.043057</td>\n",
              "      <td>0.001435</td>\n",
              "      <td>0.202032</td>\n",
              "      <td>0.225924</td>\n",
              "      <td>0.362324</td>\n",
              "      <td>0.008590</td>\n",
              "      <td>0.138614</td>\n",
              "      <td>0.182723</td>\n",
              "    </tr>\n",
              "    <tr>\n",
              "      <th>2</th>\n",
              "      <td>0.207824</td>\n",
              "      <td>0.002132</td>\n",
              "      <td>0.005982</td>\n",
              "      <td>0.041657</td>\n",
              "      <td>0.007498</td>\n",
              "      <td>0.406642</td>\n",
              "      <td>0.064929</td>\n",
              "      <td>0.229260</td>\n",
              "      <td>0.034075</td>\n",
              "      <td>0.155952</td>\n",
              "      <td>0.201185</td>\n",
              "    </tr>\n",
              "    <tr>\n",
              "      <th>3</th>\n",
              "      <td>0.096565</td>\n",
              "      <td>0.016775</td>\n",
              "      <td>0.118409</td>\n",
              "      <td>0.037725</td>\n",
              "      <td>0.020013</td>\n",
              "      <td>0.045195</td>\n",
              "      <td>0.512282</td>\n",
              "      <td>0.153015</td>\n",
              "      <td>0.000020</td>\n",
              "      <td>0.118787</td>\n",
              "      <td>0.148958</td>\n",
              "    </tr>\n",
              "    <tr>\n",
              "      <th>4</th>\n",
              "      <td>0.131309</td>\n",
              "      <td>0.002733</td>\n",
              "      <td>0.002360</td>\n",
              "      <td>0.047573</td>\n",
              "      <td>0.050633</td>\n",
              "      <td>0.289410</td>\n",
              "      <td>0.313717</td>\n",
              "      <td>0.157123</td>\n",
              "      <td>0.005141</td>\n",
              "      <td>0.138304</td>\n",
              "      <td>0.171473</td>\n",
              "    </tr>\n",
              "  </tbody>\n",
              "</table>\n",
              "</div>"
            ],
            "text/plain": [
              "     AAPL weight  MSFT weight  XOM weight  JNJ weight  JPM weight  \\\n",
              "ind                                                                 \n",
              "0       0.000053     0.263110    0.007022    0.040087    0.000027   \n",
              "1       0.042360     0.034922    0.079355    0.043057    0.001435   \n",
              "2       0.207824     0.002132    0.005982    0.041657    0.007498   \n",
              "3       0.096565     0.016775    0.118409    0.037725    0.020013   \n",
              "4       0.131309     0.002733    0.002360    0.047573    0.050633   \n",
              "\n",
              "     AMZN weight  GE weight  FB weight  T weight   Returns  Volatility  \n",
              "ind                                                                     \n",
              "0       0.024316   0.355899   0.299400  0.010087  0.127453    0.171565  \n",
              "1       0.202032   0.225924   0.362324  0.008590  0.138614    0.182723  \n",
              "2       0.406642   0.064929   0.229260  0.034075  0.155952    0.201185  \n",
              "3       0.045195   0.512282   0.153015  0.000020  0.118787    0.148958  \n",
              "4       0.289410   0.313717   0.157123  0.005141  0.138304    0.171473  "
            ]
          },
          "metadata": {
            "tags": []
          },
          "execution_count": 37
        }
      ]
    },
    {
      "metadata": {
        "id": "9WDnzWxSER2y",
        "colab_type": "text"
      },
      "cell_type": "markdown",
      "source": [
        "### Calculating the Sharpe Ratio\n",
        "\n",
        "For simplicity, let's assume the risk free rate of return to be 0. The Sharpe ratios would range from  0.742 to 2.27"
      ]
    },
    {
      "metadata": {
        "id": "ec8KbjqYHPX6",
        "colab_type": "code",
        "colab": {
          "base_uri": "https://localhost:8080/",
          "height": 69
        },
        "outputId": "801b6099-8b4e-4373-feb7-a6eb6fa27b4a"
      },
      "cell_type": "code",
      "source": [
        "risk_free = 0\n",
        "\n",
        "df_RandomPortfolios['Sharpe'] = ( df_RandomPortfolios['Returns'] - risk_free ) / df_RandomPortfolios['Volatility']\n",
        "\n",
        "print(df_RandomPortfolios['Sharpe'].describe()[['min','max']])"
      ],
      "execution_count": 41,
      "outputs": [
        {
          "output_type": "stream",
          "text": [
            "min    0.742884\n",
            "max    2.270462\n",
            "Name: Sharpe, dtype: float64\n"
          ],
          "name": "stdout"
        }
      ]
    },
    {
      "metadata": {
        "id": "7wweW-WpH5dE",
        "colab_type": "code",
        "colab": {}
      },
      "cell_type": "code",
      "source": [
        ""
      ],
      "execution_count": 0,
      "outputs": []
    }
  ]
}