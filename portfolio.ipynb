{
  "nbformat": 4,
  "nbformat_minor": 0,
  "metadata": {
    "colab": {
      "name": "portfolio.ipynb",
      "version": "0.3.2",
      "provenance": [],
      "collapsed_sections": []
    },
    "kernelspec": {
      "name": "python3",
      "display_name": "Python 3"
    }
  },
  "cells": [
    {
      "metadata": {
        "id": "gH2rzAEiEPfW",
        "colab_type": "text"
      },
      "cell_type": "markdown",
      "source": [
        "The CSV file for Microsoft's stock contains the OHLCVA data where, \n",
        "\n",
        "\n",
        "\n",
        "* O: Open\n",
        "* H: High\n",
        "* L: Low\n",
        "* C: Close\n",
        "* V: Volume\n",
        "* A: Adjusted\n",
        "\n",
        "\n",
        "\n",
        "\n",
        "\n",
        "\n",
        "\n"
      ]
    },
    {
      "metadata": {
        "id": "GqRLj6oS_SLt",
        "colab_type": "code",
        "colab": {}
      },
      "cell_type": "code",
      "source": [
        "from google.colab import files\n",
        "#files.upload()"
      ],
      "execution_count": 0,
      "outputs": []
    },
    {
      "metadata": {
        "id": "4c-rkvZqH_8Q",
        "colab_type": "code",
        "colab": {}
      },
      "cell_type": "code",
      "source": [
        "import matplotlib.pyplot as plt"
      ],
      "execution_count": 0,
      "outputs": []
    },
    {
      "metadata": {
        "id": "7vY22vyRBUad",
        "colab_type": "code",
        "colab": {
          "base_uri": "https://localhost:8080/",
          "height": 206
        },
        "outputId": "7b79f66d-5228-4531-a07d-258d2c3bfa49"
      },
      "cell_type": "code",
      "source": [
        "import pandas as pd\n",
        "df_stock=pd.read_csv('MSFTPrices.csv.txt', parse_dates=['Date'])\n",
        "df_stock.head()"
      ],
      "execution_count": 27,
      "outputs": [
        {
          "output_type": "execute_result",
          "data": {
            "text/html": [
              "<div>\n",
              "<style scoped>\n",
              "    .dataframe tbody tr th:only-of-type {\n",
              "        vertical-align: middle;\n",
              "    }\n",
              "\n",
              "    .dataframe tbody tr th {\n",
              "        vertical-align: top;\n",
              "    }\n",
              "\n",
              "    .dataframe thead th {\n",
              "        text-align: right;\n",
              "    }\n",
              "</style>\n",
              "<table border=\"1\" class=\"dataframe\">\n",
              "  <thead>\n",
              "    <tr style=\"text-align: right;\">\n",
              "      <th></th>\n",
              "      <th>Date</th>\n",
              "      <th>Open</th>\n",
              "      <th>High</th>\n",
              "      <th>Low</th>\n",
              "      <th>Close</th>\n",
              "      <th>Volume</th>\n",
              "      <th>Adjusted</th>\n",
              "    </tr>\n",
              "  </thead>\n",
              "  <tbody>\n",
              "    <tr>\n",
              "      <th>0</th>\n",
              "      <td>2000-01-03</td>\n",
              "      <td>88.777</td>\n",
              "      <td>89.722</td>\n",
              "      <td>84.712</td>\n",
              "      <td>58.28125</td>\n",
              "      <td>53228400</td>\n",
              "      <td>38.527809</td>\n",
              "    </tr>\n",
              "    <tr>\n",
              "      <th>1</th>\n",
              "      <td>2000-01-04</td>\n",
              "      <td>85.893</td>\n",
              "      <td>88.588</td>\n",
              "      <td>84.901</td>\n",
              "      <td>56.31250</td>\n",
              "      <td>54119000</td>\n",
              "      <td>37.226345</td>\n",
              "    </tr>\n",
              "    <tr>\n",
              "      <th>2</th>\n",
              "      <td>2000-01-05</td>\n",
              "      <td>84.050</td>\n",
              "      <td>88.021</td>\n",
              "      <td>82.726</td>\n",
              "      <td>56.90625</td>\n",
              "      <td>64059600</td>\n",
              "      <td>37.618851</td>\n",
              "    </tr>\n",
              "    <tr>\n",
              "      <th>3</th>\n",
              "      <td>2000-01-06</td>\n",
              "      <td>84.853</td>\n",
              "      <td>86.130</td>\n",
              "      <td>81.970</td>\n",
              "      <td>55.00000</td>\n",
              "      <td>54976600</td>\n",
              "      <td>36.358688</td>\n",
              "    </tr>\n",
              "    <tr>\n",
              "      <th>4</th>\n",
              "      <td>2000-01-07</td>\n",
              "      <td>82.159</td>\n",
              "      <td>84.901</td>\n",
              "      <td>81.166</td>\n",
              "      <td>55.71875</td>\n",
              "      <td>62013600</td>\n",
              "      <td>36.833828</td>\n",
              "    </tr>\n",
              "  </tbody>\n",
              "</table>\n",
              "</div>"
            ],
            "text/plain": [
              "        Date    Open    High     Low     Close    Volume   Adjusted\n",
              "0 2000-01-03  88.777  89.722  84.712  58.28125  53228400  38.527809\n",
              "1 2000-01-04  85.893  88.588  84.901  56.31250  54119000  37.226345\n",
              "2 2000-01-05  84.050  88.021  82.726  56.90625  64059600  37.618851\n",
              "3 2000-01-06  84.853  86.130  81.970  55.00000  54976600  36.358688\n",
              "4 2000-01-07  82.159  84.901  81.166  55.71875  62013600  36.833828"
            ]
          },
          "metadata": {
            "tags": []
          },
          "execution_count": 27
        }
      ]
    },
    {
      "metadata": {
        "id": "ertdm8MABfqw",
        "colab_type": "code",
        "colab": {
          "base_uri": "https://localhost:8080/",
          "height": 240
        },
        "outputId": "c5497cd1-fd75-40df-d118-48cabdf1b47e"
      },
      "cell_type": "code",
      "source": [
        "df_stock.info()"
      ],
      "execution_count": 28,
      "outputs": [
        {
          "output_type": "stream",
          "text": [
            "<class 'pandas.core.frame.DataFrame'>\n",
            "RangeIndex: 4561 entries, 0 to 4560\n",
            "Data columns (total 7 columns):\n",
            "Date        4561 non-null datetime64[ns]\n",
            "Open        4561 non-null float64\n",
            "High        4561 non-null float64\n",
            "Low         4561 non-null float64\n",
            "Close       4561 non-null float64\n",
            "Volume      4561 non-null int64\n",
            "Adjusted    4561 non-null float64\n",
            "dtypes: datetime64[ns](1), float64(5), int64(1)\n",
            "memory usage: 249.5 KB\n"
          ],
          "name": "stdout"
        }
      ]
    },
    {
      "metadata": {
        "id": "uTpd5TbzBhUH",
        "colab_type": "code",
        "colab": {}
      },
      "cell_type": "code",
      "source": [
        "df_stock = df_stock.sort_values(by='Date')"
      ],
      "execution_count": 0,
      "outputs": []
    },
    {
      "metadata": {
        "id": "oRbkY3FpC2PA",
        "colab_type": "code",
        "colab": {
          "base_uri": "https://localhost:8080/",
          "height": 206
        },
        "outputId": "ae54fd7c-f0e2-49c7-bffa-3e685a96fcb8"
      },
      "cell_type": "code",
      "source": [
        "df_stock.head()"
      ],
      "execution_count": 30,
      "outputs": [
        {
          "output_type": "execute_result",
          "data": {
            "text/html": [
              "<div>\n",
              "<style scoped>\n",
              "    .dataframe tbody tr th:only-of-type {\n",
              "        vertical-align: middle;\n",
              "    }\n",
              "\n",
              "    .dataframe tbody tr th {\n",
              "        vertical-align: top;\n",
              "    }\n",
              "\n",
              "    .dataframe thead th {\n",
              "        text-align: right;\n",
              "    }\n",
              "</style>\n",
              "<table border=\"1\" class=\"dataframe\">\n",
              "  <thead>\n",
              "    <tr style=\"text-align: right;\">\n",
              "      <th></th>\n",
              "      <th>Date</th>\n",
              "      <th>Open</th>\n",
              "      <th>High</th>\n",
              "      <th>Low</th>\n",
              "      <th>Close</th>\n",
              "      <th>Volume</th>\n",
              "      <th>Adjusted</th>\n",
              "    </tr>\n",
              "  </thead>\n",
              "  <tbody>\n",
              "    <tr>\n",
              "      <th>0</th>\n",
              "      <td>2000-01-03</td>\n",
              "      <td>88.777</td>\n",
              "      <td>89.722</td>\n",
              "      <td>84.712</td>\n",
              "      <td>58.28125</td>\n",
              "      <td>53228400</td>\n",
              "      <td>38.527809</td>\n",
              "    </tr>\n",
              "    <tr>\n",
              "      <th>1</th>\n",
              "      <td>2000-01-04</td>\n",
              "      <td>85.893</td>\n",
              "      <td>88.588</td>\n",
              "      <td>84.901</td>\n",
              "      <td>56.31250</td>\n",
              "      <td>54119000</td>\n",
              "      <td>37.226345</td>\n",
              "    </tr>\n",
              "    <tr>\n",
              "      <th>2</th>\n",
              "      <td>2000-01-05</td>\n",
              "      <td>84.050</td>\n",
              "      <td>88.021</td>\n",
              "      <td>82.726</td>\n",
              "      <td>56.90625</td>\n",
              "      <td>64059600</td>\n",
              "      <td>37.618851</td>\n",
              "    </tr>\n",
              "    <tr>\n",
              "      <th>3</th>\n",
              "      <td>2000-01-06</td>\n",
              "      <td>84.853</td>\n",
              "      <td>86.130</td>\n",
              "      <td>81.970</td>\n",
              "      <td>55.00000</td>\n",
              "      <td>54976600</td>\n",
              "      <td>36.358688</td>\n",
              "    </tr>\n",
              "    <tr>\n",
              "      <th>4</th>\n",
              "      <td>2000-01-07</td>\n",
              "      <td>82.159</td>\n",
              "      <td>84.901</td>\n",
              "      <td>81.166</td>\n",
              "      <td>55.71875</td>\n",
              "      <td>62013600</td>\n",
              "      <td>36.833828</td>\n",
              "    </tr>\n",
              "  </tbody>\n",
              "</table>\n",
              "</div>"
            ],
            "text/plain": [
              "        Date    Open    High     Low     Close    Volume   Adjusted\n",
              "0 2000-01-03  88.777  89.722  84.712  58.28125  53228400  38.527809\n",
              "1 2000-01-04  85.893  88.588  84.901  56.31250  54119000  37.226345\n",
              "2 2000-01-05  84.050  88.021  82.726  56.90625  64059600  37.618851\n",
              "3 2000-01-06  84.853  86.130  81.970  55.00000  54976600  36.358688\n",
              "4 2000-01-07  82.159  84.901  81.166  55.71875  62013600  36.833828"
            ]
          },
          "metadata": {
            "tags": []
          },
          "execution_count": 30
        }
      ]
    },
    {
      "metadata": {
        "id": "ObNzcrtuDi02",
        "colab_type": "text"
      },
      "cell_type": "markdown",
      "source": [
        "In this dataframe, the adjusted price is the most important value of the stock. Because the adjusted value is normalized for stock spits, Dividends, etc. We will be using the adjusted close price of the stock to calculate the returns of the stock.\n",
        "\n",
        "Let's calculate the daily change in the stock prices first."
      ]
    },
    {
      "metadata": {
        "id": "BRsKdwJDGJeH",
        "colab_type": "code",
        "colab": {}
      },
      "cell_type": "code",
      "source": [
        "df_stock['Returns'] = df_stock['Adjusted'].pct_change()\n",
        "# convert decimal returns to percent returns\n",
        "percent_returns = df_stock['Returns']*100"
      ],
      "execution_count": 0,
      "outputs": []
    },
    {
      "metadata": {
        "id": "BgRO6p_nGobD",
        "colab_type": "code",
        "colab": {
          "base_uri": "https://localhost:8080/",
          "height": 206
        },
        "outputId": "76cdc004-7e26-4093-f215-2dd0468caaa7"
      },
      "cell_type": "code",
      "source": [
        "df_stock.head()"
      ],
      "execution_count": 32,
      "outputs": [
        {
          "output_type": "execute_result",
          "data": {
            "text/html": [
              "<div>\n",
              "<style scoped>\n",
              "    .dataframe tbody tr th:only-of-type {\n",
              "        vertical-align: middle;\n",
              "    }\n",
              "\n",
              "    .dataframe tbody tr th {\n",
              "        vertical-align: top;\n",
              "    }\n",
              "\n",
              "    .dataframe thead th {\n",
              "        text-align: right;\n",
              "    }\n",
              "</style>\n",
              "<table border=\"1\" class=\"dataframe\">\n",
              "  <thead>\n",
              "    <tr style=\"text-align: right;\">\n",
              "      <th></th>\n",
              "      <th>Date</th>\n",
              "      <th>Open</th>\n",
              "      <th>High</th>\n",
              "      <th>Low</th>\n",
              "      <th>Close</th>\n",
              "      <th>Volume</th>\n",
              "      <th>Adjusted</th>\n",
              "      <th>Returns</th>\n",
              "    </tr>\n",
              "  </thead>\n",
              "  <tbody>\n",
              "    <tr>\n",
              "      <th>0</th>\n",
              "      <td>2000-01-03</td>\n",
              "      <td>88.777</td>\n",
              "      <td>89.722</td>\n",
              "      <td>84.712</td>\n",
              "      <td>58.28125</td>\n",
              "      <td>53228400</td>\n",
              "      <td>38.527809</td>\n",
              "      <td>NaN</td>\n",
              "    </tr>\n",
              "    <tr>\n",
              "      <th>1</th>\n",
              "      <td>2000-01-04</td>\n",
              "      <td>85.893</td>\n",
              "      <td>88.588</td>\n",
              "      <td>84.901</td>\n",
              "      <td>56.31250</td>\n",
              "      <td>54119000</td>\n",
              "      <td>37.226345</td>\n",
              "      <td>-0.033780</td>\n",
              "    </tr>\n",
              "    <tr>\n",
              "      <th>2</th>\n",
              "      <td>2000-01-05</td>\n",
              "      <td>84.050</td>\n",
              "      <td>88.021</td>\n",
              "      <td>82.726</td>\n",
              "      <td>56.90625</td>\n",
              "      <td>64059600</td>\n",
              "      <td>37.618851</td>\n",
              "      <td>0.010544</td>\n",
              "    </tr>\n",
              "    <tr>\n",
              "      <th>3</th>\n",
              "      <td>2000-01-06</td>\n",
              "      <td>84.853</td>\n",
              "      <td>86.130</td>\n",
              "      <td>81.970</td>\n",
              "      <td>55.00000</td>\n",
              "      <td>54976600</td>\n",
              "      <td>36.358688</td>\n",
              "      <td>-0.033498</td>\n",
              "    </tr>\n",
              "    <tr>\n",
              "      <th>4</th>\n",
              "      <td>2000-01-07</td>\n",
              "      <td>82.159</td>\n",
              "      <td>84.901</td>\n",
              "      <td>81.166</td>\n",
              "      <td>55.71875</td>\n",
              "      <td>62013600</td>\n",
              "      <td>36.833828</td>\n",
              "      <td>0.013068</td>\n",
              "    </tr>\n",
              "  </tbody>\n",
              "</table>\n",
              "</div>"
            ],
            "text/plain": [
              "        Date    Open    High     Low     Close    Volume   Adjusted   Returns\n",
              "0 2000-01-03  88.777  89.722  84.712  58.28125  53228400  38.527809       NaN\n",
              "1 2000-01-04  85.893  88.588  84.901  56.31250  54119000  37.226345 -0.033780\n",
              "2 2000-01-05  84.050  88.021  82.726  56.90625  64059600  37.618851  0.010544\n",
              "3 2000-01-06  84.853  86.130  81.970  55.00000  54976600  36.358688 -0.033498\n",
              "4 2000-01-07  82.159  84.901  81.166  55.71875  62013600  36.833828  0.013068"
            ]
          },
          "metadata": {
            "tags": []
          },
          "execution_count": 32
        }
      ]
    },
    {
      "metadata": {
        "id": "Sj6RLz3QGq1K",
        "colab_type": "code",
        "colab": {
          "base_uri": "https://localhost:8080/",
          "height": 382
        },
        "outputId": "41424213-62a4-400d-d910-d3332b75eaf9"
      },
      "cell_type": "code",
      "source": [
        "df_stock['Returns'].plot()\n",
        "plt.xlabel('Day Number', fontsize=13)\n",
        "plt.ylabel('Change over yesterday',fontsize=13)"
      ],
      "execution_count": 33,
      "outputs": [
        {
          "output_type": "execute_result",
          "data": {
            "text/plain": [
              "Text(0,0.5,'Percent change over yesterday')"
            ]
          },
          "metadata": {
            "tags": []
          },
          "execution_count": 33
        },
        {
          "output_type": "display_data",
          "data": {
            "image/png": "[encoded data removed]",
            "text/plain": [
              "<matplotlib.figure.Figure at 0x7f380f887668>"
            ]
          },
          "metadata": {
            "tags": []
          }
        }
      ]
    },
    {
      "metadata": {
        "id": "SCxQMNJGHYtZ",
        "colab_type": "text"
      },
      "cell_type": "markdown",
      "source": [
        "Dropping Null values from percent returns."
      ]
    },
    {
      "metadata": {
        "id": "Gsb8pj46KRVO",
        "colab_type": "code",
        "colab": {}
      },
      "cell_type": "code",
      "source": [
        "percent_returns.dropna(inplace=True)"
      ],
      "execution_count": 0,
      "outputs": []
    },
    {
      "metadata": {
        "id": "N-MpxuiIKfx5",
        "colab_type": "code",
        "colab": {
          "base_uri": "https://localhost:8080/",
          "height": 365
        },
        "outputId": "62e76036-8977-4554-f002-154e67fdbc04"
      },
      "cell_type": "code",
      "source": [
        "plt.hist(percent_returns, bins=75)\n",
        "plt.xlabel('Percent change', fontsize=14)\n",
        "plt.ylabel('Number of days', fontsize=14)\n",
        "plt.show()\n"
      ],
      "execution_count": 41,
      "outputs": [
        {
          "output_type": "display_data",
          "data": {
            "image/png": "[encoded data removed]",
            "text/plain": [
              "<matplotlib.figure.Figure at 0x7f380c96f320>"
            ]
          },
          "metadata": {
            "tags": []
          }
        }
      ]
    },
    {
      "metadata": {
        "id": "ELGNJItpLEz6",
        "colab_type": "text"
      },
      "cell_type": "markdown",
      "source": [
        "Moments of a distribution:\n",
        "\n",
        "\n",
        "\n",
        "1.   Mean\n",
        "2.   Variance\n",
        "3. Kurtosis\n",
        "4. Skewness\n",
        "\n",
        "\n"
      ]
    },
    {
      "metadata": {
        "id": "jbUsWXecPQHb",
        "colab_type": "text"
      },
      "cell_type": "markdown",
      "source": [
        "Normal distributions tend to have a skewness of 0 and kurtosis of 3.\n",
        "\n",
        "Financial returns however, tend to have positive skewness and kurtosis > 3\n",
        "\n",
        "This means financial returns have a higher probability of outliers and better or worse returns than a normal distribution."
      ]
    },
    {
      "metadata": {
        "id": "y19eHxj-wHVY",
        "colab_type": "text"
      },
      "cell_type": "markdown",
      "source": [
        "A long term investor is not very interested in the daily fluctuations of the stocks. They're more interested in the annualized return. Let's calculate that using the following formula:\n",
        "\n",
        "\n",
        "\n",
        "```\n",
        "Average annualized return = ((1+mu)^252) - 1\n",
        "```\n",
        "\n"
      ]
    },
    {
      "metadata": {
        "id": "r0_O5YYs2qFJ",
        "colab_type": "code",
        "colab": {
          "base_uri": "https://localhost:8080/",
          "height": 54
        },
        "outputId": "a02c405a-ca8e-4326-cec4-519cfa84bbf9"
      },
      "cell_type": "code",
      "source": [
        "import numpy as np\n",
        "\n",
        "mean_return_daily = np.mean(df_stock['Returns'])\n",
        "\n",
        "print('Mean daily return is {}'.format(mean_return_daily * 100))\n",
        "\n",
        "mean_annualized_return = ((1+mean_return_daily)**252) - 1\n",
        "\n",
        "print('Mean annualized return is {}'.format(mean_annualized_return * 100))"
      ],
      "execution_count": 48,
      "outputs": [
        {
          "output_type": "stream",
          "text": [
            "Mean daily return is 0.03777754643575774\n",
            "Mean annualized return is 9.985839482858783\n"
          ],
          "name": "stdout"
        }
      ]
    },
    {
      "metadata": {
        "id": "qjszWDTV3HRv",
        "colab_type": "text"
      },
      "cell_type": "markdown",
      "source": [
        "Thus, mean daily return of 0.03% becomes an annualized return of 9.98%. Now let's calculate the second moment - Variance."
      ]
    },
    {
      "metadata": {
        "id": "OwFq9WE94uKQ",
        "colab_type": "code",
        "colab": {
          "base_uri": "https://localhost:8080/",
          "height": 54
        },
        "outputId": "673e9515-46d6-4193-8d52-7f2ca0f397c1"
      },
      "cell_type": "code",
      "source": [
        "std_daily = np.std(df_stock['Returns'])\n",
        "print('The daily standard deviation is {}'.format(std_daily))\n",
        "var_daily = std_daily ** 2\n",
        "print('The daily variance is {}'.format(var_daily))"
      ],
      "execution_count": 51,
      "outputs": [
        {
          "output_type": "stream",
          "text": [
            "The daily standard deviation is 0.019341100408708317\n",
            "The daily variance is 0.00037407816501973704\n"
          ],
          "name": "stdout"
        }
      ]
    }
  ]
}