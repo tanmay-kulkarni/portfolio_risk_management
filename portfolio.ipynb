{
  "nbformat": 4,
  "nbformat_minor": 0,
  "metadata": {
    "colab": {
      "name": "portfolio.ipynb",
      "version": "0.3.2",
      "provenance": [],
      "collapsed_sections": []
    },
    "kernelspec": {
      "name": "python3",
      "display_name": "Python 3"
    }
  },
  "cells": [
    {
      "metadata": {
        "id": "gH2rzAEiEPfW",
        "colab_type": "text"
      },
      "cell_type": "markdown",
      "source": [
        "The CSV file for Microsoft's stock contains the OHLCVA data where, \n",
        "\n",
        "\n",
        "\n",
        "* O: Open\n",
        "* H: High\n",
        "* L: Low\n",
        "* C: Close\n",
        "* V: Volume\n",
        "* A: Adjusted\n",
        "\n",
        "\n",
        "\n",
        "\n",
        "\n",
        "\n",
        "\n"
      ]
    },
    {
      "metadata": {
        "id": "GqRLj6oS_SLt",
        "colab_type": "code",
        "colab": {
          "base_uri": "https://localhost:8080/",
          "height": 139
        },
        "outputId": "3e6eb569-7a4f-4e3c-90ac-a1c82f87b948"
      },
      "cell_type": "code",
      "source": [
        "from google.colab import files\n",
        "#files.upload()\n",
        "import os\n",
        "os.listdir()"
      ],
      "execution_count": 3,
      "outputs": [
        {
          "output_type": "execute_result",
          "data": {
            "text/plain": [
              "['sample_data',\n",
              " '.config',\n",
              " 'StockReturns.txt',\n",
              " 'StockPortfolio.csv',\n",
              " 'MSFTPrices.csv.txt',\n",
              " 'RandomPortfolios.txt',\n",
              " 'FamaFrenchData.csv']"
            ]
          },
          "metadata": {
            "tags": []
          },
          "execution_count": 3
        }
      ]
    },
    {
      "metadata": {
        "id": "4c-rkvZqH_8Q",
        "colab_type": "code",
        "colab": {}
      },
      "cell_type": "code",
      "source": [
        "import matplotlib.pyplot as plt"
      ],
      "execution_count": 0,
      "outputs": []
    },
    {
      "metadata": {
        "id": "7vY22vyRBUad",
        "colab_type": "code",
        "colab": {
          "base_uri": "https://localhost:8080/",
          "height": 202
        },
        "outputId": "fdb796d4-0875-43b8-e6df-9b7a8e83e2dd"
      },
      "cell_type": "code",
      "source": [
        "import pandas as pd\n",
        "df_stock=pd.read_csv('MSFTPrices.csv.txt', parse_dates=['Date'])\n",
        "df_stock.head()"
      ],
      "execution_count": 5,
      "outputs": [
        {
          "output_type": "execute_result",
          "data": {
            "text/html": [
              "<div>\n",
              "<style scoped>\n",
              "    .dataframe tbody tr th:only-of-type {\n",
              "        vertical-align: middle;\n",
              "    }\n",
              "\n",
              "    .dataframe tbody tr th {\n",
              "        vertical-align: top;\n",
              "    }\n",
              "\n",
              "    .dataframe thead th {\n",
              "        text-align: right;\n",
              "    }\n",
              "</style>\n",
              "<table border=\"1\" class=\"dataframe\">\n",
              "  <thead>\n",
              "    <tr style=\"text-align: right;\">\n",
              "      <th></th>\n",
              "      <th>Date</th>\n",
              "      <th>Open</th>\n",
              "      <th>High</th>\n",
              "      <th>Low</th>\n",
              "      <th>Close</th>\n",
              "      <th>Volume</th>\n",
              "      <th>Adjusted</th>\n",
              "    </tr>\n",
              "  </thead>\n",
              "  <tbody>\n",
              "    <tr>\n",
              "      <th>0</th>\n",
              "      <td>2000-01-03</td>\n",
              "      <td>88.777</td>\n",
              "      <td>89.722</td>\n",
              "      <td>84.712</td>\n",
              "      <td>58.28125</td>\n",
              "      <td>53228400</td>\n",
              "      <td>38.527809</td>\n",
              "    </tr>\n",
              "    <tr>\n",
              "      <th>1</th>\n",
              "      <td>2000-01-04</td>\n",
              "      <td>85.893</td>\n",
              "      <td>88.588</td>\n",
              "      <td>84.901</td>\n",
              "      <td>56.31250</td>\n",
              "      <td>54119000</td>\n",
              "      <td>37.226345</td>\n",
              "    </tr>\n",
              "    <tr>\n",
              "      <th>2</th>\n",
              "      <td>2000-01-05</td>\n",
              "      <td>84.050</td>\n",
              "      <td>88.021</td>\n",
              "      <td>82.726</td>\n",
              "      <td>56.90625</td>\n",
              "      <td>64059600</td>\n",
              "      <td>37.618851</td>\n",
              "    </tr>\n",
              "    <tr>\n",
              "      <th>3</th>\n",
              "      <td>2000-01-06</td>\n",
              "      <td>84.853</td>\n",
              "      <td>86.130</td>\n",
              "      <td>81.970</td>\n",
              "      <td>55.00000</td>\n",
              "      <td>54976600</td>\n",
              "      <td>36.358688</td>\n",
              "    </tr>\n",
              "    <tr>\n",
              "      <th>4</th>\n",
              "      <td>2000-01-07</td>\n",
              "      <td>82.159</td>\n",
              "      <td>84.901</td>\n",
              "      <td>81.166</td>\n",
              "      <td>55.71875</td>\n",
              "      <td>62013600</td>\n",
              "      <td>36.833828</td>\n",
              "    </tr>\n",
              "  </tbody>\n",
              "</table>\n",
              "</div>"
            ],
            "text/plain": [
              "        Date    Open    High     Low     Close    Volume   Adjusted\n",
              "0 2000-01-03  88.777  89.722  84.712  58.28125  53228400  38.527809\n",
              "1 2000-01-04  85.893  88.588  84.901  56.31250  54119000  37.226345\n",
              "2 2000-01-05  84.050  88.021  82.726  56.90625  64059600  37.618851\n",
              "3 2000-01-06  84.853  86.130  81.970  55.00000  54976600  36.358688\n",
              "4 2000-01-07  82.159  84.901  81.166  55.71875  62013600  36.833828"
            ]
          },
          "metadata": {
            "tags": []
          },
          "execution_count": 5
        }
      ]
    },
    {
      "metadata": {
        "id": "ertdm8MABfqw",
        "colab_type": "code",
        "colab": {
          "base_uri": "https://localhost:8080/",
          "height": 225
        },
        "outputId": "945b7ea3-2979-4b91-cd39-7f2aac14e2d3"
      },
      "cell_type": "code",
      "source": [
        "df_stock.info()"
      ],
      "execution_count": 6,
      "outputs": [
        {
          "output_type": "stream",
          "text": [
            "<class 'pandas.core.frame.DataFrame'>\n",
            "RangeIndex: 4561 entries, 0 to 4560\n",
            "Data columns (total 7 columns):\n",
            "Date        4561 non-null datetime64[ns]\n",
            "Open        4561 non-null float64\n",
            "High        4561 non-null float64\n",
            "Low         4561 non-null float64\n",
            "Close       4561 non-null float64\n",
            "Volume      4561 non-null int64\n",
            "Adjusted    4561 non-null float64\n",
            "dtypes: datetime64[ns](1), float64(5), int64(1)\n",
            "memory usage: 249.5 KB\n"
          ],
          "name": "stdout"
        }
      ]
    },
    {
      "metadata": {
        "id": "uTpd5TbzBhUH",
        "colab_type": "code",
        "colab": {}
      },
      "cell_type": "code",
      "source": [
        "df_stock = df_stock.sort_values(by='Date')"
      ],
      "execution_count": 0,
      "outputs": []
    },
    {
      "metadata": {
        "id": "oRbkY3FpC2PA",
        "colab_type": "code",
        "colab": {
          "base_uri": "https://localhost:8080/",
          "height": 202
        },
        "outputId": "f2ef6415-dca8-4563-e89d-e427ba925f11"
      },
      "cell_type": "code",
      "source": [
        "df_stock.head()"
      ],
      "execution_count": 8,
      "outputs": [
        {
          "output_type": "execute_result",
          "data": {
            "text/html": [
              "<div>\n",
              "<style scoped>\n",
              "    .dataframe tbody tr th:only-of-type {\n",
              "        vertical-align: middle;\n",
              "    }\n",
              "\n",
              "    .dataframe tbody tr th {\n",
              "        vertical-align: top;\n",
              "    }\n",
              "\n",
              "    .dataframe thead th {\n",
              "        text-align: right;\n",
              "    }\n",
              "</style>\n",
              "<table border=\"1\" class=\"dataframe\">\n",
              "  <thead>\n",
              "    <tr style=\"text-align: right;\">\n",
              "      <th></th>\n",
              "      <th>Date</th>\n",
              "      <th>Open</th>\n",
              "      <th>High</th>\n",
              "      <th>Low</th>\n",
              "      <th>Close</th>\n",
              "      <th>Volume</th>\n",
              "      <th>Adjusted</th>\n",
              "    </tr>\n",
              "  </thead>\n",
              "  <tbody>\n",
              "    <tr>\n",
              "      <th>0</th>\n",
              "      <td>2000-01-03</td>\n",
              "      <td>88.777</td>\n",
              "      <td>89.722</td>\n",
              "      <td>84.712</td>\n",
              "      <td>58.28125</td>\n",
              "      <td>53228400</td>\n",
              "      <td>38.527809</td>\n",
              "    </tr>\n",
              "    <tr>\n",
              "      <th>1</th>\n",
              "      <td>2000-01-04</td>\n",
              "      <td>85.893</td>\n",
              "      <td>88.588</td>\n",
              "      <td>84.901</td>\n",
              "      <td>56.31250</td>\n",
              "      <td>54119000</td>\n",
              "      <td>37.226345</td>\n",
              "    </tr>\n",
              "    <tr>\n",
              "      <th>2</th>\n",
              "      <td>2000-01-05</td>\n",
              "      <td>84.050</td>\n",
              "      <td>88.021</td>\n",
              "      <td>82.726</td>\n",
              "      <td>56.90625</td>\n",
              "      <td>64059600</td>\n",
              "      <td>37.618851</td>\n",
              "    </tr>\n",
              "    <tr>\n",
              "      <th>3</th>\n",
              "      <td>2000-01-06</td>\n",
              "      <td>84.853</td>\n",
              "      <td>86.130</td>\n",
              "      <td>81.970</td>\n",
              "      <td>55.00000</td>\n",
              "      <td>54976600</td>\n",
              "      <td>36.358688</td>\n",
              "    </tr>\n",
              "    <tr>\n",
              "      <th>4</th>\n",
              "      <td>2000-01-07</td>\n",
              "      <td>82.159</td>\n",
              "      <td>84.901</td>\n",
              "      <td>81.166</td>\n",
              "      <td>55.71875</td>\n",
              "      <td>62013600</td>\n",
              "      <td>36.833828</td>\n",
              "    </tr>\n",
              "  </tbody>\n",
              "</table>\n",
              "</div>"
            ],
            "text/plain": [
              "        Date    Open    High     Low     Close    Volume   Adjusted\n",
              "0 2000-01-03  88.777  89.722  84.712  58.28125  53228400  38.527809\n",
              "1 2000-01-04  85.893  88.588  84.901  56.31250  54119000  37.226345\n",
              "2 2000-01-05  84.050  88.021  82.726  56.90625  64059600  37.618851\n",
              "3 2000-01-06  84.853  86.130  81.970  55.00000  54976600  36.358688\n",
              "4 2000-01-07  82.159  84.901  81.166  55.71875  62013600  36.833828"
            ]
          },
          "metadata": {
            "tags": []
          },
          "execution_count": 8
        }
      ]
    },
    {
      "metadata": {
        "id": "ObNzcrtuDi02",
        "colab_type": "text"
      },
      "cell_type": "markdown",
      "source": [
        "In this dataframe, the adjusted price is the most important value of the stock. Because the adjusted value is normalized for stock spits, Dividends, etc. We will be using the adjusted close price of the stock to calculate the returns of the stock.\n",
        "\n",
        "Let's calculate the daily change in the stock prices first."
      ]
    },
    {
      "metadata": {
        "id": "BRsKdwJDGJeH",
        "colab_type": "code",
        "colab": {}
      },
      "cell_type": "code",
      "source": [
        "df_stock['Returns'] = df_stock['Adjusted'].pct_change()\n",
        "# convert decimal returns to percent returns\n",
        "percent_returns = df_stock['Returns']*100"
      ],
      "execution_count": 0,
      "outputs": []
    },
    {
      "metadata": {
        "id": "BgRO6p_nGobD",
        "colab_type": "code",
        "colab": {
          "base_uri": "https://localhost:8080/",
          "height": 202
        },
        "outputId": "1992988b-4158-4f73-9aaa-fec34d95d549"
      },
      "cell_type": "code",
      "source": [
        "df_stock.head()"
      ],
      "execution_count": 10,
      "outputs": [
        {
          "output_type": "execute_result",
          "data": {
            "text/html": [
              "<div>\n",
              "<style scoped>\n",
              "    .dataframe tbody tr th:only-of-type {\n",
              "        vertical-align: middle;\n",
              "    }\n",
              "\n",
              "    .dataframe tbody tr th {\n",
              "        vertical-align: top;\n",
              "    }\n",
              "\n",
              "    .dataframe thead th {\n",
              "        text-align: right;\n",
              "    }\n",
              "</style>\n",
              "<table border=\"1\" class=\"dataframe\">\n",
              "  <thead>\n",
              "    <tr style=\"text-align: right;\">\n",
              "      <th></th>\n",
              "      <th>Date</th>\n",
              "      <th>Open</th>\n",
              "      <th>High</th>\n",
              "      <th>Low</th>\n",
              "      <th>Close</th>\n",
              "      <th>Volume</th>\n",
              "      <th>Adjusted</th>\n",
              "      <th>Returns</th>\n",
              "    </tr>\n",
              "  </thead>\n",
              "  <tbody>\n",
              "    <tr>\n",
              "      <th>0</th>\n",
              "      <td>2000-01-03</td>\n",
              "      <td>88.777</td>\n",
              "      <td>89.722</td>\n",
              "      <td>84.712</td>\n",
              "      <td>58.28125</td>\n",
              "      <td>53228400</td>\n",
              "      <td>38.527809</td>\n",
              "      <td>NaN</td>\n",
              "    </tr>\n",
              "    <tr>\n",
              "      <th>1</th>\n",
              "      <td>2000-01-04</td>\n",
              "      <td>85.893</td>\n",
              "      <td>88.588</td>\n",
              "      <td>84.901</td>\n",
              "      <td>56.31250</td>\n",
              "      <td>54119000</td>\n",
              "      <td>37.226345</td>\n",
              "      <td>-0.033780</td>\n",
              "    </tr>\n",
              "    <tr>\n",
              "      <th>2</th>\n",
              "      <td>2000-01-05</td>\n",
              "      <td>84.050</td>\n",
              "      <td>88.021</td>\n",
              "      <td>82.726</td>\n",
              "      <td>56.90625</td>\n",
              "      <td>64059600</td>\n",
              "      <td>37.618851</td>\n",
              "      <td>0.010544</td>\n",
              "    </tr>\n",
              "    <tr>\n",
              "      <th>3</th>\n",
              "      <td>2000-01-06</td>\n",
              "      <td>84.853</td>\n",
              "      <td>86.130</td>\n",
              "      <td>81.970</td>\n",
              "      <td>55.00000</td>\n",
              "      <td>54976600</td>\n",
              "      <td>36.358688</td>\n",
              "      <td>-0.033498</td>\n",
              "    </tr>\n",
              "    <tr>\n",
              "      <th>4</th>\n",
              "      <td>2000-01-07</td>\n",
              "      <td>82.159</td>\n",
              "      <td>84.901</td>\n",
              "      <td>81.166</td>\n",
              "      <td>55.71875</td>\n",
              "      <td>62013600</td>\n",
              "      <td>36.833828</td>\n",
              "      <td>0.013068</td>\n",
              "    </tr>\n",
              "  </tbody>\n",
              "</table>\n",
              "</div>"
            ],
            "text/plain": [
              "        Date    Open    High     Low     Close    Volume   Adjusted   Returns\n",
              "0 2000-01-03  88.777  89.722  84.712  58.28125  53228400  38.527809       NaN\n",
              "1 2000-01-04  85.893  88.588  84.901  56.31250  54119000  37.226345 -0.033780\n",
              "2 2000-01-05  84.050  88.021  82.726  56.90625  64059600  37.618851  0.010544\n",
              "3 2000-01-06  84.853  86.130  81.970  55.00000  54976600  36.358688 -0.033498\n",
              "4 2000-01-07  82.159  84.901  81.166  55.71875  62013600  36.833828  0.013068"
            ]
          },
          "metadata": {
            "tags": []
          },
          "execution_count": 10
        }
      ]
    },
    {
      "metadata": {
        "id": "Sj6RLz3QGq1K",
        "colab_type": "code",
        "colab": {
          "base_uri": "https://localhost:8080/",
          "height": 381
        },
        "outputId": "4b2a6145-b88e-434a-d6df-086ad6018e25"
      },
      "cell_type": "code",
      "source": [
        "df_stock['Returns'].plot()\n",
        "plt.xlabel('Day Number', fontsize=13)\n",
        "plt.ylabel('Change over yesterday',fontsize=13)"
      ],
      "execution_count": 11,
      "outputs": [
        {
          "output_type": "execute_result",
          "data": {
            "text/plain": [
              "Text(0,0.5,'Change over yesterday')"
            ]
          },
          "metadata": {
            "tags": []
          },
          "execution_count": 11
        },
        {
          "output_type": "display_data",
          "data": {
            "image/png": "[encoded data removed]",
            "text/plain": [
              "<matplotlib.figure.Figure at 0x7f60e0df42e8>"
            ]
          },
          "metadata": {
            "tags": []
          }
        }
      ]
    },
    {
      "metadata": {
        "id": "SCxQMNJGHYtZ",
        "colab_type": "text"
      },
      "cell_type": "markdown",
      "source": [
        "Dropping Null values from percent returns."
      ]
    },
    {
      "metadata": {
        "id": "Gsb8pj46KRVO",
        "colab_type": "code",
        "colab": {}
      },
      "cell_type": "code",
      "source": [
        "percent_returns.dropna(inplace=True)"
      ],
      "execution_count": 0,
      "outputs": []
    },
    {
      "metadata": {
        "id": "N-MpxuiIKfx5",
        "colab_type": "code",
        "colab": {
          "base_uri": "https://localhost:8080/",
          "height": 365
        },
        "outputId": "8e9938b8-a5b8-4dee-f78e-5f52c8c52e58"
      },
      "cell_type": "code",
      "source": [
        "plt.hist(percent_returns, bins=75)\n",
        "plt.xlabel('Percent change', fontsize=14)\n",
        "plt.ylabel('Number of days', fontsize=14)\n",
        "plt.show()\n"
      ],
      "execution_count": 13,
      "outputs": [
        {
          "output_type": "display_data",
          "data": {
            "image/png": "[encoded data removed]",
            "text/plain": [
              "<matplotlib.figure.Figure at 0x7f60d7f4dcf8>"
            ]
          },
          "metadata": {
            "tags": []
          }
        }
      ]
    },
    {
      "metadata": {
        "id": "ELGNJItpLEz6",
        "colab_type": "text"
      },
      "cell_type": "markdown",
      "source": [
        "Moments of a distribution:\n",
        "\n",
        "\n",
        "\n",
        "1.   Mean\n",
        "2.   Variance\n",
        "3. Skewness\n",
        "4. Kurtosis\n",
        "\n",
        "\n"
      ]
    },
    {
      "metadata": {
        "id": "jbUsWXecPQHb",
        "colab_type": "text"
      },
      "cell_type": "markdown",
      "source": [
        "Normal distributions tend to have a skewness of 0 and kurtosis of 3.\n",
        "\n",
        "Financial returns however, tend to have positive skewness and kurtosis > 3\n",
        "\n",
        "This means financial returns have a higher probability of outliers and better or worse returns than a normal distribution."
      ]
    },
    {
      "metadata": {
        "id": "y19eHxj-wHVY",
        "colab_type": "text"
      },
      "cell_type": "markdown",
      "source": [
        "A long term investor is not very interested in the daily fluctuations of the stocks. They're more interested in the annualized return. Let's calculate that using the following formula:\n",
        "\n",
        "\n",
        "\n",
        "```\n",
        "Average annualized return = ((1+mu)^252) - 1\n",
        "```\n",
        "\n"
      ]
    },
    {
      "metadata": {
        "id": "r0_O5YYs2qFJ",
        "colab_type": "code",
        "colab": {
          "base_uri": "https://localhost:8080/",
          "height": 52
        },
        "outputId": "807910b8-d16f-4d0f-bf8b-38afaeeabacf"
      },
      "cell_type": "code",
      "source": [
        "import numpy as np\n",
        "\n",
        "mean_return_daily = np.mean(df_stock['Returns'])\n",
        "\n",
        "print('Mean daily return is {}'.format(mean_return_daily * 100))\n",
        "\n",
        "mean_annualized_return = ((1+mean_return_daily)**252) - 1\n",
        "\n",
        "print('Mean annualized return is {}'.format(mean_annualized_return * 100))"
      ],
      "execution_count": 14,
      "outputs": [
        {
          "output_type": "stream",
          "text": [
            "Mean daily return is 0.03777754643575774\n",
            "Mean annualized return is 9.985839482858783\n"
          ],
          "name": "stdout"
        }
      ]
    },
    {
      "metadata": {
        "id": "qjszWDTV3HRv",
        "colab_type": "text"
      },
      "cell_type": "markdown",
      "source": [
        "Thus, mean daily return of 0.03% becomes an annualized return of 9.98%. Now let's calculate the second moment - Variance."
      ]
    },
    {
      "metadata": {
        "id": "OwFq9WE94uKQ",
        "colab_type": "code",
        "colab": {
          "base_uri": "https://localhost:8080/",
          "height": 52
        },
        "outputId": "16be592b-4190-4628-ee07-f7303b9cba0d"
      },
      "cell_type": "code",
      "source": [
        "std_daily = np.std(df_stock['Returns'])\n",
        "print('The daily standard deviation is {}'.format(std_daily))\n",
        "var_daily = std_daily ** 2\n",
        "print('The daily variance is {}'.format(var_daily))"
      ],
      "execution_count": 15,
      "outputs": [
        {
          "output_type": "stream",
          "text": [
            "The daily standard deviation is 0.019341100408708317\n",
            "The daily variance is 0.00037407816501973704\n"
          ],
          "name": "stdout"
        }
      ]
    },
    {
      "metadata": {
        "id": "WrTeREPd3uQ_",
        "colab_type": "text"
      },
      "cell_type": "markdown",
      "source": [
        "We can't annualize volaility (standard deviation) the same way we annualized the mean. We use the following formula to annualize sigma:\n",
        "\n",
        "```\n",
        "sigma_annualized = sigma_daily * sqrt(Number_of_trading_days)\n",
        "```\n",
        "\n",
        "And annualized variance will be the square of annualized standard deviation.\n",
        "    "
      ]
    },
    {
      "metadata": {
        "id": "NrBL-LXK4ZPY",
        "colab_type": "code",
        "colab": {
          "base_uri": "https://localhost:8080/",
          "height": 52
        },
        "outputId": "35fd8b8b-57fc-4fad-b82f-891470672504"
      },
      "cell_type": "code",
      "source": [
        "std_annualized = std_daily * np.sqrt(252)\n",
        "print('The annualized std is {}%'.format(std_annualized*100))\n",
        "variance_annualized = std_annualized ** 2\n",
        "print('The annualized variance is {}%'.format(variance_annualized*100))"
      ],
      "execution_count": 16,
      "outputs": [
        {
          "output_type": "stream",
          "text": [
            "The annualized std is 30.70304505826315%\n",
            "The annualized variance is 9.426769758497374%\n"
          ],
          "name": "stdout"
        }
      ]
    },
    {
      "metadata": {
        "id": "tU44wh3PyE0B",
        "colab_type": "text"
      },
      "cell_type": "markdown",
      "source": [
        "Let's calculate the third moment - Skewness\n",
        "\n",
        "For a stock, we would want positive skewness, i.e. a curve leaning towards the left. It means the probability of getting large positive returns is high, while the negative returns are closely clustered and predictable.\n",
        "\n",
        "Data which are normal distribution would have a skew closer to 0."
      ]
    },
    {
      "metadata": {
        "id": "FVPd5mVPyEXZ",
        "colab_type": "code",
        "colab": {
          "base_uri": "https://localhost:8080/",
          "height": 35
        },
        "outputId": "c565d09c-55d8-45c9-9ba0-af911c38cc25"
      },
      "cell_type": "code",
      "source": [
        "from scipy.stats import skew\n",
        "\n",
        "clean_returns = df_stock['Returns'].dropna()\n",
        "\n",
        "print('The skew of the returns of MSFT stock is {}'.format(skew(clean_returns)))"
      ],
      "execution_count": 17,
      "outputs": [
        {
          "output_type": "stream",
          "text": [
            "The skew of the returns of MSFT stock is 0.21935459193067852\n"
          ],
          "name": "stdout"
        }
      ]
    },
    {
      "metadata": {
        "id": "xZl38fk05s5A",
        "colab_type": "text"
      },
      "cell_type": "markdown",
      "source": [
        "Let's look at Kurtosis. Most financial returns are Letptokurtic. Meaning - it means that they tend to have positive excess kurtosis, or kurtosis > 3. \n",
        "\n",
        "Excess kurtosis: Subtract 3 from the sample kurtosis to calculate excess kurtosis.\n",
        "\n",
        "If excess Kurtosis is greater than 0, the kutosis is higher than  a normal distribution. The kurtosis function from scipy calculates excess kurtosis.\n",
        "\n",
        "In Finance, high excess kurtosis is an indication of high risk."
      ]
    },
    {
      "metadata": {
        "id": "B9JRWtMGyDU_",
        "colab_type": "code",
        "colab": {
          "base_uri": "https://localhost:8080/",
          "height": 52
        },
        "outputId": "8e8c96c3-738e-413d-fa84-12a1d7a07eb1"
      },
      "cell_type": "code",
      "source": [
        "from scipy.stats import kurtosis\n",
        "\n",
        "excess_kurtosis = kurtosis(clean_returns)\n",
        "\n",
        "print('Excess kurtosis is {}'.format(excess_kurtosis))\n",
        "\n",
        "forth_moment_kurtosis = excess_kurtosis + 3\n",
        "\n",
        "print('Forth moment - kurtosis is {}'.format(forth_moment_kurtosis))"
      ],
      "execution_count": 18,
      "outputs": [
        {
          "output_type": "stream",
          "text": [
            "Excess kurtosis is 10.31457261802553\n",
            "Forth moment - kurtosis is 13.31457261802553\n"
          ],
          "name": "stdout"
        }
      ]
    },
    {
      "metadata": {
        "id": "-4nDwPcwz_yS",
        "colab_type": "text"
      },
      "cell_type": "markdown",
      "source": [
        "Let's do a statistical test of normality to be sure whether the stock data are really normally distributed. The Shapiro-Wilk test is used to do just that.\n",
        "\n",
        "The shapiro function will return two values: t-stat & p-value\n",
        "\n",
        "if the p-value is low, we can safely reject the null hypothesis that the data are normally distributed."
      ]
    },
    {
      "metadata": {
        "id": "5gOTeuAB01mS",
        "colab_type": "code",
        "colab": {
          "base_uri": "https://localhost:8080/",
          "height": 35
        },
        "outputId": "da78ffcb-5bcd-4bd4-a223-ed759b20f3e4"
      },
      "cell_type": "code",
      "source": [
        "from scipy.stats import shapiro\n",
        "\n",
        "shapiro_result = shapiro(clean_returns)\n",
        "\n",
        "print('The p-value is {}'.format(shapiro_result[1]))"
      ],
      "execution_count": 19,
      "outputs": [
        {
          "output_type": "stream",
          "text": [
            "The p-value is 0.0\n"
          ],
          "name": "stdout"
        }
      ]
    },
    {
      "metadata": {
        "id": "_vMxQxyy1d4V",
        "colab_type": "text"
      },
      "cell_type": "markdown",
      "source": [
        "The p-value given by the test is 0.0 which is strong evidence against the null hypothesis. Thus we can be sure that the stock data are not normally distributed. "
      ]
    },
    {
      "metadata": {
        "id": "6-FNPaGBinrO",
        "colab_type": "text"
      },
      "cell_type": "markdown",
      "source": [
        "Let's now construct a portfolio. \n",
        "\n",
        "Apple \tAAPL \t12%\n",
        "\n",
        "Microsoft \tMSFT \t15%\n",
        "\n",
        "Exxon Mobil \tXOM \t8%\n",
        "\n",
        "Johnson & Johnson \tJNJ \t5%\n",
        "\n",
        "JP Morgan \tJPM \t9%\n",
        "\n",
        "Amazon \tAMZN \t10%\n",
        "\n",
        "General Electric \tGE \t11%\n",
        "\n",
        "Facebook \tFB \t14%\n",
        "\n",
        "AT&T \tT \t16%"
      ]
    },
    {
      "metadata": {
        "id": "vIyznubEneJM",
        "colab_type": "code",
        "colab": {}
      },
      "cell_type": "code",
      "source": [
        "#files.upload()"
      ],
      "execution_count": 0,
      "outputs": []
    },
    {
      "metadata": {
        "id": "RjAqSM-7Kpg5",
        "colab_type": "code",
        "colab": {}
      },
      "cell_type": "code",
      "source": [
        "#files.download('./StockReturns.csv')"
      ],
      "execution_count": 0,
      "outputs": []
    },
    {
      "metadata": {
        "id": "YPKXD1m4LLnO",
        "colab_type": "code",
        "colab": {
          "base_uri": "https://localhost:8080/",
          "height": 139
        },
        "outputId": "43879f99-f656-4506-a9e1-9c8259180350"
      },
      "cell_type": "code",
      "source": [
        "os.listdir()"
      ],
      "execution_count": 22,
      "outputs": [
        {
          "output_type": "execute_result",
          "data": {
            "text/plain": [
              "['sample_data',\n",
              " '.config',\n",
              " 'StockReturns.txt',\n",
              " 'StockPortfolio.csv',\n",
              " 'MSFTPrices.csv.txt',\n",
              " 'RandomPortfolios.txt',\n",
              " 'FamaFrenchData.csv']"
            ]
          },
          "metadata": {
            "tags": []
          },
          "execution_count": 22
        }
      ]
    },
    {
      "metadata": {
        "id": "ovdbZpD7qZRY",
        "colab_type": "code",
        "colab": {
          "base_uri": "https://localhost:8080/",
          "height": 233
        },
        "outputId": "8824362a-ffae-44dd-8d91-dcef947b1ff2"
      },
      "cell_type": "code",
      "source": [
        "df_StockReturns = pd.read_csv('StockPortfolio.csv', header=0, parse_dates=['Date'], index_col=['Date']) \n",
        "\n",
        "df_StockReturns.head()"
      ],
      "execution_count": 23,
      "outputs": [
        {
          "output_type": "execute_result",
          "data": {
            "text/html": [
              "<div>\n",
              "<style scoped>\n",
              "    .dataframe tbody tr th:only-of-type {\n",
              "        vertical-align: middle;\n",
              "    }\n",
              "\n",
              "    .dataframe tbody tr th {\n",
              "        vertical-align: top;\n",
              "    }\n",
              "\n",
              "    .dataframe thead th {\n",
              "        text-align: right;\n",
              "    }\n",
              "</style>\n",
              "<table border=\"1\" class=\"dataframe\">\n",
              "  <thead>\n",
              "    <tr style=\"text-align: right;\">\n",
              "      <th></th>\n",
              "      <th>AAPL</th>\n",
              "      <th>MSFT</th>\n",
              "      <th>XOM</th>\n",
              "      <th>JNJ</th>\n",
              "      <th>JPM</th>\n",
              "      <th>AMZN</th>\n",
              "      <th>GE</th>\n",
              "      <th>FB</th>\n",
              "      <th>T</th>\n",
              "    </tr>\n",
              "    <tr>\n",
              "      <th>Date</th>\n",
              "      <th></th>\n",
              "      <th></th>\n",
              "      <th></th>\n",
              "      <th></th>\n",
              "      <th></th>\n",
              "      <th></th>\n",
              "      <th></th>\n",
              "      <th></th>\n",
              "      <th></th>\n",
              "    </tr>\n",
              "  </thead>\n",
              "  <tbody>\n",
              "    <tr>\n",
              "      <th>2017-01-03</th>\n",
              "      <td>0.002849</td>\n",
              "      <td>0.007081</td>\n",
              "      <td>0.006980</td>\n",
              "      <td>0.005468</td>\n",
              "      <td>0.010894</td>\n",
              "      <td>0.005068</td>\n",
              "      <td>0.002848</td>\n",
              "      <td>0.015732</td>\n",
              "      <td>0.011521</td>\n",
              "    </tr>\n",
              "    <tr>\n",
              "      <th>2017-01-04</th>\n",
              "      <td>-0.001119</td>\n",
              "      <td>-0.004474</td>\n",
              "      <td>-0.011002</td>\n",
              "      <td>-0.001640</td>\n",
              "      <td>0.001844</td>\n",
              "      <td>0.004657</td>\n",
              "      <td>0.000316</td>\n",
              "      <td>0.015660</td>\n",
              "      <td>-0.005811</td>\n",
              "    </tr>\n",
              "    <tr>\n",
              "      <th>2017-01-05</th>\n",
              "      <td>0.005085</td>\n",
              "      <td>0.000000</td>\n",
              "      <td>-0.014907</td>\n",
              "      <td>0.010463</td>\n",
              "      <td>-0.009205</td>\n",
              "      <td>0.030732</td>\n",
              "      <td>-0.005678</td>\n",
              "      <td>0.016682</td>\n",
              "      <td>-0.002806</td>\n",
              "    </tr>\n",
              "    <tr>\n",
              "      <th>2017-01-06</th>\n",
              "      <td>0.011148</td>\n",
              "      <td>0.008668</td>\n",
              "      <td>-0.000565</td>\n",
              "      <td>-0.004792</td>\n",
              "      <td>0.000116</td>\n",
              "      <td>0.019912</td>\n",
              "      <td>0.002855</td>\n",
              "      <td>0.022707</td>\n",
              "      <td>-0.019924</td>\n",
              "    </tr>\n",
              "    <tr>\n",
              "      <th>2017-01-09</th>\n",
              "      <td>0.009159</td>\n",
              "      <td>-0.003183</td>\n",
              "      <td>-0.016497</td>\n",
              "      <td>-0.000172</td>\n",
              "      <td>0.000697</td>\n",
              "      <td>0.001168</td>\n",
              "      <td>-0.004745</td>\n",
              "      <td>0.012074</td>\n",
              "      <td>-0.012585</td>\n",
              "    </tr>\n",
              "  </tbody>\n",
              "</table>\n",
              "</div>"
            ],
            "text/plain": [
              "                AAPL      MSFT       XOM       JNJ       JPM      AMZN  \\\n",
              "Date                                                                     \n",
              "2017-01-03  0.002849  0.007081  0.006980  0.005468  0.010894  0.005068   \n",
              "2017-01-04 -0.001119 -0.004474 -0.011002 -0.001640  0.001844  0.004657   \n",
              "2017-01-05  0.005085  0.000000 -0.014907  0.010463 -0.009205  0.030732   \n",
              "2017-01-06  0.011148  0.008668 -0.000565 -0.004792  0.000116  0.019912   \n",
              "2017-01-09  0.009159 -0.003183 -0.016497 -0.000172  0.000697  0.001168   \n",
              "\n",
              "                  GE        FB         T  \n",
              "Date                                      \n",
              "2017-01-03  0.002848  0.015732  0.011521  \n",
              "2017-01-04  0.000316  0.015660 -0.005811  \n",
              "2017-01-05 -0.005678  0.016682 -0.002806  \n",
              "2017-01-06  0.002855  0.022707 -0.019924  \n",
              "2017-01-09 -0.004745  0.012074 -0.012585  "
            ]
          },
          "metadata": {
            "tags": []
          },
          "execution_count": 23
        }
      ]
    },
    {
      "metadata": {
        "id": "wGFg4lwUjdzZ",
        "colab_type": "code",
        "colab": {
          "base_uri": "https://localhost:8080/",
          "height": 363
        },
        "outputId": "ece3a8f3-6d27-47c9-d9c5-8890424f31da"
      },
      "cell_type": "code",
      "source": [
        "\n",
        "portfolio_weights = np.array([0.12, 0.15, 0.08, 0.05, 0.09, 0.10, 0.11, 0.14, 0.16])\n",
        "\n",
        "# Calculate the weighted stock returns\n",
        "WeightedReturns = df_StockReturns.mul(portfolio_weights, axis=1)\n",
        "\n",
        "df_StockReturns['Portfolio'] = WeightedReturns.sum(axis=1)\n",
        "\n",
        "# Plot the cumulative portfolio returns over time\n",
        "CumulativeReturns = ((1+df_StockReturns[\"Portfolio\"]).cumprod()-1)\n",
        "\n",
        "CumulativeReturns.plot()\n",
        "plt.xlabel('Time')\n",
        "plt.ylabel('Rate of Return')\n",
        "plt.title('Portfolio return prediction')\n",
        "plt.show()"
      ],
      "execution_count": 24,
      "outputs": [
        {
          "output_type": "display_data",
          "data": {
            "image/png": "[encoded data removed]",
            "text/plain": [
              "<matplotlib.figure.Figure at 0x7f60d7f35ba8>"
            ]
          },
          "metadata": {
            "tags": []
          }
        }
      ]
    },
    {
      "metadata": {
        "id": "AvqLdhw5M8Xo",
        "colab_type": "text"
      },
      "cell_type": "markdown",
      "source": [
        "### Equally waited portfolio\n",
        "\n",
        "And equally waited portfolio might be considered as a baseline model to which we can compare our actual portfolio allocation. Let's calculate the returns on an equally waited portfolio. \n",
        "\n",
        "First, let's create a function to plot the cumulative returns so that we don't have to repeat the same code every time."
      ]
    },
    {
      "metadata": {
        "id": "NXA_x5wMM8gm",
        "colab_type": "code",
        "colab": {}
      },
      "cell_type": "code",
      "source": [
        "def cumulative_returns_plot(cols):\n",
        "    CumulativeReturns = ((1+df_StockReturns[cols]).cumprod()-1)\n",
        "    CumulativeReturns.plot()\n",
        "    plt.show()"
      ],
      "execution_count": 0,
      "outputs": []
    },
    {
      "metadata": {
        "id": "oHPliPPzNrd9",
        "colab_type": "code",
        "colab": {
          "base_uri": "https://localhost:8080/",
          "height": 349
        },
        "outputId": "2edfd23a-48bf-4b98-8a76-b0940383662b"
      },
      "cell_type": "code",
      "source": [
        "number_of_stocks = 9\n",
        "portfolio_weights_ew = np.repeat([1/9],repeats=9)\n",
        "df_StockReturns['Portfolio_EW'] = df_StockReturns.iloc[:,:9].mul(portfolio_weights_ew, axis=1).sum(axis=1)\n",
        "\n",
        "cumulative_returns_plot(['Portfolio', 'Portfolio_EW'])"
      ],
      "execution_count": 26,
      "outputs": [
        {
          "output_type": "display_data",
          "data": {
            "image/png": "[encoded data removed]",
            "text/plain": [
              "<matplotlib.figure.Figure at 0x7f60d554ffd0>"
            ]
          },
          "metadata": {
            "tags": []
          }
        }
      ]
    },
    {
      "metadata": {
        "id": "yLf0e1L8QQ1Z",
        "colab_type": "text"
      },
      "cell_type": "markdown",
      "source": [
        "### Market Cap Weighted Portfolio\n",
        "\n",
        "In this approach, we assign weights in proportion to the market capital of the companies. The logic behind doing so, is that when large companies perform well, our portfolio will react to it accordingly. Following are the market capitals of the stocks in our portfolio in Billions.\n",
        "\n",
        "Apple\tAAPL\t601.51\n",
        "\n",
        "Microsoft\tMSFT\t469.25\n",
        "\n",
        "Exxon Mobil\tXOM\t349.5\n",
        "\n",
        "Johnson & Johnson\tJNJ\t310.48\n",
        "\n",
        "JP Morgan\tJPM\t299.77\n",
        "\n",
        "Amazon\tAMZN\t356.94\n",
        "\n",
        "General Electric\tGE\t268.88\n",
        "\n",
        "Facebook\tFB\t331.57\n",
        "\n",
        "AT&T\tT\t246.09"
      ]
    },
    {
      "metadata": {
        "id": "Rz5E8HB4TKCO",
        "colab_type": "code",
        "colab": {
          "base_uri": "https://localhost:8080/",
          "height": 349
        },
        "outputId": "0e823610-ba2a-4b33-d3bc-19ace786cef0"
      },
      "cell_type": "code",
      "source": [
        "market_capitalizations = np.array([601.51, 469.25, 349.5, 310.48, 299.77, 356.94, 268.88, 331.57, 246.09])\n",
        "\n",
        "mcap_weights = market_capitalizations/np.sum(market_capitalizations)\n",
        "\n",
        "df_StockReturns['Portfolio_MCap'] = df_StockReturns.iloc[:, 0:9].mul(mcap_weights, axis=1).sum(axis=1)\n",
        "\n",
        "cumulative_returns_plot(['Portfolio', 'Portfolio_EW', 'Portfolio_MCap'])"
      ],
      "execution_count": 27,
      "outputs": [
        {
          "output_type": "display_data",
          "data": {
            "image/png": "[encoded data removed]",
            "text/plain": [
              "<matplotlib.figure.Figure at 0x7f60d7f4dd30>"
            ]
          },
          "metadata": {
            "tags": []
          }
        }
      ]
    },
    {
      "metadata": {
        "id": "0koDskqOT5wK",
        "colab_type": "text"
      },
      "cell_type": "markdown",
      "source": [
        "The market cap weighted portfolio outperforms both equally weighted and our custom allocated one.\n",
        "\n",
        "Fun Fact: The S&P 500 Index of USA is market cap weighted."
      ]
    },
    {
      "metadata": {
        "id": "xI5l4sDBTwjo",
        "colab_type": "text"
      },
      "cell_type": "markdown",
      "source": [
        "### Correlation between the stocks\n",
        "\n",
        "Let's calculate the Pearson's correlation coeff between the stocks."
      ]
    },
    {
      "metadata": {
        "id": "LGhupidHgxk2",
        "colab_type": "code",
        "colab": {
          "base_uri": "https://localhost:8080/",
          "height": 225
        },
        "outputId": "1d5268b2-9b39-4111-c91e-daa09c22b109"
      },
      "cell_type": "code",
      "source": [
        "list(df_StockReturns.columns)"
      ],
      "execution_count": 28,
      "outputs": [
        {
          "output_type": "execute_result",
          "data": {
            "text/plain": [
              "['AAPL',\n",
              " 'MSFT',\n",
              " 'XOM',\n",
              " 'JNJ',\n",
              " 'JPM',\n",
              " 'AMZN',\n",
              " 'GE',\n",
              " 'FB',\n",
              " 'T',\n",
              " 'Portfolio',\n",
              " 'Portfolio_EW',\n",
              " 'Portfolio_MCap']"
            ]
          },
          "metadata": {
            "tags": []
          },
          "execution_count": 28
        }
      ]
    },
    {
      "metadata": {
        "id": "AKqxpXJhfpNp",
        "colab_type": "code",
        "colab": {
          "base_uri": "https://localhost:8080/",
          "height": 381
        },
        "outputId": "83f936ab-4bc4-433e-9cc7-a3d0cb32af10"
      },
      "cell_type": "code",
      "source": [
        "correlation_matrix = df_StockReturns[['AAPL',\n",
        " 'MSFT',\n",
        " 'XOM',\n",
        " 'JNJ',\n",
        " 'JPM',\n",
        " 'AMZN',\n",
        " 'GE',\n",
        " 'FB',\n",
        " 'T']].corr()\n",
        "print(correlation_matrix)"
      ],
      "execution_count": 29,
      "outputs": [
        {
          "output_type": "stream",
          "text": [
            "          AAPL      MSFT       XOM       JNJ       JPM      AMZN        GE  \\\n",
            "AAPL  1.000000  0.437430  0.055505  0.038432  0.199914  0.509472  0.006766   \n",
            "MSFT  0.437430  1.000000  0.084108  0.230215  0.191248  0.621096 -0.044827   \n",
            "XOM   0.055505  0.084108  1.000000  0.121012  0.305926  0.015118  0.193861   \n",
            "JNJ   0.038432  0.230215  0.121012  1.000000  0.070328  0.052781  0.067930   \n",
            "JPM   0.199914  0.191248  0.305926  0.070328  1.000000  0.013919  0.257401   \n",
            "AMZN  0.509472  0.621096  0.015118  0.052781  0.013919  1.000000 -0.092188   \n",
            "GE    0.006766 -0.044827  0.193861  0.067930  0.257401 -0.092188  1.000000   \n",
            "FB    0.542367  0.543341 -0.046813  0.079391  0.095245  0.653030 -0.024364   \n",
            "T     0.005082 -0.021079  0.197576  0.091622  0.252832 -0.017909  0.292706   \n",
            "\n",
            "            FB         T  \n",
            "AAPL  0.542367  0.005082  \n",
            "MSFT  0.543341 -0.021079  \n",
            "XOM  -0.046813  0.197576  \n",
            "JNJ   0.079391  0.091622  \n",
            "JPM   0.095245  0.252832  \n",
            "AMZN  0.653030 -0.017909  \n",
            "GE   -0.024364  0.292706  \n",
            "FB    1.000000 -0.024505  \n",
            "T    -0.024505  1.000000  \n"
          ],
          "name": "stdout"
        }
      ]
    },
    {
      "metadata": {
        "id": "LXh6Kvuzf0Zo",
        "colab_type": "text"
      },
      "cell_type": "markdown",
      "source": [
        "This is not very readable. Let's generate a heatmap of correlations instead."
      ]
    },
    {
      "metadata": {
        "id": "NdYakZGJf8Ug",
        "colab_type": "code",
        "colab": {
          "base_uri": "https://localhost:8080/",
          "height": 347
        },
        "outputId": "fc0e907e-6783-4bb5-e464-4cb5c1eafcfa"
      },
      "cell_type": "code",
      "source": [
        "import seaborn as sbn\n",
        "sbn.heatmap(correlation_matrix, \n",
        "            annot=True, \n",
        "            cmap='YlGnBu',\n",
        "           linewidths=0.3,\n",
        "           annot_kws = {'size':8})\n",
        "\n",
        "plt.xticks(rotation=0)\n",
        "plt.yticks(rotation=0)\n",
        "\n",
        "plt.show()"
      ],
      "execution_count": 30,
      "outputs": [
        {
          "output_type": "display_data",
          "data": {
            "image/png": "[encoded data removed]",
            "text/plain": [
              "<matplotlib.figure.Figure at 0x7f60d53d1668>"
            ]
          },
          "metadata": {
            "tags": []
          }
        }
      ]
    },
    {
      "metadata": {
        "id": "hP4mVvdmggoZ",
        "colab_type": "text"
      },
      "cell_type": "markdown",
      "source": [
        "The correlation matrix is very useful in investment analysis. Looking at the above matrix, we know that the Amazon has a positive correlation with Microsoft, Apple and Facebook. This is very useful information to predict the future behaviour of stocks.\n",
        "\n",
        "Now, let's calculate the covariance matrix."
      ]
    },
    {
      "metadata": {
        "id": "HwTnlfDfh6S7",
        "colab_type": "code",
        "colab": {
          "base_uri": "https://localhost:8080/",
          "height": 381
        },
        "outputId": "a68290a6-dc53-4194-b48c-8bf70a592e77"
      },
      "cell_type": "code",
      "source": [
        "cov_matrix = df_StockReturns[['AAPL',\n",
        " 'MSFT',\n",
        " 'XOM',\n",
        " 'JNJ',\n",
        " 'JPM',\n",
        " 'AMZN',\n",
        " 'GE',\n",
        " 'FB',\n",
        " 'T']].cov()\n",
        "\n",
        "# Annualize the covariance matrix\n",
        "\n",
        "cov_matrix_annual = cov_matrix * 252\n",
        "\n",
        "print(cov_matrix_annual)"
      ],
      "execution_count": 31,
      "outputs": [
        {
          "output_type": "stream",
          "text": [
            "          AAPL      MSFT       XOM       JNJ       JPM      AMZN        GE  \\\n",
            "AAPL  0.030996  0.011400  0.001093  0.000774  0.005716  0.018805  0.000236   \n",
            "MSFT  0.011400  0.021912  0.001392  0.003899  0.004597  0.019275 -0.001315   \n",
            "XOM   0.001093  0.001392  0.012500  0.001548  0.005554  0.000354  0.004295   \n",
            "JNJ   0.000774  0.003899  0.001548  0.013092  0.001307  0.001266  0.001540   \n",
            "JPM   0.005716  0.004597  0.005554  0.001307  0.026371  0.000474  0.008283   \n",
            "AMZN  0.018805  0.019275  0.000354  0.001266  0.000474  0.043954 -0.003830   \n",
            "GE    0.000236 -0.001315  0.004295  0.001540  0.008283 -0.003830  0.039270   \n",
            "FB    0.016243  0.013682 -0.000890  0.001545  0.002631  0.023290 -0.000821   \n",
            "T     0.000152 -0.000530  0.003751  0.001780  0.006972 -0.000638  0.009849   \n",
            "\n",
            "            FB         T  \n",
            "AAPL  0.016243  0.000152  \n",
            "MSFT  0.013682 -0.000530  \n",
            "XOM  -0.000890  0.003751  \n",
            "JNJ   0.001545  0.001780  \n",
            "JPM   0.002631  0.006972  \n",
            "AMZN  0.023290 -0.000638  \n",
            "GE   -0.000821  0.009849  \n",
            "FB    0.028937 -0.000708  \n",
            "T    -0.000708  0.028833  \n"
          ],
          "name": "stdout"
        }
      ]
    },
    {
      "metadata": {
        "id": "HSE1k3CjbbM_",
        "colab_type": "text"
      },
      "cell_type": "markdown",
      "source": [
        "Now, let's calculate the portfolio volatility. The formula for calculating it is -\n",
        "\n",
        "sigma = sqrt(w_T . covariance_matrix . w)\n",
        "\n",
        "w_T is the transpose of w. There is a dot product between the three quantities."
      ]
    },
    {
      "metadata": {
        "id": "xzoB2VHOi_b9",
        "colab_type": "code",
        "colab": {
          "base_uri": "https://localhost:8080/",
          "height": 35
        },
        "outputId": "8e786e6f-6a93-4ce4-da5b-80115a8cf062"
      },
      "cell_type": "code",
      "source": [
        "portfolio_volatility = np.sqrt(np.dot(portfolio_weights.T, np.dot(cov_matrix_annual, portfolio_weights)))\n",
        "\n",
        "print('The portfolio volatility is {}%'.format(portfolio_volatility * 100))"
      ],
      "execution_count": 32,
      "outputs": [
        {
          "output_type": "stream",
          "text": [
            "The portfolio volatility is 8.931417642713807%\n"
          ],
          "name": "stdout"
        }
      ]
    },
    {
      "metadata": {
        "id": "S0_MfwA2nspB",
        "colab_type": "text"
      },
      "cell_type": "markdown",
      "source": [
        "### Sharpe Ratios\n",
        "\n",
        "The Sharpe ratio is a simple metric to calculate the risk adjusted return. It helps you to understand how much risk is being taken to achieve a certain leve of return. We always seek to improve the Sharpe ratio and it is very commonly used to compare investment strategies.\n",
        "\n",
        "The original Sharpe Ratio as defined by William Sharpe is simply defined as -\n",
        "\n",
        "S = (R_a - r_f) / sigma_a\n",
        "\n",
        "Where, \n",
        "\n",
        "* S = Sharpe Ratio\n",
        "* R_a = Asset return\n",
        "* r_f = risk free rate of return\n",
        "* sigma_a = Asset volatility (standard deviation)\n",
        "\n"
      ]
    },
    {
      "metadata": {
        "id": "8iU2p2LHD7f_",
        "colab_type": "text"
      },
      "cell_type": "markdown",
      "source": [
        "Let me consider a few Randomly generated portfolios to calculate the Sharpe ratio. The file RandomPortfolios.txt contains some such weighted folios that will be useful for this calculation. Let's load the file into a dataframe."
      ]
    },
    {
      "metadata": {
        "id": "H0fc1hGPCe_a",
        "colab_type": "code",
        "colab": {}
      },
      "cell_type": "code",
      "source": [
        "#files.upload()"
      ],
      "execution_count": 0,
      "outputs": []
    },
    {
      "metadata": {
        "id": "Y9iRdAbRDhMg",
        "colab_type": "code",
        "colab": {}
      },
      "cell_type": "code",
      "source": [
        "df_RandomPortfolios = pd.read_csv('RandomPortfolios.txt', index_col = 'ind')"
      ],
      "execution_count": 0,
      "outputs": []
    },
    {
      "metadata": {
        "id": "8Msm5ZLKDjDS",
        "colab_type": "code",
        "colab": {
          "base_uri": "https://localhost:8080/",
          "height": 233
        },
        "outputId": "05b899ae-fdc1-49c4-a8e2-30011cd5e180"
      },
      "cell_type": "code",
      "source": [
        "df_RandomPortfolios.head()"
      ],
      "execution_count": 35,
      "outputs": [
        {
          "output_type": "execute_result",
          "data": {
            "text/html": [
              "<div>\n",
              "<style scoped>\n",
              "    .dataframe tbody tr th:only-of-type {\n",
              "        vertical-align: middle;\n",
              "    }\n",
              "\n",
              "    .dataframe tbody tr th {\n",
              "        vertical-align: top;\n",
              "    }\n",
              "\n",
              "    .dataframe thead th {\n",
              "        text-align: right;\n",
              "    }\n",
              "</style>\n",
              "<table border=\"1\" class=\"dataframe\">\n",
              "  <thead>\n",
              "    <tr style=\"text-align: right;\">\n",
              "      <th></th>\n",
              "      <th>AAPL weight</th>\n",
              "      <th>MSFT weight</th>\n",
              "      <th>XOM weight</th>\n",
              "      <th>JNJ weight</th>\n",
              "      <th>JPM weight</th>\n",
              "      <th>AMZN weight</th>\n",
              "      <th>GE weight</th>\n",
              "      <th>FB weight</th>\n",
              "      <th>T weight</th>\n",
              "      <th>Returns</th>\n",
              "      <th>Volatility</th>\n",
              "    </tr>\n",
              "    <tr>\n",
              "      <th>ind</th>\n",
              "      <th></th>\n",
              "      <th></th>\n",
              "      <th></th>\n",
              "      <th></th>\n",
              "      <th></th>\n",
              "      <th></th>\n",
              "      <th></th>\n",
              "      <th></th>\n",
              "      <th></th>\n",
              "      <th></th>\n",
              "      <th></th>\n",
              "    </tr>\n",
              "  </thead>\n",
              "  <tbody>\n",
              "    <tr>\n",
              "      <th>0</th>\n",
              "      <td>0.000053</td>\n",
              "      <td>0.263110</td>\n",
              "      <td>0.007022</td>\n",
              "      <td>0.040087</td>\n",
              "      <td>0.000027</td>\n",
              "      <td>0.024316</td>\n",
              "      <td>0.355899</td>\n",
              "      <td>0.299400</td>\n",
              "      <td>0.010087</td>\n",
              "      <td>0.127453</td>\n",
              "      <td>0.171565</td>\n",
              "    </tr>\n",
              "    <tr>\n",
              "      <th>1</th>\n",
              "      <td>0.042360</td>\n",
              "      <td>0.034922</td>\n",
              "      <td>0.079355</td>\n",
              "      <td>0.043057</td>\n",
              "      <td>0.001435</td>\n",
              "      <td>0.202032</td>\n",
              "      <td>0.225924</td>\n",
              "      <td>0.362324</td>\n",
              "      <td>0.008590</td>\n",
              "      <td>0.138614</td>\n",
              "      <td>0.182723</td>\n",
              "    </tr>\n",
              "    <tr>\n",
              "      <th>2</th>\n",
              "      <td>0.207824</td>\n",
              "      <td>0.002132</td>\n",
              "      <td>0.005982</td>\n",
              "      <td>0.041657</td>\n",
              "      <td>0.007498</td>\n",
              "      <td>0.406642</td>\n",
              "      <td>0.064929</td>\n",
              "      <td>0.229260</td>\n",
              "      <td>0.034075</td>\n",
              "      <td>0.155952</td>\n",
              "      <td>0.201185</td>\n",
              "    </tr>\n",
              "    <tr>\n",
              "      <th>3</th>\n",
              "      <td>0.096565</td>\n",
              "      <td>0.016775</td>\n",
              "      <td>0.118409</td>\n",
              "      <td>0.037725</td>\n",
              "      <td>0.020013</td>\n",
              "      <td>0.045195</td>\n",
              "      <td>0.512282</td>\n",
              "      <td>0.153015</td>\n",
              "      <td>0.000020</td>\n",
              "      <td>0.118787</td>\n",
              "      <td>0.148958</td>\n",
              "    </tr>\n",
              "    <tr>\n",
              "      <th>4</th>\n",
              "      <td>0.131309</td>\n",
              "      <td>0.002733</td>\n",
              "      <td>0.002360</td>\n",
              "      <td>0.047573</td>\n",
              "      <td>0.050633</td>\n",
              "      <td>0.289410</td>\n",
              "      <td>0.313717</td>\n",
              "      <td>0.157123</td>\n",
              "      <td>0.005141</td>\n",
              "      <td>0.138304</td>\n",
              "      <td>0.171473</td>\n",
              "    </tr>\n",
              "  </tbody>\n",
              "</table>\n",
              "</div>"
            ],
            "text/plain": [
              "     AAPL weight  MSFT weight  XOM weight  JNJ weight  JPM weight  \\\n",
              "ind                                                                 \n",
              "0       0.000053     0.263110    0.007022    0.040087    0.000027   \n",
              "1       0.042360     0.034922    0.079355    0.043057    0.001435   \n",
              "2       0.207824     0.002132    0.005982    0.041657    0.007498   \n",
              "3       0.096565     0.016775    0.118409    0.037725    0.020013   \n",
              "4       0.131309     0.002733    0.002360    0.047573    0.050633   \n",
              "\n",
              "     AMZN weight  GE weight  FB weight  T weight   Returns  Volatility  \n",
              "ind                                                                     \n",
              "0       0.024316   0.355899   0.299400  0.010087  0.127453    0.171565  \n",
              "1       0.202032   0.225924   0.362324  0.008590  0.138614    0.182723  \n",
              "2       0.406642   0.064929   0.229260  0.034075  0.155952    0.201185  \n",
              "3       0.045195   0.512282   0.153015  0.000020  0.118787    0.148958  \n",
              "4       0.289410   0.313717   0.157123  0.005141  0.138304    0.171473  "
            ]
          },
          "metadata": {
            "tags": []
          },
          "execution_count": 35
        }
      ]
    },
    {
      "metadata": {
        "id": "9WDnzWxSER2y",
        "colab_type": "text"
      },
      "cell_type": "markdown",
      "source": [
        "### Calculating the Sharpe Ratio\n",
        "\n",
        "For simplicity, let's assume the risk free rate of return to be 0. The Sharpe ratios would range from  0.742 to 2.27"
      ]
    },
    {
      "metadata": {
        "id": "ec8KbjqYHPX6",
        "colab_type": "code",
        "colab": {
          "base_uri": "https://localhost:8080/",
          "height": 69
        },
        "outputId": "a875d6fe-f329-4f8b-da95-595987bb442c"
      },
      "cell_type": "code",
      "source": [
        "risk_free = 0\n",
        "\n",
        "df_RandomPortfolios['Sharpe'] = ( df_RandomPortfolios['Returns'] - risk_free ) / df_RandomPortfolios['Volatility']\n",
        "\n",
        "print(df_RandomPortfolios['Sharpe'].describe()[['min','max']])"
      ],
      "execution_count": 36,
      "outputs": [
        {
          "output_type": "stream",
          "text": [
            "min    0.742884\n",
            "max    2.270462\n",
            "Name: Sharpe, dtype: float64\n"
          ],
          "name": "stdout"
        }
      ]
    },
    {
      "metadata": {
        "id": "7wweW-WpH5dE",
        "colab_type": "text"
      },
      "cell_type": "markdown",
      "source": [
        "Now let's see the returns given by the MSR (Maximum Sharpe Ratio) portfolio. To do that we'll need the weights associated with the portfolio having the highest MSR."
      ]
    },
    {
      "metadata": {
        "id": "1bgkCHJcYJe1",
        "colab_type": "code",
        "colab": {
          "base_uri": "https://localhost:8080/",
          "height": 349
        },
        "outputId": "e33efdbd-5ee8-4e99-dd00-deb99eda2a67"
      },
      "cell_type": "code",
      "source": [
        "# Sort the portfolio\n",
        "sorted_portfolio = df_RandomPortfolios.sort_values(by=['Sharpe'], ascending = False)\n",
        "\n",
        "# Extract the corresponding weights\n",
        "\n",
        "MSR_weights = sorted_portfolio.iloc[0, 0:number_of_stocks]\n",
        "\n",
        "# Cast the MSR_weights into a numpy array\n",
        "\n",
        "MSR_weights_array = np.array(MSR_weights)\n",
        "\n",
        "df_StockReturns['Portfolio_MSR'] = df_StockReturns.iloc[:,0:number_of_stocks].mul(MSR_weights_array, axis = 1).sum(axis=1) \n",
        "\n",
        "# plot the cumulative returns\n",
        "\n",
        "cumulative_returns_plot(['Portfolio_EW', 'Portfolio_MCap', 'Portfolio_MSR'])"
      ],
      "execution_count": 37,
      "outputs": [
        {
          "output_type": "display_data",
          "data": {
            "image/png": "[encoded data removed]",
            "text/plain": [
              "<matplotlib.figure.Figure at 0x7f60d537e2b0>"
            ]
          },
          "metadata": {
            "tags": []
          }
        }
      ]
    },
    {
      "metadata": {
        "id": "xIaLlXvRZ2OL",
        "colab_type": "text"
      },
      "cell_type": "markdown",
      "source": [
        "The MSR portfolio doesn't look very good. This was my first attempt to optimize a portfolio, although it indicates that past returns doesn't guarantee future results. Thus MSR portfolios are unstable.  "
      ]
    },
    {
      "metadata": {
        "id": "xu4_Lz39aieT",
        "colab_type": "text"
      },
      "cell_type": "markdown",
      "source": [
        "### GMV portfolio\n",
        "\n",
        "The global minimum volatility portfolio is the portfolio with the lowest standard deviation (risk) and highest rate of return at a given risk level.\n",
        "\n",
        "The GMV portfolios tend to be stable and often perform better than MSR portfolios. Let's plot it."
      ]
    },
    {
      "metadata": {
        "id": "Q7c1wFNYbRcp",
        "colab_type": "code",
        "colab": {
          "base_uri": "https://localhost:8080/",
          "height": 349
        },
        "outputId": "c790e3e0-ef82-4ab8-fe36-7c8d84be1d63"
      },
      "cell_type": "code",
      "source": [
        "sorted_portfolios = df_RandomPortfolios.sort_values(by=['Volatility'], ascending=True)\n",
        "\n",
        "GMV_weights = sorted_portfolios.iloc[0, 0:number_of_stocks]\n",
        "\n",
        "GMV_weights_array = np.array(GMV_weights)\n",
        "\n",
        "df_StockReturns['Portfolio_GMV'] = df_StockReturns.iloc[:, 0 : number_of_stocks].mul(GMV_weights_array, axis=1).sum(axis=1)\n",
        "\n",
        "cumulative_returns_plot(['Portfolio_EW', 'Portfolio_MCap', 'Portfolio_MSR', 'Portfolio_GMV'])"
      ],
      "execution_count": 38,
      "outputs": [
        {
          "output_type": "display_data",
          "data": {
            "image/png": "[encoded data removed]",
            "text/plain": [
              "<matplotlib.figure.Figure at 0x7f60d5395d68>"
            ]
          },
          "metadata": {
            "tags": []
          }
        }
      ]
    },
    {
      "metadata": {
        "id": "XRjSRoudc0RO",
        "colab_type": "text"
      },
      "cell_type": "markdown",
      "source": [
        "In the above plot, we can see that the GMV is more stable compared to the MSR portfolio. However, the returns are expected to be lower than other portfolios with higher risk, such as the market cap weighted portfolio."
      ]
    },
    {
      "metadata": {
        "id": "rb1yUGCgddPF",
        "colab_type": "text"
      },
      "cell_type": "markdown",
      "source": [
        "### Capital Asset Pricing Model\n",
        "\n",
        "To perform robust analysis of my returns, first subtract risk free rate of return from portfolio returns. The portfolio return minus risk free rate of return is known as Excess Portfolio Return. In the US, risk free rate of return of return is close to 0, but in India, it's more than that.\n",
        "\n",
        "Let's load a file called the FamaFrenchData that contains the required data for this calculation."
      ]
    },
    {
      "metadata": {
        "id": "_mSiEsm9F9ol",
        "colab_type": "code",
        "colab": {
          "base_uri": "https://localhost:8080/",
          "height": 202
        },
        "outputId": "6f860364-10e6-4637-9487-4315d91fb866"
      },
      "cell_type": "code",
      "source": [
        "df_FamaFrenchData = pd.read_csv('FamaFrenchData.csv', header = 0)\n",
        "df_FamaFrenchData.head()"
      ],
      "execution_count": 39,
      "outputs": [
        {
          "output_type": "execute_result",
          "data": {
            "text/html": [
              "<div>\n",
              "<style scoped>\n",
              "    .dataframe tbody tr th:only-of-type {\n",
              "        vertical-align: middle;\n",
              "    }\n",
              "\n",
              "    .dataframe tbody tr th {\n",
              "        vertical-align: top;\n",
              "    }\n",
              "\n",
              "    .dataframe thead th {\n",
              "        text-align: right;\n",
              "    }\n",
              "</style>\n",
              "<table border=\"1\" class=\"dataframe\">\n",
              "  <thead>\n",
              "    <tr style=\"text-align: right;\">\n",
              "      <th></th>\n",
              "      <th>Date</th>\n",
              "      <th>Portfolio</th>\n",
              "      <th>Market_Excess</th>\n",
              "      <th>SMB</th>\n",
              "      <th>HML</th>\n",
              "      <th>RMW</th>\n",
              "      <th>CMA</th>\n",
              "      <th>RF</th>\n",
              "    </tr>\n",
              "  </thead>\n",
              "  <tbody>\n",
              "    <tr>\n",
              "      <th>0</th>\n",
              "      <td>2013-01-03</td>\n",
              "      <td>-0.005066</td>\n",
              "      <td>-0.0014</td>\n",
              "      <td>0.0014</td>\n",
              "      <td>0.0004</td>\n",
              "      <td>0.0020</td>\n",
              "      <td>0.0023</td>\n",
              "      <td>0.000025</td>\n",
              "    </tr>\n",
              "    <tr>\n",
              "      <th>1</th>\n",
              "      <td>2013-01-04</td>\n",
              "      <td>0.004024</td>\n",
              "      <td>0.0055</td>\n",
              "      <td>0.0019</td>\n",
              "      <td>0.0043</td>\n",
              "      <td>-0.0037</td>\n",
              "      <td>0.0027</td>\n",
              "      <td>0.000025</td>\n",
              "    </tr>\n",
              "    <tr>\n",
              "      <th>2</th>\n",
              "      <td>2013-01-07</td>\n",
              "      <td>0.004421</td>\n",
              "      <td>-0.0031</td>\n",
              "      <td>-0.0009</td>\n",
              "      <td>-0.0037</td>\n",
              "      <td>-0.0013</td>\n",
              "      <td>-0.0012</td>\n",
              "      <td>0.000025</td>\n",
              "    </tr>\n",
              "    <tr>\n",
              "      <th>3</th>\n",
              "      <td>2013-01-08</td>\n",
              "      <td>-0.004659</td>\n",
              "      <td>-0.0027</td>\n",
              "      <td>0.0004</td>\n",
              "      <td>-0.0007</td>\n",
              "      <td>-0.0012</td>\n",
              "      <td>0.0009</td>\n",
              "      <td>0.000025</td>\n",
              "    </tr>\n",
              "    <tr>\n",
              "      <th>4</th>\n",
              "      <td>2013-01-09</td>\n",
              "      <td>0.004636</td>\n",
              "      <td>0.0034</td>\n",
              "      <td>0.0024</td>\n",
              "      <td>-0.0041</td>\n",
              "      <td>-0.0007</td>\n",
              "      <td>-0.0015</td>\n",
              "      <td>0.000025</td>\n",
              "    </tr>\n",
              "  </tbody>\n",
              "</table>\n",
              "</div>"
            ],
            "text/plain": [
              "         Date  Portfolio  Market_Excess     SMB     HML     RMW     CMA  \\\n",
              "0  2013-01-03  -0.005066        -0.0014  0.0014  0.0004  0.0020  0.0023   \n",
              "1  2013-01-04   0.004024         0.0055  0.0019  0.0043 -0.0037  0.0027   \n",
              "2  2013-01-07   0.004421        -0.0031 -0.0009 -0.0037 -0.0013 -0.0012   \n",
              "3  2013-01-08  -0.004659        -0.0027  0.0004 -0.0007 -0.0012  0.0009   \n",
              "4  2013-01-09   0.004636         0.0034  0.0024 -0.0041 -0.0007 -0.0015   \n",
              "\n",
              "         RF  \n",
              "0  0.000025  \n",
              "1  0.000025  \n",
              "2  0.000025  \n",
              "3  0.000025  \n",
              "4  0.000025  "
            ]
          },
          "metadata": {
            "tags": []
          },
          "execution_count": 39
        }
      ]
    },
    {
      "metadata": {
        "id": "ZF6pXUagyomK",
        "colab_type": "text"
      },
      "cell_type": "markdown",
      "source": [
        "Calculate excess portfolio returns by subtracting the risk free ('RF') column from the 'Portfolio' column in FamaFrenchData"
      ]
    },
    {
      "metadata": {
        "id": "lyg4uSwYIILr",
        "colab_type": "code",
        "colab": {
          "base_uri": "https://localhost:8080/",
          "height": 347
        },
        "outputId": "77d32af4-4a1c-419a-f239-01ac599f1d1b"
      },
      "cell_type": "code",
      "source": [
        "df_FamaFrenchData['Portfolio_Excess'] = df_FamaFrenchData['Portfolio'] - df_FamaFrenchData['RF']\n",
        "\n",
        "# plot returns vs excess returns\n",
        "\n",
        "CumulativeReturns = ((1+df_FamaFrenchData[['Portfolio','Portfolio_Excess']]).cumprod()-1)\n",
        "CumulativeReturns.plot()\n",
        "plt.show()"
      ],
      "execution_count": 40,
      "outputs": [
        {
          "output_type": "display_data",
          "data": {
            "image/png": "[encoded data removed]",
            "text/plain": [
              "<matplotlib.figure.Figure at 0x7f60d5445b70>"
            ]
          },
          "metadata": {
            "tags": []
          }
        }
      ]
    },
    {
      "metadata": {
        "id": "OO6SLv8NJW73",
        "colab_type": "text"
      },
      "cell_type": "markdown",
      "source": [
        "Notice in the above graph that the Excess return is slightly low, that is because the risk free rate has been low."
      ]
    },
    {
      "metadata": {
        "id": "IzrGrPdfJzVE",
        "colab_type": "text"
      },
      "cell_type": "markdown",
      "source": [
        "### Beta\n",
        "\n",
        "Beta is an essential component of many financial models, and is a measure of systematic risk, or exposure to the broad market. In the CAPM model, beta is one of two essential factors.\n",
        "\n",
        "β_P=Cov(R_P, R_B)/Var(R_B)\n",
        "\n",
        "Where \n",
        "\n",
        "* B_P = Portfolio beta\n",
        "* Cov(R_P, R_B) = The covariance between portfolio (P) and the benchmark market index (B)\n",
        "* Var(R_B) = The variance of the benchmark market index\n",
        "\n"
      ]
    },
    {
      "metadata": {
        "id": "2aL0F58OK6Kg",
        "colab_type": "code",
        "colab": {
          "base_uri": "https://localhost:8080/",
          "height": 35
        },
        "outputId": "6258dc79-5791-4d37-9dac-ccd641ea9bbb"
      },
      "cell_type": "code",
      "source": [
        "# Calculate the co-variance matrix between Portfolio_Excess and Market_Excess\n",
        "covariance_matrix = df_FamaFrenchData[['Portfolio_Excess', 'Market_Excess']].cov()\n",
        "\n",
        "# Extract the co-variance co-efficient\n",
        "covariance_coefficient = covariance_matrix.iloc[0, 1]\n",
        "print(covariance_coefficient)"
      ],
      "execution_count": 42,
      "outputs": [
        {
          "output_type": "stream",
          "text": [
            "5.7261263381549724e-05\n"
          ],
          "name": "stdout"
        }
      ]
    },
    {
      "metadata": {
        "id": "C-SMXXnrLlcF",
        "colab_type": "code",
        "colab": {
          "base_uri": "https://localhost:8080/",
          "height": 35
        },
        "outputId": "6307d37d-f9ec-49d8-b547-8cc11e747b37"
      },
      "cell_type": "code",
      "source": [
        "# Calculate the benchmark variance\n",
        "benchmark_variance = df_FamaFrenchData['Market_Excess'].var()\n",
        "print(benchmark_variance)"
      ],
      "execution_count": 44,
      "outputs": [
        {
          "output_type": "stream",
          "text": [
            "5.880335088211895e-05\n"
          ],
          "name": "stdout"
        }
      ]
    },
    {
      "metadata": {
        "id": "p-y0_I_pL21K",
        "colab_type": "code",
        "colab": {
          "base_uri": "https://localhost:8080/",
          "height": 35
        },
        "outputId": "70dc9aea-0231-4906-f8e4-20fef4ce1866"
      },
      "cell_type": "code",
      "source": [
        "# Calculating the portfolio market beta\n",
        "portfolio_beta = covariance_coefficient/benchmark_variance\n",
        "print(portfolio_beta)"
      ],
      "execution_count": 45,
      "outputs": [
        {
          "output_type": "stream",
          "text": [
            "0.973775516574547\n"
          ],
          "name": "stdout"
        }
      ]
    },
    {
      "metadata": {
        "id": "lKiklXxgMIL3",
        "colab_type": "text"
      },
      "cell_type": "markdown",
      "source": [
        "My portfolio beta is 0.97377 \n",
        "\n",
        "We can think of this number as the exposure to the broad stock market movements. For a 1% rise(fall) in the stock market, I expect my portfolio to rise(fall) by 0.97%"
      ]
    },
    {
      "metadata": {
        "id": "uWcVw_j5MnHS",
        "colab_type": "code",
        "colab": {}
      },
      "cell_type": "code",
      "source": [
        ""
      ],
      "execution_count": 0,
      "outputs": []
    }
  ]
}